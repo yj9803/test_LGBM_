{
  "nbformat": 4,
  "nbformat_minor": 0,
  "metadata": {
    "colab": {
      "name": "linewalks.ipynb",
      "provenance": [],
      "collapsed_sections": []
    },
    "kernelspec": {
      "name": "python3",
      "display_name": "Python 3"
    },
    "language_info": {
      "name": "python"
    }
  },
  "cells": [
    {
      "cell_type": "code",
      "metadata": {
        "id": "cSWi8JwoEbEh"
      },
      "source": [
        "import pandas as pd\n",
        "import numpy as np\n",
        "import matplotlib.pyplot as plt\n",
        "from matplotlib import rc\n",
        "import seaborn as sns\n",
        "%matplotlib inline\n",
        "rc('font', family='AppleGothic')\n",
        "plt.rcParams['axes.unicode_minus'] = False\n",
        "\n",
        "from collections import Counter"
      ],
      "execution_count": 40,
      "outputs": []
    },
    {
      "cell_type": "code",
      "metadata": {
        "id": "16B7TMFzEbZ5"
      },
      "source": [
        "def data_load(PATH):\n",
        "    visit_occurrence = pd.read_csv(PATH+'/visit_occurrence.csv')\n",
        "    person = pd.read_csv(PATH+'/person.csv')\n",
        "    condition_occurrence = pd.read_csv(PATH+'/condition_occurrence.csv')\n",
        "    drug_exposure = pd.read_csv(PATH+'/drug_exposure.csv')\n",
        "    concept = pd.read_csv(PATH+'/concept.csv')\n",
        "    death = pd.read_csv(PATH+'/death.csv')\n",
        "    \n",
        "    person = person[['person_id','gender_concept_id','birth_datetime','race_concept_id','ethnicity_concept_id']]\n",
        "    visit_occurrence = visit_occurrence[['visit_occurrence_id','person_id','visit_concept_id','visit_start_datetime',\n",
        "                                         'visit_end_datetime']]\n",
        "    condition_occurrence = condition_occurrence[['person_id','condition_concept_id','condition_start_datetime',\n",
        "                                                 'condition_end_datetime','visit_occurrence_id']]\n",
        "    drug_exposure = drug_exposure[['person_id','drug_concept_id','drug_exposure_start_datetime',\n",
        "                                   'drug_exposure_end_datetime','visit_occurrence_id']]\n",
        "    concept = concept[['concept_id','concept_name','domain_id']]\n",
        "    death = death[['person_id','death_date']]\n",
        "    \n",
        "    return visit_occurrence,person,condition_occurrence,drug_exposure,concept,death"
      ],
      "execution_count": 2,
      "outputs": []
    },
    {
      "cell_type": "code",
      "metadata": {
        "colab": {
          "base_uri": "https://localhost:8080/"
        },
        "id": "PU741m5PEczl",
        "outputId": "7ed57e5e-15cf-439f-af4b-180491d451b4"
      },
      "source": [
        "visit_occurrence,person,condition_occurrence,drug_exposure,concept,death = data_load(\"/content/drive/MyDrive/Colab Notebooks/linewalks\")"
      ],
      "execution_count": 3,
      "outputs": [
        {
          "output_type": "stream",
          "name": "stderr",
          "text": [
            "/usr/local/lib/python3.7/dist-packages/IPython/core/interactiveshell.py:2822: DtypeWarning: Columns (5,6,9) have mixed types.Specify dtype option on import or set low_memory=False.\n",
            "  if self.run_code(code, result):\n"
          ]
        }
      ]
    },
    {
      "cell_type": "code",
      "metadata": {
        "colab": {
          "base_uri": "https://localhost:8080/"
        },
        "id": "glnmPRYWEiPf",
        "outputId": "0ae4dbd9-b43e-478e-97ce-7603f7b49435"
      },
      "source": [
        "VER1 = pd.merge(person, visit_occurrence, on ='person_id', how = 'right')\n",
        "# merge의 결과로 하나의 방문에 (visit_start_datetime이 같음) 여러 visit_occurrence_id가 삽입되는 경우가 존재함\n",
        "# 그러나 person_id와 visit_start_datetime을 기준으로 중복되는 데이터를 삭제하지 않음 ==> 진단명에 따라 달라지는 경우가 존재하기에 삭제x\n",
        "\n",
        "VER1_test = VER1.copy()\n",
        "# 입원비율\n",
        "\n",
        "# 애초에 입원 비율이 낮음. 그렇다면 전체 환자 중 재입원 비율은 3%, \n",
        "len(VER1_test[VER1_test['visit_concept_id']==9201])/len(VER1_test)"
      ],
      "execution_count": 4,
      "outputs": [
        {
          "output_type": "execute_result",
          "data": {
            "text/plain": [
              "0.03130829944989237"
            ]
          },
          "metadata": {},
          "execution_count": 4
        }
      ]
    },
    {
      "cell_type": "code",
      "metadata": {
        "id": "evw7-1XfErhg"
      },
      "source": [
        "def make_datetime(VER1):\n",
        "    VER1_test = VER1.copy()\n",
        "    VER1_test['birth_datetime']       = pd.to_datetime(VER1_test['birth_datetime'])\n",
        "    VER1_test['visit_start_datetime'] = pd.to_datetime(VER1_test['visit_start_datetime'])\n",
        "    VER1_test['visit_end_datetime']   = pd.to_datetime(VER1_test['visit_end_datetime'])\n",
        "    return VER1_test\n",
        "\n",
        "def make_targetVariable(VER1):\n",
        "    VER1_test = VER1.copy()\n",
        "    VER1_test = VER1_test[VER1_test['visit_concept_id']==9201].reset_index(drop = True) # 재입원률을 계산하는 것이므로 입원 환자만\n",
        "    VER1_test['target'] = 0\n",
        "\n",
        "    for personId, target_df in VER1_test.groupby(by = ['person_id']):\n",
        "        # 환자 ID를 기준으로 재입원을 계산\n",
        "        target_df = target_df.sort_values(by = ['visit_start_datetime'], axis = 0)\n",
        "        target_df['timedelta'] = target_df['visit_start_datetime'] - target_df['visit_end_datetime'].shift(1)\n",
        "        target_df['timedelta'] = target_df['timedelta'].apply(lambda x: x.days)\n",
        "        target_df = target_df[(target_df['timedelta']>0)&(target_df['timedelta']<=30)].reset_index(drop = True)\n",
        "\n",
        "        list_Id = list(target_df['visit_end_datetime'].unique())\n",
        "        # visit_end_datetime을 기준으로 조회하는 이유는 여러 visit_occurrence_id가 기록되는 경우 존재. \n",
        "        # 아마 입원 중에 연속해서 각기 다른 병 진단이 내려진 것으로 추정\n",
        "        VER1_test.loc[(VER1_test['visit_end_datetime'].isin(list_Id))&(VER1_test['person_id']==personId), 'target'] =1\n",
        "    return VER1_test\n",
        "\n"
      ],
      "execution_count": 5,
      "outputs": []
    },
    {
      "cell_type": "code",
      "metadata": {
        "id": "t5CEzue-EsyU"
      },
      "source": [
        "VER1_test1 = make_datetime(VER1_test).copy()\n",
        "VER1_test2 = make_targetVariable(VER1_test1).copy()\n"
      ],
      "execution_count": 6,
      "outputs": []
    },
    {
      "cell_type": "code",
      "metadata": {
        "colab": {
          "base_uri": "https://localhost:8080/"
        },
        "id": "T8k1c30sEu_P",
        "outputId": "4a25ade4-d419-45c9-d6fe-336e1c4dde0d"
      },
      "source": [
        "len(VER1_test2[VER1_test2['target']==1])/len(VER1_test2)\n",
        "#재입원률은 약 24.5퍼센트"
      ],
      "execution_count": 7,
      "outputs": [
        {
          "output_type": "execute_result",
          "data": {
            "text/plain": [
              "0.2452253628724217"
            ]
          },
          "metadata": {},
          "execution_count": 7
        }
      ]
    },
    {
      "cell_type": "code",
      "metadata": {
        "id": "eseABiyzEwXg"
      },
      "source": [
        "# 한 번 방문했을 때 진단받은 condition과 drug를 리스트로 만들어서 변수화함\n",
        "\n",
        "def condition_conceptList(row,condition_occurrence):\n",
        "    \n",
        "    visit_occurrence_id = row['visit_occurrence_id']\n",
        "    target_df = condition_occurrence[condition_occurrence['visit_occurrence_id']==visit_occurrence_id].copy()\n",
        "    List_concept = list(target_df['condition_concept_id'].unique())\n",
        "    return List_concept\n",
        "\n",
        "def drug_conceptList(row,drug_exposure):\n",
        "    \n",
        "    visit_occurrence_id = row['visit_occurrence_id']\n",
        "    target_df = drug_exposure[drug_exposure['visit_occurrence_id']==visit_occurrence_id].copy()\n",
        "    List_concept = list(target_df['drug_concept_id'].unique())\n",
        "    return List_concept\n",
        "\n",
        "def make_ConditionDrug(VER1,condition_occurrence,drug_exposure):\n",
        "    VER1_test2 = VER1.copy()\n",
        "    VER1_test2['condition_conceptList'] = VER1_test2.apply(lambda x: condition_conceptList(x,condition_occurrence),axis = 1)\n",
        "    VER1_test2['drug_conceptList'] = VER1_test2.apply(lambda x: drug_conceptList(x,drug_exposure),axis = 1)\n",
        "    \n",
        "    return VER1_test2\n",
        "\n"
      ],
      "execution_count": 8,
      "outputs": []
    },
    {
      "cell_type": "code",
      "metadata": {
        "id": "BqNrfSIXExnt"
      },
      "source": [
        "VER1_test2 = make_ConditionDrug(VER1_test2,condition_occurrence,drug_exposure).copy()"
      ],
      "execution_count": 9,
      "outputs": []
    },
    {
      "cell_type": "code",
      "metadata": {
        "id": "QWjoCaWHEy1o"
      },
      "source": [
        "# gender, race를 보기 쉽게 숫자코드가 아닌 문자로 변환\n",
        "\n",
        "def gender_concept(row, concept):\n",
        "    gender_concept_id = row\n",
        "    concept_name = concept[concept['concept_id']==gender_concept_id]['concept_name'].values\n",
        "    return concept_name[0]\n",
        "\n",
        "def race_concept(row, concept):\n",
        "    race_concept_id = row\n",
        "    concept_name = concept[concept['concept_id']==race_concept_id]['concept_name'].values\n",
        "    return concept_name[0]\n",
        "\n",
        "\n",
        "def make_GenderRace(VER1,concept):\n",
        "    VER1_test2 = VER1.copy()\n",
        "    VER1_test2['gender_concept_name']    = VER1_test2['gender_concept_id'].apply(lambda x: gender_concept(x, concept))\n",
        "    VER1_test2['race_concept_name']      = VER1_test2['race_concept_id'].apply(lambda x: race_concept(x, concept))\n",
        "    return VER1_test2"
      ],
      "execution_count": 10,
      "outputs": []
    },
    {
      "cell_type": "code",
      "metadata": {
        "id": "R52qETdZE0DU"
      },
      "source": [
        "VER1_test2 = make_GenderRace(VER1_test2,concept).copy()"
      ],
      "execution_count": 11,
      "outputs": []
    },
    {
      "cell_type": "code",
      "metadata": {
        "id": "dYbYnL6UE1hd"
      },
      "source": [
        "def make_patientAge(VER1):\n",
        "    #환자 나이 계산 시점을 퇴원시기로 잡은 이유는 모델 가동시기가 퇴원시점이기 때문\n",
        "    VER1_test2 = VER1.copy()\n",
        "    VER1_test2['patientAge'] = VER1_test2['visit_end_datetime']-VER1_test2['birth_datetime']\n",
        "\n",
        "    VER1_test2['patientAge'] = VER1_test2['patientAge'].apply(lambda x: round(x.days/365.25))\n",
        "    \n",
        "    return VER1_test2"
      ],
      "execution_count": 12,
      "outputs": []
    },
    {
      "cell_type": "code",
      "metadata": {
        "id": "o_YpuKFQE3Mu"
      },
      "source": [
        "VER1_test2 = make_patientAge(VER1_test2).copy()"
      ],
      "execution_count": 13,
      "outputs": []
    },
    {
      "cell_type": "code",
      "metadata": {
        "colab": {
          "base_uri": "https://localhost:8080/",
          "height": 403
        },
        "id": "yWo9EbptE4aM",
        "outputId": "19dc672d-6b19-4fef-e670-6faae42c683b"
      },
      "source": [
        "#입원환자 케이스의 성별간 나이 분포\n",
        "sns.displot(VER1_test2, x = 'patientAge',bins = 20, hue = 'gender_concept_name' )"
      ],
      "execution_count": 14,
      "outputs": [
        {
          "output_type": "stream",
          "name": "stderr",
          "text": [
            "findfont: Font family ['AppleGothic'] not found. Falling back to DejaVu Sans.\n"
          ]
        },
        {
          "output_type": "execute_result",
          "data": {
            "text/plain": [
              "<seaborn.axisgrid.FacetGrid at 0x7f89a1ab46d0>"
            ]
          },
          "metadata": {},
          "execution_count": 14
        },
        {
          "output_type": "display_data",
          "data": {
            "image/png": "[encoded data removed]",
            "text/plain": [
              "<Figure size 481.375x360 with 1 Axes>"
            ]
          },
          "metadata": {
            "needs_background": "light"
          }
        }
      ]
    },
    {
      "cell_type": "code",
      "metadata": {
        "colab": {
          "base_uri": "https://localhost:8080/",
          "height": 386
        },
        "id": "nGWLhiyIE5wz",
        "outputId": "fd52cc7a-6015-4600-f6dd-f95e2280d9a6"
      },
      "source": [
        "#재입원한 환자 케이스의 성별간 나이 분포\n",
        "sns.displot(VER1_test2[VER1_test2['target']==1], x = 'patientAge',bins = 20, hue = 'gender_concept_name' )"
      ],
      "execution_count": 15,
      "outputs": [
        {
          "output_type": "execute_result",
          "data": {
            "text/plain": [
              "<seaborn.axisgrid.FacetGrid at 0x7f8997de4a50>"
            ]
          },
          "metadata": {},
          "execution_count": 15
        },
        {
          "output_type": "display_data",
          "data": {
            "image/png": "[encoded data removed]",
            "text/plain": [
              "<Figure size 481.375x360 with 1 Axes>"
            ]
          },
          "metadata": {
            "needs_background": "light"
          }
        }
      ]
    },
    {
      "cell_type": "code",
      "metadata": {
        "colab": {
          "base_uri": "https://localhost:8080/",
          "height": 386
        },
        "id": "m8gDYvP-E7O4",
        "outputId": "9be638e1-d27d-4e91-9c2d-209a3cf3f362"
      },
      "source": [
        "#입원환자 케이스 중 인종 분포\n",
        "sns.displot(VER1_test2[VER1_test2['target']==1], x = 'patientAge',bins = 20, hue = 'race_concept_name' )"
      ],
      "execution_count": 16,
      "outputs": [
        {
          "output_type": "execute_result",
          "data": {
            "text/plain": [
              "<seaborn.axisgrid.FacetGrid at 0x7f89666d1850>"
            ]
          },
          "metadata": {},
          "execution_count": 16
        },
        {
          "output_type": "display_data",
          "data": {
            "image/png": "[encoded data removed]",
            "text/plain": [
              "<Figure size 525.375x360 with 1 Axes>"
            ]
          },
          "metadata": {
            "needs_background": "light"
          }
        }
      ]
    },
    {
      "cell_type": "code",
      "metadata": {
        "colab": {
          "base_uri": "https://localhost:8080/",
          "height": 386
        },
        "id": "fN-OQYHaE8eN",
        "outputId": "6a81d3e8-3a92-4a3f-96fe-dccccc8c8868"
      },
      "source": [
        "#재입원한 환자 케이스의 인종 분포\n",
        "sns.displot(VER1_test2, x = 'patientAge',bins = 20, hue = 'race_concept_name' )"
      ],
      "execution_count": 17,
      "outputs": [
        {
          "output_type": "execute_result",
          "data": {
            "text/plain": [
              "<seaborn.axisgrid.FacetGrid at 0x7f89a262fd10>"
            ]
          },
          "metadata": {},
          "execution_count": 17
        },
        {
          "output_type": "display_data",
          "data": {
            "image/png": "[encoded data removed]",
            "text/plain": [
              "<Figure size 525.375x360 with 1 Axes>"
            ]
          },
          "metadata": {
            "needs_background": "light"
          }
        }
      ]
    },
    {
      "cell_type": "code",
      "metadata": {
        "colab": {
          "base_uri": "https://localhost:8080/"
        },
        "id": "024QW4kcE94H",
        "outputId": "daa642ce-5bc9-4390-eb46-a8c999908cbc"
      },
      "source": [
        "white = len(VER1_test2[(VER1_test2['race_concept_name']=='White')&(VER1_test2['target']==1)])/len(VER1_test2[VER1_test2['race_concept_name']=='White'])\n",
        "Asian = len(VER1_test2[(VER1_test2['race_concept_name']=='Asian')&(VER1_test2['target']==1)])/len(VER1_test2[VER1_test2['race_concept_name']=='Asian'])\n",
        "Black = len(VER1_test2[(VER1_test2['race_concept_name']=='Black or African American')&(VER1_test2['target']==1)])/len(VER1_test2[VER1_test2['race_concept_name']=='Black or African American'])\n",
        "\n",
        "print(\"백인 재입원 비율 : {:.2F}\".format(white))\n",
        "print(\"동양인 재입원 비율 : {:.2F}\".format(Asian))\n",
        "print(\"흑인 재입원 비율 : {:.2F}\".format(Black))\n",
        "# 비록 백인과 동양인, 흑인의 비율이 각각 다르지만(백인이 압도적으로 많음)\n",
        "# 인종별 재입원율이 최대 15%가량 차이가 나는 것으로 확인됨\n"
      ],
      "execution_count": 18,
      "outputs": [
        {
          "output_type": "stream",
          "name": "stdout",
          "text": [
            "백인 재입원 비율 : 0.25\n",
            "동양인 재입원 비율 : 0.35\n",
            "흑인 재입원 비율 : 0.20\n"
          ]
        }
      ]
    },
    {
      "cell_type": "code",
      "metadata": {
        "id": "NszEh42oE_Fz"
      },
      "source": [
        "def print_targetRatioConcept(VER1):\n",
        "    VER1_test2  = VER1.copy()\n",
        "    target_idx  = []\n",
        "    target_idx2 = []\n",
        "    for idx in VER1_test2.index:\n",
        "        if len(VER1_test2.at[idx, 'condition_conceptList'])==0 :\n",
        "            target_idx.append(idx)\n",
        "            if VER1_test2.at[idx, 'target'] ==1 :\n",
        "                target_idx2.append(idx)\n",
        "    print(\"컨디션 컨셉이 0인 경우 재입원 비율 : {:.2F}\".format(len(target_idx2)/len(target_idx)))\n",
        "\n",
        "    target_idx_2  = []\n",
        "    target_idx2_2 = []\n",
        "    for idx in VER1_test2.index:\n",
        "        if len(VER1_test2.at[idx, 'drug_conceptList'])==0 :\n",
        "            target_idx_2.append(idx)\n",
        "            if VER1_test2.at[idx, 'target'] ==1 :\n",
        "                target_idx2_2.append(idx)\n",
        "\n",
        "    print(\"약물 컨셉이 0인 경우 재입원 비율 : {:.2F}\".format(len(target_idx2_2)/len(target_idx_2)))\n",
        "\n"
      ],
      "execution_count": 19,
      "outputs": []
    },
    {
      "cell_type": "code",
      "metadata": {
        "colab": {
          "base_uri": "https://localhost:8080/"
        },
        "id": "1qm_-fyyFAMN",
        "outputId": "7d977e07-fb1d-4442-c2bc-08016a898d8b"
      },
      "source": [
        "print_targetRatioConcept(VER1_test2)\n",
        "# 컨디션 컨셉이 0인 경우는 재입원 비율이 평균보다 높음\n",
        "# 약물 컨셉이 0인 경우는 재입원 비율이 거의 없음"
      ],
      "execution_count": 20,
      "outputs": [
        {
          "output_type": "stream",
          "name": "stdout",
          "text": [
            "컨디션 컨셉이 0인 경우 재입원 비율 : 0.33\n",
            "약물 컨셉이 0인 경우 재입원 비율 : 0.04\n"
          ]
        }
      ]
    },
    {
      "cell_type": "code",
      "metadata": {
        "colab": {
          "base_uri": "https://localhost:8080/"
        },
        "id": "nthUtHInFBeO",
        "outputId": "08b14d34-8265-4fcb-d5eb-e527a4e4ca12"
      },
      "source": [
        "list_of_cast_names = list(VER1_test2[VER1_test2['target']==1]['condition_conceptList'].apply(lambda x: [i for i in x] if len(x) != 0 else []).values)\n",
        "Counter([i for j in list_of_cast_names for i in j]).most_common(40)\n",
        "#condition_concept은 재입원의 경우를 특정하기 어려움\n"
      ],
      "execution_count": 21,
      "outputs": [
        {
          "output_type": "execute_result",
          "data": {
            "text/plain": [
              "[(40481087, 1), (4309027, 1), (255848, 1), (437390, 1), (4158346, 1)]"
            ]
          },
          "metadata": {},
          "execution_count": 21
        }
      ]
    },
    {
      "cell_type": "code",
      "metadata": {
        "colab": {
          "base_uri": "https://localhost:8080/"
        },
        "id": "k5iCTIbyFC80",
        "outputId": "c42b38d7-8464-4863-87f7-8742f3091f52"
      },
      "source": [
        "list_of_cast_names = list(VER1_test2[VER1_test2['target']==1]['drug_conceptList'].apply(lambda x: [i for i in x] if len(x) != 0 else []).values)\n",
        "Counter([i for j in list_of_cast_names for i in j]).most_common(40)\n",
        "#drug_concept은 재입원의 경우를 특정가능해보임. \n",
        "#1378388,35604087의 경우는 동일한 숫자를 지닌 것으로 보아 같이 처방되는 약으로 추정\n"
      ],
      "execution_count": 22,
      "outputs": [
        {
          "output_type": "execute_result",
          "data": {
            "text/plain": [
              "[(1378388, 296),\n",
              " (35604087, 296),\n",
              " (1713671, 1),\n",
              " (40224172, 1),\n",
              " (40169281, 1),\n",
              " (19127663, 1),\n",
              " (40171902, 1),\n",
              " (19018935, 1),\n",
              " (40163554, 1),\n",
              " (40213154, 1),\n",
              " (40174880, 1),\n",
              " (40231925, 1),\n",
              " (40160973, 1),\n",
              " (19020053, 1)]"
            ]
          },
          "metadata": {},
          "execution_count": 22
        }
      ]
    },
    {
      "cell_type": "code",
      "metadata": {
        "id": "65O2QUfEFEOA"
      },
      "source": [
        "def make_PeriodYear(VER1):\n",
        "    VER1_test3 = VER1.copy()\n",
        "    VER1_test3['period'] = VER1_test3['visit_end_datetime']-VER1_test3['visit_start_datetime']\n",
        "    VER1_test3['period'] = VER1_test3['period'].apply(lambda x: x.days)\n",
        "    VER1_test3['visit_start_y'] = VER1_test3['visit_start_datetime'].apply(lambda x: x.year)\n",
        "    \n",
        "    return VER1_test3\n",
        "\n",
        "#EDA결과물을 데이터에 반영\n",
        "def make_dataProcessed(VER1):\n",
        "    VER1_test3 = VER1.copy()\n",
        "    VER1_test3['lenzero_condition_conceptList'] = VER1_test3['condition_conceptList'].apply(lambda x: 1 if len(x)==0 else 0)\n",
        "    VER1_test3['lenzero_drug_conceptList'] = VER1_test3['drug_conceptList'].apply(lambda x: 1 if len(x)==0 else 0)\n",
        "    VER1_test3['gender_concept_name'] = VER1_test3['gender_concept_name'].apply(lambda x: 1 if x ==\"MALE\" else 0)\n",
        "    VER1_test3['drug_special'] = 0\n",
        "\n",
        "    # EDA결과로 나온 약물 처방 변수 조작\n",
        "    for idx in VER1_test3.index:\n",
        "        if 1378388 in VER1_test3.at[idx, 'drug_conceptList']:\n",
        "            VER1_test3.at[idx, 'drug_special'] = 1\n",
        "    # 인종변수 인코딩\n",
        "    VER1_test3['race_concept_name'] = VER1_test3['race_concept_name'].apply(lambda x: 0 if x==\"White\" else (1 if x =='Asian' else -1))\n",
        "\n",
        "    VER1_test3 = VER1_test3[['target', 'gender_concept_name',\n",
        "           'race_concept_name', 'patientAge', 'period', 'visit_start_y',\n",
        "           'lenzero_condition_conceptList', 'lenzero_drug_conceptList',\n",
        "           'drug_special']]\n",
        "    \n",
        "    return VER1_test3"
      ],
      "execution_count": 23,
      "outputs": []
    },
    {
      "cell_type": "code",
      "metadata": {
        "colab": {
          "base_uri": "https://localhost:8080/",
          "height": 419
        },
        "id": "1Cq5mCG4FFhO",
        "outputId": "309349c8-39dc-4f6f-8ccf-2dd6374ff221"
      },
      "source": [
        "VER1_test3 = make_PeriodYear(VER1_test2).copy()\n",
        "VER1_test3 = make_dataProcessed(VER1_test3).copy()\n",
        "VER1_test3"
      ],
      "execution_count": 24,
      "outputs": [
        {
          "output_type": "execute_result",
          "data": {
            "text/html": [
              "<div>\n",
              "<style scoped>\n",
              "    .dataframe tbody tr th:only-of-type {\n",
              "        vertical-align: middle;\n",
              "    }\n",
              "\n",
              "    .dataframe tbody tr th {\n",
              "        vertical-align: top;\n",
              "    }\n",
              "\n",
              "    .dataframe thead th {\n",
              "        text-align: right;\n",
              "    }\n",
              "</style>\n",
              "<table border=\"1\" class=\"dataframe\">\n",
              "  <thead>\n",
              "    <tr style=\"text-align: right;\">\n",
              "      <th></th>\n",
              "      <th>target</th>\n",
              "      <th>gender_concept_name</th>\n",
              "      <th>race_concept_name</th>\n",
              "      <th>patientAge</th>\n",
              "      <th>period</th>\n",
              "      <th>visit_start_y</th>\n",
              "      <th>lenzero_condition_conceptList</th>\n",
              "      <th>lenzero_drug_conceptList</th>\n",
              "      <th>drug_special</th>\n",
              "    </tr>\n",
              "  </thead>\n",
              "  <tbody>\n",
              "    <tr>\n",
              "      <th>0</th>\n",
              "      <td>0</td>\n",
              "      <td>1</td>\n",
              "      <td>0</td>\n",
              "      <td>68</td>\n",
              "      <td>1</td>\n",
              "      <td>2017</td>\n",
              "      <td>0</td>\n",
              "      <td>1</td>\n",
              "      <td>0</td>\n",
              "    </tr>\n",
              "    <tr>\n",
              "      <th>1</th>\n",
              "      <td>1</td>\n",
              "      <td>1</td>\n",
              "      <td>0</td>\n",
              "      <td>68</td>\n",
              "      <td>1</td>\n",
              "      <td>2017</td>\n",
              "      <td>1</td>\n",
              "      <td>1</td>\n",
              "      <td>0</td>\n",
              "    </tr>\n",
              "    <tr>\n",
              "      <th>2</th>\n",
              "      <td>1</td>\n",
              "      <td>1</td>\n",
              "      <td>0</td>\n",
              "      <td>68</td>\n",
              "      <td>41</td>\n",
              "      <td>2017</td>\n",
              "      <td>1</td>\n",
              "      <td>1</td>\n",
              "      <td>0</td>\n",
              "    </tr>\n",
              "    <tr>\n",
              "      <th>3</th>\n",
              "      <td>1</td>\n",
              "      <td>1</td>\n",
              "      <td>0</td>\n",
              "      <td>68</td>\n",
              "      <td>40</td>\n",
              "      <td>2017</td>\n",
              "      <td>1</td>\n",
              "      <td>1</td>\n",
              "      <td>0</td>\n",
              "    </tr>\n",
              "    <tr>\n",
              "      <th>4</th>\n",
              "      <td>1</td>\n",
              "      <td>1</td>\n",
              "      <td>0</td>\n",
              "      <td>68</td>\n",
              "      <td>39</td>\n",
              "      <td>2017</td>\n",
              "      <td>1</td>\n",
              "      <td>1</td>\n",
              "      <td>0</td>\n",
              "    </tr>\n",
              "    <tr>\n",
              "      <th>...</th>\n",
              "      <td>...</td>\n",
              "      <td>...</td>\n",
              "      <td>...</td>\n",
              "      <td>...</td>\n",
              "      <td>...</td>\n",
              "      <td>...</td>\n",
              "      <td>...</td>\n",
              "      <td>...</td>\n",
              "      <td>...</td>\n",
              "    </tr>\n",
              "    <tr>\n",
              "      <th>1304</th>\n",
              "      <td>0</td>\n",
              "      <td>0</td>\n",
              "      <td>0</td>\n",
              "      <td>77</td>\n",
              "      <td>1</td>\n",
              "      <td>2013</td>\n",
              "      <td>1</td>\n",
              "      <td>1</td>\n",
              "      <td>0</td>\n",
              "    </tr>\n",
              "    <tr>\n",
              "      <th>1305</th>\n",
              "      <td>0</td>\n",
              "      <td>0</td>\n",
              "      <td>0</td>\n",
              "      <td>82</td>\n",
              "      <td>1</td>\n",
              "      <td>2018</td>\n",
              "      <td>1</td>\n",
              "      <td>1</td>\n",
              "      <td>0</td>\n",
              "    </tr>\n",
              "    <tr>\n",
              "      <th>1306</th>\n",
              "      <td>0</td>\n",
              "      <td>1</td>\n",
              "      <td>0</td>\n",
              "      <td>68</td>\n",
              "      <td>1</td>\n",
              "      <td>2005</td>\n",
              "      <td>1</td>\n",
              "      <td>0</td>\n",
              "      <td>0</td>\n",
              "    </tr>\n",
              "    <tr>\n",
              "      <th>1307</th>\n",
              "      <td>0</td>\n",
              "      <td>1</td>\n",
              "      <td>0</td>\n",
              "      <td>64</td>\n",
              "      <td>11</td>\n",
              "      <td>2020</td>\n",
              "      <td>0</td>\n",
              "      <td>0</td>\n",
              "      <td>0</td>\n",
              "    </tr>\n",
              "    <tr>\n",
              "      <th>1308</th>\n",
              "      <td>0</td>\n",
              "      <td>0</td>\n",
              "      <td>0</td>\n",
              "      <td>33</td>\n",
              "      <td>1</td>\n",
              "      <td>2018</td>\n",
              "      <td>1</td>\n",
              "      <td>0</td>\n",
              "      <td>0</td>\n",
              "    </tr>\n",
              "  </tbody>\n",
              "</table>\n",
              "<p>1309 rows × 9 columns</p>\n",
              "</div>"
            ],
            "text/plain": [
              "      target  gender_concept_name  ...  lenzero_drug_conceptList  drug_special\n",
              "0          0                    1  ...                         1             0\n",
              "1          1                    1  ...                         1             0\n",
              "2          1                    1  ...                         1             0\n",
              "3          1                    1  ...                         1             0\n",
              "4          1                    1  ...                         1             0\n",
              "...      ...                  ...  ...                       ...           ...\n",
              "1304       0                    0  ...                         1             0\n",
              "1305       0                    0  ...                         1             0\n",
              "1306       0                    1  ...                         0             0\n",
              "1307       0                    1  ...                         0             0\n",
              "1308       0                    0  ...                         0             0\n",
              "\n",
              "[1309 rows x 9 columns]"
            ]
          },
          "metadata": {},
          "execution_count": 24
        }
      ]
    },
    {
      "cell_type": "code",
      "metadata": {
        "id": "jvpJgtRsHOU0"
      },
      "source": [
        "import lightgbm as lgb\n",
        "from sklearn.metrics import *\n",
        "from sklearn.model_selection import KFold\n",
        "\n",
        "params = {'bagging_fraction': 0.6,\n",
        " 'learning_rate': 0.05,\n",
        " 'max_depth': 20,\n",
        " 'num_boost_round': 700,\n",
        " 'num_leaves': 28}\n",
        "\n",
        "train_x = VER1_test3.drop(['target'],axis = 1)\n",
        "train_y = VER1_test3[['target']]"
      ],
      "execution_count": 36,
      "outputs": []
    },
    {
      "cell_type": "code",
      "metadata": {
        "colab": {
          "base_uri": "https://localhost:8080/",
          "height": 419
        },
        "id": "e2SryN_mHQ0z",
        "outputId": "1ab1211e-a49e-42fb-9988-6717301fdd12"
      },
      "source": [
        "train_y"
      ],
      "execution_count": 37,
      "outputs": [
        {
          "output_type": "execute_result",
          "data": {
            "text/html": [
              "<div>\n",
              "<style scoped>\n",
              "    .dataframe tbody tr th:only-of-type {\n",
              "        vertical-align: middle;\n",
              "    }\n",
              "\n",
              "    .dataframe tbody tr th {\n",
              "        vertical-align: top;\n",
              "    }\n",
              "\n",
              "    .dataframe thead th {\n",
              "        text-align: right;\n",
              "    }\n",
              "</style>\n",
              "<table border=\"1\" class=\"dataframe\">\n",
              "  <thead>\n",
              "    <tr style=\"text-align: right;\">\n",
              "      <th></th>\n",
              "      <th>target</th>\n",
              "    </tr>\n",
              "  </thead>\n",
              "  <tbody>\n",
              "    <tr>\n",
              "      <th>0</th>\n",
              "      <td>0</td>\n",
              "    </tr>\n",
              "    <tr>\n",
              "      <th>1</th>\n",
              "      <td>1</td>\n",
              "    </tr>\n",
              "    <tr>\n",
              "      <th>2</th>\n",
              "      <td>1</td>\n",
              "    </tr>\n",
              "    <tr>\n",
              "      <th>3</th>\n",
              "      <td>1</td>\n",
              "    </tr>\n",
              "    <tr>\n",
              "      <th>4</th>\n",
              "      <td>1</td>\n",
              "    </tr>\n",
              "    <tr>\n",
              "      <th>...</th>\n",
              "      <td>...</td>\n",
              "    </tr>\n",
              "    <tr>\n",
              "      <th>1304</th>\n",
              "      <td>0</td>\n",
              "    </tr>\n",
              "    <tr>\n",
              "      <th>1305</th>\n",
              "      <td>0</td>\n",
              "    </tr>\n",
              "    <tr>\n",
              "      <th>1306</th>\n",
              "      <td>0</td>\n",
              "    </tr>\n",
              "    <tr>\n",
              "      <th>1307</th>\n",
              "      <td>0</td>\n",
              "    </tr>\n",
              "    <tr>\n",
              "      <th>1308</th>\n",
              "      <td>0</td>\n",
              "    </tr>\n",
              "  </tbody>\n",
              "</table>\n",
              "<p>1309 rows × 1 columns</p>\n",
              "</div>"
            ],
            "text/plain": [
              "      target\n",
              "0          0\n",
              "1          1\n",
              "2          1\n",
              "3          1\n",
              "4          1\n",
              "...      ...\n",
              "1304       0\n",
              "1305       0\n",
              "1306       0\n",
              "1307       0\n",
              "1308       0\n",
              "\n",
              "[1309 rows x 1 columns]"
            ]
          },
          "metadata": {},
          "execution_count": 37
        }
      ]
    },
    {
      "cell_type": "code",
      "metadata": {
        "colab": {
          "base_uri": "https://localhost:8080/"
        },
        "id": "aGe3lW5hFGnP",
        "outputId": "221017f8-407d-41a9-adbe-0350cf714f9b"
      },
      "source": [
        "\n",
        "# Train\n",
        "#-------------------------------------------------------------------------------------\n",
        "# validation auc score를 확인하기 위해 정의\n",
        "def f_pr_auc(probas_pred, y_true):\n",
        "    labels=y_true.get_label()\n",
        "    p, r, _ = precision_recall_curve(labels, probas_pred)\n",
        "    score=auc(r,p) \n",
        "    return \"pr_auc\", score, True\n",
        "#-------------------------------------------------------------------------------------\n",
        "models     = []\n",
        "recalls    = []\n",
        "precisions = []\n",
        "auc_scores   = []\n",
        "threshold = 0.5\n",
        "# 파라미터 설정\n",
        "parameters =   {\n",
        "                'boosting_type' : 'dart',\n",
        "                'objective'     : 'binary',\n",
        "                'metric'        : 'auc',\n",
        "                'seed': 1015,\n",
        "                'learning_rate' : params['learning_rate'],\n",
        "                'max_depth': int(params['max_depth']),\n",
        "                'num_leaves': int(params['num_leaves']),\n",
        "                'bagging_fraction': params['bagging_fraction']\n",
        "                }\n",
        "#-------------------------------------------------------------------------------------\n",
        "# 10 Kfold cross validation\n",
        "k_fold = KFold(n_splits=10, shuffle=True, random_state=42)\n",
        "for train_idx, val_idx in k_fold.split(train_x):\n",
        "\n",
        "    # split train, validation set\n",
        "    X = train_x.loc[train_idx,:]\n",
        "    y = train_y.loc[train_idx,:]\n",
        "    valid_x = train_x.loc[val_idx,:]\n",
        "    valid_y = train_y.loc[val_idx,:]\n",
        "\n",
        "    d_train= lgb.Dataset(X, y)\n",
        "    d_val  = lgb.Dataset(valid_x, valid_y)\n",
        "\n",
        "    #run traning\n",
        "    model = lgb.train(\n",
        "                        parameters,\n",
        "                        train_set       = d_train,\n",
        "                        num_boost_round = int(params['num_boost_round']),\n",
        "                        valid_sets      = d_val,\n",
        "                        feval           = f_pr_auc,\n",
        "                        verbose_eval    = 20, \n",
        "                        early_stopping_rounds = 3\n",
        "                       )\n",
        "\n",
        "    # cal valid prediction\n",
        "    valid_prob = model.predict(valid_x)\n",
        "    valid_pred = np.where(valid_prob > threshold, 1, 0)\n",
        "\n",
        "    # cal scores\n",
        "    recall    = recall_score(    valid_y, valid_pred)\n",
        "    precision = precision_score( valid_y, valid_pred)\n",
        "    auc_score = roc_auc_score(   valid_y, valid_prob)\n",
        "\n",
        "    # append scores\n",
        "    models.append(model)\n",
        "    recalls.append(recall)\n",
        "    precisions.append(precision)\n",
        "    auc_scores.append(auc_score)\n",
        "\n",
        "    print('==========================================================')\n"
      ],
      "execution_count": 41,
      "outputs": [
        {
          "output_type": "stream",
          "name": "stderr",
          "text": [
            "/usr/local/lib/python3.7/dist-packages/lightgbm/callback.py:189: UserWarning: Early stopping is not available in dart mode\n",
            "  warnings.warn('Early stopping is not available in dart mode')\n"
          ]
        },
        {
          "output_type": "stream",
          "name": "stdout",
          "text": [
            "[20]\tvalid_0's auc: 0.915347\tvalid_0's pr_auc: 0.623354\n",
            "[40]\tvalid_0's auc: 0.916172\tvalid_0's pr_auc: 0.643215\n",
            "[60]\tvalid_0's auc: 0.921122\tvalid_0's pr_auc: 0.644277\n",
            "[80]\tvalid_0's auc: 0.927063\tvalid_0's pr_auc: 0.655295\n",
            "[100]\tvalid_0's auc: 0.927393\tvalid_0's pr_auc: 0.657048\n",
            "[120]\tvalid_0's auc: 0.930693\tvalid_0's pr_auc: 0.669008\n",
            "[140]\tvalid_0's auc: 0.933003\tvalid_0's pr_auc: 0.669758\n",
            "[160]\tvalid_0's auc: 0.932673\tvalid_0's pr_auc: 0.665152\n",
            "[180]\tvalid_0's auc: 0.934983\tvalid_0's pr_auc: 0.677085\n",
            "[200]\tvalid_0's auc: 0.936634\tvalid_0's pr_auc: 0.683464\n",
            "[220]\tvalid_0's auc: 0.935974\tvalid_0's pr_auc: 0.683341\n",
            "[240]\tvalid_0's auc: 0.935974\tvalid_0's pr_auc: 0.681474\n",
            "[260]\tvalid_0's auc: 0.935974\tvalid_0's pr_auc: 0.680868\n",
            "[280]\tvalid_0's auc: 0.937624\tvalid_0's pr_auc: 0.684446\n",
            "[300]\tvalid_0's auc: 0.939109\tvalid_0's pr_auc: 0.692554\n",
            "[320]\tvalid_0's auc: 0.940429\tvalid_0's pr_auc: 0.697836\n",
            "[340]\tvalid_0's auc: 0.940099\tvalid_0's pr_auc: 0.699294\n",
            "[360]\tvalid_0's auc: 0.941419\tvalid_0's pr_auc: 0.703058\n",
            "[380]\tvalid_0's auc: 0.941419\tvalid_0's pr_auc: 0.704381\n",
            "[400]\tvalid_0's auc: 0.942409\tvalid_0's pr_auc: 0.707039\n",
            "[420]\tvalid_0's auc: 0.942079\tvalid_0's pr_auc: 0.706174\n",
            "[440]\tvalid_0's auc: 0.942409\tvalid_0's pr_auc: 0.708097\n",
            "[460]\tvalid_0's auc: 0.942739\tvalid_0's pr_auc: 0.711483\n",
            "[480]\tvalid_0's auc: 0.943399\tvalid_0's pr_auc: 0.7154\n",
            "[500]\tvalid_0's auc: 0.942244\tvalid_0's pr_auc: 0.709864\n",
            "[520]\tvalid_0's auc: 0.942244\tvalid_0's pr_auc: 0.709864\n",
            "[540]\tvalid_0's auc: 0.943234\tvalid_0's pr_auc: 0.713082\n",
            "[560]\tvalid_0's auc: 0.943894\tvalid_0's pr_auc: 0.717071\n",
            "[580]\tvalid_0's auc: 0.943234\tvalid_0's pr_auc: 0.712756\n",
            "[600]\tvalid_0's auc: 0.943894\tvalid_0's pr_auc: 0.713333\n",
            "[620]\tvalid_0's auc: 0.943234\tvalid_0's pr_auc: 0.710842\n",
            "[640]\tvalid_0's auc: 0.943234\tvalid_0's pr_auc: 0.709166\n",
            "[660]\tvalid_0's auc: 0.943894\tvalid_0's pr_auc: 0.711167\n",
            "[680]\tvalid_0's auc: 0.943564\tvalid_0's pr_auc: 0.70864\n",
            "[700]\tvalid_0's auc: 0.943234\tvalid_0's pr_auc: 0.705763\n",
            "==========================================================\n",
            "[20]\tvalid_0's auc: 0.891815\tvalid_0's pr_auc: 0.658632\n",
            "[40]\tvalid_0's auc: 0.89003\tvalid_0's pr_auc: 0.625915\n",
            "[60]\tvalid_0's auc: 0.89628\tvalid_0's pr_auc: 0.638507\n",
            "[80]\tvalid_0's auc: 0.897173\tvalid_0's pr_auc: 0.641192\n",
            "[100]\tvalid_0's auc: 0.898958\tvalid_0's pr_auc: 0.644486\n"
          ]
        },
        {
          "output_type": "stream",
          "name": "stderr",
          "text": [
            "/usr/local/lib/python3.7/dist-packages/lightgbm/callback.py:189: UserWarning: Early stopping is not available in dart mode\n",
            "  warnings.warn('Early stopping is not available in dart mode')\n"
          ]
        },
        {
          "output_type": "stream",
          "name": "stdout",
          "text": [
            "[120]\tvalid_0's auc: 0.900149\tvalid_0's pr_auc: 0.652339\n",
            "[140]\tvalid_0's auc: 0.899554\tvalid_0's pr_auc: 0.647948\n",
            "[160]\tvalid_0's auc: 0.899851\tvalid_0's pr_auc: 0.648018\n",
            "[180]\tvalid_0's auc: 0.898661\tvalid_0's pr_auc: 0.646129\n",
            "[200]\tvalid_0's auc: 0.901488\tvalid_0's pr_auc: 0.654504\n",
            "[220]\tvalid_0's auc: 0.899405\tvalid_0's pr_auc: 0.64719\n",
            "[240]\tvalid_0's auc: 0.906399\tvalid_0's pr_auc: 0.680181\n",
            "[260]\tvalid_0's auc: 0.916518\tvalid_0's pr_auc: 0.715442\n",
            "[280]\tvalid_0's auc: 0.917411\tvalid_0's pr_auc: 0.727899\n",
            "[300]\tvalid_0's auc: 0.920089\tvalid_0's pr_auc: 0.734949\n",
            "[320]\tvalid_0's auc: 0.92128\tvalid_0's pr_auc: 0.735736\n",
            "[340]\tvalid_0's auc: 0.92247\tvalid_0's pr_auc: 0.73751\n",
            "[360]\tvalid_0's auc: 0.923958\tvalid_0's pr_auc: 0.740285\n",
            "[380]\tvalid_0's auc: 0.923065\tvalid_0's pr_auc: 0.734551\n",
            "[400]\tvalid_0's auc: 0.923363\tvalid_0's pr_auc: 0.73435\n",
            "[420]\tvalid_0's auc: 0.923661\tvalid_0's pr_auc: 0.736442\n",
            "[440]\tvalid_0's auc: 0.924851\tvalid_0's pr_auc: 0.739517\n",
            "[460]\tvalid_0's auc: 0.924256\tvalid_0's pr_auc: 0.741337\n",
            "[480]\tvalid_0's auc: 0.923958\tvalid_0's pr_auc: 0.742383\n",
            "[500]\tvalid_0's auc: 0.923065\tvalid_0's pr_auc: 0.748415\n",
            "[520]\tvalid_0's auc: 0.923065\tvalid_0's pr_auc: 0.746564\n",
            "[540]\tvalid_0's auc: 0.921875\tvalid_0's pr_auc: 0.743093\n",
            "[560]\tvalid_0's auc: 0.920387\tvalid_0's pr_auc: 0.727948\n",
            "[580]\tvalid_0's auc: 0.920387\tvalid_0's pr_auc: 0.726907\n",
            "[600]\tvalid_0's auc: 0.920982\tvalid_0's pr_auc: 0.721177\n",
            "[620]\tvalid_0's auc: 0.921875\tvalid_0's pr_auc: 0.72181\n",
            "[640]\tvalid_0's auc: 0.923065\tvalid_0's pr_auc: 0.729474\n",
            "[660]\tvalid_0's auc: 0.92247\tvalid_0's pr_auc: 0.719469\n",
            "[680]\tvalid_0's auc: 0.920982\tvalid_0's pr_auc: 0.709822\n",
            "[700]\tvalid_0's auc: 0.920685\tvalid_0's pr_auc: 0.709342\n",
            "==========================================================\n",
            "[20]\tvalid_0's auc: 0.941413\tvalid_0's pr_auc: 0.806893\n"
          ]
        },
        {
          "output_type": "stream",
          "name": "stderr",
          "text": [
            "/usr/local/lib/python3.7/dist-packages/lightgbm/callback.py:189: UserWarning: Early stopping is not available in dart mode\n",
            "  warnings.warn('Early stopping is not available in dart mode')\n"
          ]
        },
        {
          "output_type": "stream",
          "name": "stdout",
          "text": [
            "[40]\tvalid_0's auc: 0.940744\tvalid_0's pr_auc: 0.808054\n",
            "[60]\tvalid_0's auc: 0.941011\tvalid_0's pr_auc: 0.804704\n",
            "[80]\tvalid_0's auc: 0.942616\tvalid_0's pr_auc: 0.81293\n",
            "[100]\tvalid_0's auc: 0.942081\tvalid_0's pr_auc: 0.80545\n",
            "[120]\tvalid_0's auc: 0.945559\tvalid_0's pr_auc: 0.822044\n",
            "[140]\tvalid_0's auc: 0.948234\tvalid_0's pr_auc: 0.838515\n",
            "[160]\tvalid_0's auc: 0.946094\tvalid_0's pr_auc: 0.822839\n",
            "[180]\tvalid_0's auc: 0.947164\tvalid_0's pr_auc: 0.833912\n",
            "[200]\tvalid_0's auc: 0.950642\tvalid_0's pr_auc: 0.852167\n",
            "[220]\tvalid_0's auc: 0.95198\tvalid_0's pr_auc: 0.855295\n",
            "[240]\tvalid_0's auc: 0.954922\tvalid_0's pr_auc: 0.864755\n",
            "[260]\tvalid_0's auc: 0.963216\tvalid_0's pr_auc: 0.891487\n",
            "[280]\tvalid_0's auc: 0.961878\tvalid_0's pr_auc: 0.883488\n",
            "[300]\tvalid_0's auc: 0.964018\tvalid_0's pr_auc: 0.895222\n",
            "[320]\tvalid_0's auc: 0.964018\tvalid_0's pr_auc: 0.888016\n",
            "[340]\tvalid_0's auc: 0.965891\tvalid_0's pr_auc: 0.902191\n",
            "[360]\tvalid_0's auc: 0.967496\tvalid_0's pr_auc: 0.900878\n",
            "[380]\tvalid_0's auc: 0.966961\tvalid_0's pr_auc: 0.894884\n",
            "[400]\tvalid_0's auc: 0.968031\tvalid_0's pr_auc: 0.897342\n",
            "[420]\tvalid_0's auc: 0.968031\tvalid_0's pr_auc: 0.897512\n",
            "[440]\tvalid_0's auc: 0.968566\tvalid_0's pr_auc: 0.89892\n",
            "[460]\tvalid_0's auc: 0.969636\tvalid_0's pr_auc: 0.905882\n",
            "[480]\tvalid_0's auc: 0.970974\tvalid_0's pr_auc: 0.911939\n",
            "[500]\tvalid_0's auc: 0.970171\tvalid_0's pr_auc: 0.905729\n",
            "[520]\tvalid_0's auc: 0.970439\tvalid_0's pr_auc: 0.906626\n",
            "[540]\tvalid_0's auc: 0.970706\tvalid_0's pr_auc: 0.907109\n",
            "[560]\tvalid_0's auc: 0.971509\tvalid_0's pr_auc: 0.908617\n",
            "[580]\tvalid_0's auc: 0.970974\tvalid_0's pr_auc: 0.907664\n",
            "[600]\tvalid_0's auc: 0.970974\tvalid_0's pr_auc: 0.907663\n",
            "[620]\tvalid_0's auc: 0.970974\tvalid_0's pr_auc: 0.907659\n",
            "[640]\tvalid_0's auc: 0.970706\tvalid_0's pr_auc: 0.906689\n",
            "[660]\tvalid_0's auc: 0.970439\tvalid_0's pr_auc: 0.905726\n",
            "[680]\tvalid_0's auc: 0.970171\tvalid_0's pr_auc: 0.900315\n",
            "[700]\tvalid_0's auc: 0.969904\tvalid_0's pr_auc: 0.899732\n",
            "==========================================================\n"
          ]
        },
        {
          "output_type": "stream",
          "name": "stderr",
          "text": [
            "/usr/local/lib/python3.7/dist-packages/lightgbm/callback.py:189: UserWarning: Early stopping is not available in dart mode\n",
            "  warnings.warn('Early stopping is not available in dart mode')\n"
          ]
        },
        {
          "output_type": "stream",
          "name": "stdout",
          "text": [
            "[20]\tvalid_0's auc: 0.936062\tvalid_0's pr_auc: 0.760727\n",
            "[40]\tvalid_0's auc: 0.936865\tvalid_0's pr_auc: 0.777739\n",
            "[60]\tvalid_0's auc: 0.937132\tvalid_0's pr_auc: 0.793426\n",
            "[80]\tvalid_0's auc: 0.937667\tvalid_0's pr_auc: 0.78572\n",
            "[100]\tvalid_0's auc: 0.93954\tvalid_0's pr_auc: 0.796112\n",
            "[120]\tvalid_0's auc: 0.944088\tvalid_0's pr_auc: 0.797488\n",
            "[140]\tvalid_0's auc: 0.945425\tvalid_0's pr_auc: 0.800753\n",
            "[160]\tvalid_0's auc: 0.945693\tvalid_0's pr_auc: 0.800859\n",
            "[180]\tvalid_0's auc: 0.946763\tvalid_0's pr_auc: 0.805581\n",
            "[200]\tvalid_0's auc: 0.942483\tvalid_0's pr_auc: 0.785059\n",
            "[220]\tvalid_0's auc: 0.944623\tvalid_0's pr_auc: 0.790071\n",
            "[240]\tvalid_0's auc: 0.947833\tvalid_0's pr_auc: 0.803073\n",
            "[260]\tvalid_0's auc: 0.948368\tvalid_0's pr_auc: 0.843199\n",
            "[280]\tvalid_0's auc: 0.949171\tvalid_0's pr_auc: 0.85389\n",
            "[300]\tvalid_0's auc: 0.949171\tvalid_0's pr_auc: 0.853643\n",
            "[320]\tvalid_0's auc: 0.948903\tvalid_0's pr_auc: 0.853127\n",
            "[340]\tvalid_0's auc: 0.948903\tvalid_0's pr_auc: 0.853053\n",
            "[360]\tvalid_0's auc: 0.946763\tvalid_0's pr_auc: 0.842867\n",
            "[380]\tvalid_0's auc: 0.946228\tvalid_0's pr_auc: 0.841794\n",
            "[400]\tvalid_0's auc: 0.945158\tvalid_0's pr_auc: 0.838882\n",
            "[420]\tvalid_0's auc: 0.94489\tvalid_0's pr_auc: 0.838422\n",
            "[440]\tvalid_0's auc: 0.945425\tvalid_0's pr_auc: 0.839764\n",
            "[460]\tvalid_0's auc: 0.94596\tvalid_0's pr_auc: 0.847531\n",
            "[480]\tvalid_0's auc: 0.944088\tvalid_0's pr_auc: 0.840818\n",
            "[500]\tvalid_0's auc: 0.944088\tvalid_0's pr_auc: 0.840818\n",
            "[520]\tvalid_0's auc: 0.94489\tvalid_0's pr_auc: 0.84297\n",
            "[540]\tvalid_0's auc: 0.943553\tvalid_0's pr_auc: 0.840467\n",
            "[560]\tvalid_0's auc: 0.943285\tvalid_0's pr_auc: 0.845865\n",
            "[580]\tvalid_0's auc: 0.947298\tvalid_0's pr_auc: 0.856999\n",
            "[600]\tvalid_0's auc: 0.946362\tvalid_0's pr_auc: 0.851991\n",
            "[620]\tvalid_0's auc: 0.945559\tvalid_0's pr_auc: 0.844461\n",
            "[640]\tvalid_0's auc: 0.945024\tvalid_0's pr_auc: 0.843707\n",
            "[660]\tvalid_0's auc: 0.944623\tvalid_0's pr_auc: 0.844124\n",
            "[680]\tvalid_0's auc: 0.944088\tvalid_0's pr_auc: 0.841446\n",
            "[700]\tvalid_0's auc: 0.943018\tvalid_0's pr_auc: 0.839599\n",
            "==========================================================\n",
            "[20]\tvalid_0's auc: 0.921612\tvalid_0's pr_auc: 0.568782\n",
            "[40]\tvalid_0's auc: 0.914835\tvalid_0's pr_auc: 0.545331\n",
            "[60]\tvalid_0's auc: 0.915934\tvalid_0's pr_auc: 0.541526\n",
            "[80]\tvalid_0's auc: 0.917033\tvalid_0's pr_auc: 0.542989\n",
            "[100]\tvalid_0's auc: 0.916667\tvalid_0's pr_auc: 0.540703\n"
          ]
        },
        {
          "output_type": "stream",
          "name": "stderr",
          "text": [
            "/usr/local/lib/python3.7/dist-packages/lightgbm/callback.py:189: UserWarning: Early stopping is not available in dart mode\n",
            "  warnings.warn('Early stopping is not available in dart mode')\n"
          ]
        },
        {
          "output_type": "stream",
          "name": "stdout",
          "text": [
            "[120]\tvalid_0's auc: 0.918864\tvalid_0's pr_auc: 0.549099\n",
            "[140]\tvalid_0's auc: 0.919963\tvalid_0's pr_auc: 0.550378\n",
            "[160]\tvalid_0's auc: 0.919963\tvalid_0's pr_auc: 0.550361\n",
            "[180]\tvalid_0's auc: 0.919231\tvalid_0's pr_auc: 0.549371\n",
            "[200]\tvalid_0's auc: 0.920696\tvalid_0's pr_auc: 0.556396\n",
            "[220]\tvalid_0's auc: 0.922527\tvalid_0's pr_auc: 0.563238\n",
            "[240]\tvalid_0's auc: 0.923626\tvalid_0's pr_auc: 0.571775\n",
            "[260]\tvalid_0's auc: 0.922527\tvalid_0's pr_auc: 0.616332\n",
            "[280]\tvalid_0's auc: 0.923626\tvalid_0's pr_auc: 0.620661\n",
            "[300]\tvalid_0's auc: 0.921795\tvalid_0's pr_auc: 0.613398\n",
            "[320]\tvalid_0's auc: 0.921429\tvalid_0's pr_auc: 0.612627\n",
            "[340]\tvalid_0's auc: 0.921795\tvalid_0's pr_auc: 0.617465\n",
            "[360]\tvalid_0's auc: 0.921795\tvalid_0's pr_auc: 0.617996\n",
            "[380]\tvalid_0's auc: 0.921795\tvalid_0's pr_auc: 0.617477\n",
            "[400]\tvalid_0's auc: 0.919963\tvalid_0's pr_auc: 0.612336\n",
            "[420]\tvalid_0's auc: 0.919597\tvalid_0's pr_auc: 0.610013\n",
            "[440]\tvalid_0's auc: 0.919597\tvalid_0's pr_auc: 0.610013\n",
            "[460]\tvalid_0's auc: 0.921429\tvalid_0's pr_auc: 0.630913\n",
            "[480]\tvalid_0's auc: 0.921795\tvalid_0's pr_auc: 0.638713\n",
            "[500]\tvalid_0's auc: 0.92326\tvalid_0's pr_auc: 0.652626\n",
            "[520]\tvalid_0's auc: 0.922161\tvalid_0's pr_auc: 0.648269\n",
            "[540]\tvalid_0's auc: 0.922894\tvalid_0's pr_auc: 0.651147\n",
            "[560]\tvalid_0's auc: 0.922527\tvalid_0's pr_auc: 0.649898\n",
            "[580]\tvalid_0's auc: 0.922527\tvalid_0's pr_auc: 0.648966\n",
            "[600]\tvalid_0's auc: 0.922161\tvalid_0's pr_auc: 0.641587\n",
            "[620]\tvalid_0's auc: 0.922161\tvalid_0's pr_auc: 0.638937\n",
            "[640]\tvalid_0's auc: 0.921429\tvalid_0's pr_auc: 0.634322\n",
            "[660]\tvalid_0's auc: 0.923626\tvalid_0's pr_auc: 0.642229\n",
            "[680]\tvalid_0's auc: 0.925458\tvalid_0's pr_auc: 0.651364\n",
            "[700]\tvalid_0's auc: 0.925824\tvalid_0's pr_auc: 0.651858\n",
            "==========================================================\n",
            "[20]\tvalid_0's auc: 0.948988\tvalid_0's pr_auc: 0.654516\n",
            "[40]\tvalid_0's auc: 0.949961\tvalid_0's pr_auc: 0.655387\n",
            "[60]\tvalid_0's auc: 0.950156\tvalid_0's pr_auc: 0.656521\n",
            "[80]\tvalid_0's auc: 0.949766\tvalid_0's pr_auc: 0.654574\n",
            "[100]\tvalid_0's auc: 0.948988\tvalid_0's pr_auc: 0.650322\n",
            "[120]\tvalid_0's auc: 0.946651\tvalid_0's pr_auc: 0.644543\n"
          ]
        },
        {
          "output_type": "stream",
          "name": "stderr",
          "text": [
            "/usr/local/lib/python3.7/dist-packages/lightgbm/callback.py:189: UserWarning: Early stopping is not available in dart mode\n",
            "  warnings.warn('Early stopping is not available in dart mode')\n"
          ]
        },
        {
          "output_type": "stream",
          "name": "stdout",
          "text": [
            "[140]\tvalid_0's auc: 0.946262\tvalid_0's pr_auc: 0.641071\n",
            "[160]\tvalid_0's auc: 0.94704\tvalid_0's pr_auc: 0.643812\n",
            "[180]\tvalid_0's auc: 0.94743\tvalid_0's pr_auc: 0.645346\n",
            "[200]\tvalid_0's auc: 0.948598\tvalid_0's pr_auc: 0.646498\n",
            "[220]\tvalid_0's auc: 0.948988\tvalid_0's pr_auc: 0.64849\n",
            "[240]\tvalid_0's auc: 0.950156\tvalid_0's pr_auc: 0.656107\n",
            "[260]\tvalid_0's auc: 0.952882\tvalid_0's pr_auc: 0.669347\n",
            "[280]\tvalid_0's auc: 0.953271\tvalid_0's pr_auc: 0.671682\n",
            "[300]\tvalid_0's auc: 0.95405\tvalid_0's pr_auc: 0.677376\n",
            "[320]\tvalid_0's auc: 0.954829\tvalid_0's pr_auc: 0.732931\n",
            "[340]\tvalid_0's auc: 0.954829\tvalid_0's pr_auc: 0.690667\n",
            "[360]\tvalid_0's auc: 0.955607\tvalid_0's pr_auc: 0.701029\n",
            "[380]\tvalid_0's auc: 0.955997\tvalid_0's pr_auc: 0.710238\n",
            "[400]\tvalid_0's auc: 0.957555\tvalid_0's pr_auc: 0.749353\n",
            "[420]\tvalid_0's auc: 0.955997\tvalid_0's pr_auc: 0.741828\n",
            "[440]\tvalid_0's auc: 0.955997\tvalid_0's pr_auc: 0.741828\n",
            "[460]\tvalid_0's auc: 0.956776\tvalid_0's pr_auc: 0.748519\n",
            "[480]\tvalid_0's auc: 0.957944\tvalid_0's pr_auc: 0.76849\n",
            "[500]\tvalid_0's auc: 0.959112\tvalid_0's pr_auc: 0.784971\n",
            "[520]\tvalid_0's auc: 0.958723\tvalid_0's pr_auc: 0.783167\n",
            "[540]\tvalid_0's auc: 0.959112\tvalid_0's pr_auc: 0.785163\n",
            "[560]\tvalid_0's auc: 0.96028\tvalid_0's pr_auc: 0.790984\n",
            "[580]\tvalid_0's auc: 0.959891\tvalid_0's pr_auc: 0.788166\n",
            "[600]\tvalid_0's auc: 0.96067\tvalid_0's pr_auc: 0.792484\n",
            "[620]\tvalid_0's auc: 0.959891\tvalid_0's pr_auc: 0.790033\n",
            "[640]\tvalid_0's auc: 0.961059\tvalid_0's pr_auc: 0.793531\n",
            "[660]\tvalid_0's auc: 0.961059\tvalid_0's pr_auc: 0.795079\n",
            "[680]\tvalid_0's auc: 0.961059\tvalid_0's pr_auc: 0.795079\n",
            "[700]\tvalid_0's auc: 0.959891\tvalid_0's pr_auc: 0.791059\n",
            "==========================================================\n",
            "[20]\tvalid_0's auc: 0.928571\tvalid_0's pr_auc: 0.660495\n",
            "[40]\tvalid_0's auc: 0.926664\tvalid_0's pr_auc: 0.649428\n",
            "[60]\tvalid_0's auc: 0.924237\tvalid_0's pr_auc: 0.643389\n",
            "[80]\tvalid_0's auc: 0.926318\tvalid_0's pr_auc: 0.646648\n"
          ]
        },
        {
          "output_type": "stream",
          "name": "stderr",
          "text": [
            "/usr/local/lib/python3.7/dist-packages/lightgbm/callback.py:189: UserWarning: Early stopping is not available in dart mode\n",
            "  warnings.warn('Early stopping is not available in dart mode')\n"
          ]
        },
        {
          "output_type": "stream",
          "name": "stdout",
          "text": [
            "[100]\tvalid_0's auc: 0.926318\tvalid_0's pr_auc: 0.646426\n",
            "[120]\tvalid_0's auc: 0.928051\tvalid_0's pr_auc: 0.653738\n",
            "[140]\tvalid_0's auc: 0.930305\tvalid_0's pr_auc: 0.662053\n",
            "[160]\tvalid_0's auc: 0.930652\tvalid_0's pr_auc: 0.660046\n",
            "[180]\tvalid_0's auc: 0.930652\tvalid_0's pr_auc: 0.656963\n",
            "[200]\tvalid_0's auc: 0.933079\tvalid_0's pr_auc: 0.665101\n",
            "[220]\tvalid_0's auc: 0.934119\tvalid_0's pr_auc: 0.675935\n",
            "[240]\tvalid_0's auc: 0.935506\tvalid_0's pr_auc: 0.712957\n",
            "[260]\tvalid_0's auc: 0.936893\tvalid_0's pr_auc: 0.722808\n",
            "[280]\tvalid_0's auc: 0.93828\tvalid_0's pr_auc: 0.738593\n",
            "[300]\tvalid_0's auc: 0.938627\tvalid_0's pr_auc: 0.738965\n",
            "[320]\tvalid_0's auc: 0.938974\tvalid_0's pr_auc: 0.745799\n",
            "[340]\tvalid_0's auc: 0.940361\tvalid_0's pr_auc: 0.750623\n",
            "[360]\tvalid_0's auc: 0.940014\tvalid_0's pr_auc: 0.742545\n",
            "[380]\tvalid_0's auc: 0.939667\tvalid_0's pr_auc: 0.743449\n",
            "[400]\tvalid_0's auc: 0.942268\tvalid_0's pr_auc: 0.764485\n",
            "[420]\tvalid_0's auc: 0.939494\tvalid_0's pr_auc: 0.742557\n",
            "[440]\tvalid_0's auc: 0.939147\tvalid_0's pr_auc: 0.74211\n",
            "[460]\tvalid_0's auc: 0.940881\tvalid_0's pr_auc: 0.758429\n",
            "[480]\tvalid_0's auc: 0.939494\tvalid_0's pr_auc: 0.75247\n",
            "[500]\tvalid_0's auc: 0.9388\tvalid_0's pr_auc: 0.749919\n",
            "[520]\tvalid_0's auc: 0.9388\tvalid_0's pr_auc: 0.749919\n",
            "[540]\tvalid_0's auc: 0.9388\tvalid_0's pr_auc: 0.749919\n",
            "[560]\tvalid_0's auc: 0.938107\tvalid_0's pr_auc: 0.74811\n",
            "[580]\tvalid_0's auc: 0.93776\tvalid_0's pr_auc: 0.746564\n",
            "[600]\tvalid_0's auc: 0.938107\tvalid_0's pr_auc: 0.746617\n",
            "[620]\tvalid_0's auc: 0.938454\tvalid_0's pr_auc: 0.750656\n",
            "[640]\tvalid_0's auc: 0.938454\tvalid_0's pr_auc: 0.750656\n",
            "[660]\tvalid_0's auc: 0.93984\tvalid_0's pr_auc: 0.757599\n",
            "[680]\tvalid_0's auc: 0.93984\tvalid_0's pr_auc: 0.757278\n",
            "[700]\tvalid_0's auc: 0.939494\tvalid_0's pr_auc: 0.761129\n",
            "==========================================================\n",
            "[20]\tvalid_0's auc: 0.914457\tvalid_0's pr_auc: 0.638097\n",
            "[40]\tvalid_0's auc: 0.916824\tvalid_0's pr_auc: 0.629253\n",
            "[60]\tvalid_0's auc: 0.920928\tvalid_0's pr_auc: 0.641718\n",
            "[80]\tvalid_0's auc: 0.922822\tvalid_0's pr_auc: 0.645502\n",
            "[100]\tvalid_0's auc: 0.922506\tvalid_0's pr_auc: 0.641856\n",
            "[120]\tvalid_0's auc: 0.920297\tvalid_0's pr_auc: 0.632491\n"
          ]
        },
        {
          "output_type": "stream",
          "name": "stderr",
          "text": [
            "/usr/local/lib/python3.7/dist-packages/lightgbm/callback.py:189: UserWarning: Early stopping is not available in dart mode\n",
            "  warnings.warn('Early stopping is not available in dart mode')\n"
          ]
        },
        {
          "output_type": "stream",
          "name": "stdout",
          "text": [
            "[140]\tvalid_0's auc: 0.918718\tvalid_0's pr_auc: 0.627806\n",
            "[160]\tvalid_0's auc: 0.916824\tvalid_0's pr_auc: 0.622616\n",
            "[180]\tvalid_0's auc: 0.91935\tvalid_0's pr_auc: 0.631329\n",
            "[200]\tvalid_0's auc: 0.923453\tvalid_0's pr_auc: 0.645915\n",
            "[220]\tvalid_0's auc: 0.922822\tvalid_0's pr_auc: 0.643129\n",
            "[240]\tvalid_0's auc: 0.92661\tvalid_0's pr_auc: 0.659695\n",
            "[260]\tvalid_0's auc: 0.925979\tvalid_0's pr_auc: 0.66213\n",
            "[280]\tvalid_0's auc: 0.927872\tvalid_0's pr_auc: 0.707875\n",
            "[300]\tvalid_0's auc: 0.928504\tvalid_0's pr_auc: 0.710246\n",
            "[320]\tvalid_0's auc: 0.927872\tvalid_0's pr_auc: 0.713143\n",
            "[340]\tvalid_0's auc: 0.928504\tvalid_0's pr_auc: 0.710568\n",
            "[360]\tvalid_0's auc: 0.927241\tvalid_0's pr_auc: 0.7101\n",
            "[380]\tvalid_0's auc: 0.927557\tvalid_0's pr_auc: 0.714684\n",
            "[400]\tvalid_0's auc: 0.930082\tvalid_0's pr_auc: 0.724073\n",
            "[420]\tvalid_0's auc: 0.930082\tvalid_0's pr_auc: 0.719626\n",
            "[440]\tvalid_0's auc: 0.929766\tvalid_0's pr_auc: 0.717866\n",
            "[460]\tvalid_0's auc: 0.932292\tvalid_0's pr_auc: 0.728982\n",
            "[480]\tvalid_0's auc: 0.935764\tvalid_0's pr_auc: 0.738024\n",
            "[500]\tvalid_0's auc: 0.93608\tvalid_0's pr_auc: 0.747873\n",
            "[520]\tvalid_0's auc: 0.935448\tvalid_0's pr_auc: 0.743469\n",
            "[540]\tvalid_0's auc: 0.934817\tvalid_0's pr_auc: 0.741224\n",
            "[560]\tvalid_0's auc: 0.933239\tvalid_0's pr_auc: 0.737976\n",
            "[580]\tvalid_0's auc: 0.932607\tvalid_0's pr_auc: 0.733588\n",
            "[600]\tvalid_0's auc: 0.932923\tvalid_0's pr_auc: 0.732361\n",
            "[620]\tvalid_0's auc: 0.931976\tvalid_0's pr_auc: 0.727778\n",
            "[640]\tvalid_0's auc: 0.93166\tvalid_0's pr_auc: 0.727227\n",
            "[660]\tvalid_0's auc: 0.93166\tvalid_0's pr_auc: 0.724979\n",
            "[680]\tvalid_0's auc: 0.930713\tvalid_0's pr_auc: 0.721797\n",
            "[700]\tvalid_0's auc: 0.931029\tvalid_0's pr_auc: 0.72254\n",
            "==========================================================\n"
          ]
        },
        {
          "output_type": "stream",
          "name": "stderr",
          "text": [
            "/usr/local/lib/python3.7/dist-packages/lightgbm/callback.py:189: UserWarning: Early stopping is not available in dart mode\n",
            "  warnings.warn('Early stopping is not available in dart mode')\n"
          ]
        },
        {
          "output_type": "stream",
          "name": "stdout",
          "text": [
            "[20]\tvalid_0's auc: 0.866007\tvalid_0's pr_auc: 0.619442\n",
            "[40]\tvalid_0's auc: 0.871617\tvalid_0's pr_auc: 0.605019\n",
            "[60]\tvalid_0's auc: 0.876238\tvalid_0's pr_auc: 0.612201\n",
            "[80]\tvalid_0's auc: 0.878548\tvalid_0's pr_auc: 0.616678\n",
            "[100]\tvalid_0's auc: 0.877228\tvalid_0's pr_auc: 0.608716\n",
            "[120]\tvalid_0's auc: 0.878053\tvalid_0's pr_auc: 0.609615\n",
            "[140]\tvalid_0's auc: 0.888119\tvalid_0's pr_auc: 0.649286\n",
            "[160]\tvalid_0's auc: 0.890099\tvalid_0's pr_auc: 0.648982\n",
            "[180]\tvalid_0's auc: 0.893399\tvalid_0's pr_auc: 0.673028\n",
            "[200]\tvalid_0's auc: 0.89505\tvalid_0's pr_auc: 0.686374\n",
            "[220]\tvalid_0's auc: 0.89637\tvalid_0's pr_auc: 0.705535\n",
            "[240]\tvalid_0's auc: 0.89835\tvalid_0's pr_auc: 0.711931\n",
            "[260]\tvalid_0's auc: 0.89901\tvalid_0's pr_auc: 0.729601\n",
            "[280]\tvalid_0's auc: 0.90033\tvalid_0's pr_auc: 0.722051\n",
            "[300]\tvalid_0's auc: 0.89934\tvalid_0's pr_auc: 0.729063\n",
            "[320]\tvalid_0's auc: 0.90099\tvalid_0's pr_auc: 0.732511\n",
            "[340]\tvalid_0's auc: 0.90066\tvalid_0's pr_auc: 0.732437\n",
            "[360]\tvalid_0's auc: 0.90198\tvalid_0's pr_auc: 0.735334\n",
            "[380]\tvalid_0's auc: 0.90264\tvalid_0's pr_auc: 0.735982\n",
            "[400]\tvalid_0's auc: 0.90066\tvalid_0's pr_auc: 0.738615\n",
            "[420]\tvalid_0's auc: 0.90132\tvalid_0's pr_auc: 0.735683\n",
            "[440]\tvalid_0's auc: 0.90033\tvalid_0's pr_auc: 0.741007\n",
            "[460]\tvalid_0's auc: 0.89835\tvalid_0's pr_auc: 0.738412\n",
            "[480]\tvalid_0's auc: 0.8967\tvalid_0's pr_auc: 0.730609\n",
            "[500]\tvalid_0's auc: 0.89538\tvalid_0's pr_auc: 0.730238\n",
            "[520]\tvalid_0's auc: 0.89835\tvalid_0's pr_auc: 0.743668\n",
            "[540]\tvalid_0's auc: 0.895545\tvalid_0's pr_auc: 0.735103\n",
            "[560]\tvalid_0's auc: 0.895545\tvalid_0's pr_auc: 0.739676\n",
            "[580]\tvalid_0's auc: 0.894224\tvalid_0's pr_auc: 0.730577\n",
            "[600]\tvalid_0's auc: 0.893564\tvalid_0's pr_auc: 0.730542\n",
            "[620]\tvalid_0's auc: 0.894554\tvalid_0's pr_auc: 0.733947\n",
            "[640]\tvalid_0's auc: 0.893564\tvalid_0's pr_auc: 0.725595\n",
            "[660]\tvalid_0's auc: 0.891089\tvalid_0's pr_auc: 0.716876\n",
            "[680]\tvalid_0's auc: 0.892079\tvalid_0's pr_auc: 0.721203\n",
            "[700]\tvalid_0's auc: 0.891089\tvalid_0's pr_auc: 0.720492\n",
            "==========================================================\n",
            "[20]\tvalid_0's auc: 0.90338\tvalid_0's pr_auc: 0.687087\n"
          ]
        },
        {
          "output_type": "stream",
          "name": "stderr",
          "text": [
            "/usr/local/lib/python3.7/dist-packages/lightgbm/callback.py:189: UserWarning: Early stopping is not available in dart mode\n",
            "  warnings.warn('Early stopping is not available in dart mode')\n"
          ]
        },
        {
          "output_type": "stream",
          "name": "stdout",
          "text": [
            "[40]\tvalid_0's auc: 0.905293\tvalid_0's pr_auc: 0.692622\n",
            "[60]\tvalid_0's auc: 0.907207\tvalid_0's pr_auc: 0.691359\n",
            "[80]\tvalid_0's auc: 0.906728\tvalid_0's pr_auc: 0.690246\n",
            "[100]\tvalid_0's auc: 0.905134\tvalid_0's pr_auc: 0.683214\n",
            "[120]\tvalid_0's auc: 0.917251\tvalid_0's pr_auc: 0.681686\n",
            "[140]\tvalid_0's auc: 0.916932\tvalid_0's pr_auc: 0.6775\n",
            "[160]\tvalid_0's auc: 0.917251\tvalid_0's pr_auc: 0.676804\n",
            "[180]\tvalid_0's auc: 0.919165\tvalid_0's pr_auc: 0.685925\n",
            "[200]\tvalid_0's auc: 0.919643\tvalid_0's pr_auc: 0.690921\n",
            "[220]\tvalid_0's auc: 0.919643\tvalid_0's pr_auc: 0.694855\n",
            "[240]\tvalid_0's auc: 0.919962\tvalid_0's pr_auc: 0.706183\n",
            "[260]\tvalid_0's auc: 0.919324\tvalid_0's pr_auc: 0.712168\n",
            "[280]\tvalid_0's auc: 0.916773\tvalid_0's pr_auc: 0.70693\n",
            "[300]\tvalid_0's auc: 0.917411\tvalid_0's pr_auc: 0.710039\n",
            "[320]\tvalid_0's auc: 0.91773\tvalid_0's pr_auc: 0.715166\n",
            "[340]\tvalid_0's auc: 0.916135\tvalid_0's pr_auc: 0.718265\n",
            "[360]\tvalid_0's auc: 0.915497\tvalid_0's pr_auc: 0.713954\n",
            "[380]\tvalid_0's auc: 0.91486\tvalid_0's pr_auc: 0.718577\n",
            "[400]\tvalid_0's auc: 0.915497\tvalid_0's pr_auc: 0.714865\n",
            "[420]\tvalid_0's auc: 0.916773\tvalid_0's pr_auc: 0.726749\n",
            "[440]\tvalid_0's auc: 0.916932\tvalid_0's pr_auc: 0.729914\n",
            "[460]\tvalid_0's auc: 0.91757\tvalid_0's pr_auc: 0.728128\n",
            "[480]\tvalid_0's auc: 0.92044\tvalid_0's pr_auc: 0.735881\n",
            "[500]\tvalid_0's auc: 0.920759\tvalid_0's pr_auc: 0.737382\n",
            "[520]\tvalid_0's auc: 0.918527\tvalid_0's pr_auc: 0.736402\n",
            "[540]\tvalid_0's auc: 0.919483\tvalid_0's pr_auc: 0.749026\n",
            "[560]\tvalid_0's auc: 0.917889\tvalid_0's pr_auc: 0.748753\n",
            "[580]\tvalid_0's auc: 0.916295\tvalid_0's pr_auc: 0.746658\n",
            "[600]\tvalid_0's auc: 0.913425\tvalid_0's pr_auc: 0.738638\n",
            "[620]\tvalid_0's auc: 0.912468\tvalid_0's pr_auc: 0.731502\n",
            "[640]\tvalid_0's auc: 0.910555\tvalid_0's pr_auc: 0.701588\n",
            "[660]\tvalid_0's auc: 0.911511\tvalid_0's pr_auc: 0.705799\n",
            "[680]\tvalid_0's auc: 0.915657\tvalid_0's pr_auc: 0.718603\n",
            "[700]\tvalid_0's auc: 0.915338\tvalid_0's pr_auc: 0.724024\n",
            "==========================================================\n"
          ]
        }
      ]
    },
    {
      "cell_type": "code",
      "metadata": {
        "colab": {
          "base_uri": "https://localhost:8080/"
        },
        "id": "ECng2b0UGF1a",
        "outputId": "5ae37e78-5326-4668-bf24-aca449bc2a67"
      },
      "source": [
        "print(np.mean(auc_scores))"
      ],
      "execution_count": 42,
      "outputs": [
        {
          "output_type": "stream",
          "name": "stdout",
          "text": [
            "0.9339505255300266\n"
          ]
        }
      ]
    },
    {
      "cell_type": "code",
      "metadata": {
        "colab": {
          "base_uri": "https://localhost:8080/"
        },
        "id": "zlmStybCIe9q",
        "outputId": "0ccca731-b33e-4a99-f4ec-0db765bc8a4b"
      },
      "source": [
        "# 파라미터 변환 실험\n",
        "# 데이터 수가 적고, auc_score가 생각보다 높으며, lightgbm을 사용했기에 오버피팅의 우려가 있어보임.\n",
        "# 오버피팅에 관련한 파라미터들 추가 및 조절\n",
        "params_1 = {'bagging_fraction': 0.6,\n",
        " 'learning_rate': 0.05,\n",
        " 'max_depth': 15, # max_depth 조절\n",
        " 'num_boost_round': 700,\n",
        " 'num_leaves': 25} # num_leaves 조절\n",
        "# Train\n",
        "#-------------------------------------------------------------------------------------\n",
        "# validation auc score를 확인하기 위해 정의\n",
        "def f_pr_auc(probas_pred, y_true):\n",
        "    labels=y_true.get_label()\n",
        "    p, r, _ = precision_recall_curve(labels, probas_pred)\n",
        "    score=auc(r,p) \n",
        "    return \"pr_auc\", score, True\n",
        "#-------------------------------------------------------------------------------------\n",
        "models     = []\n",
        "recalls    = []\n",
        "precisions = []\n",
        "auc_scores   = []\n",
        "threshold = 0.5\n",
        "# 파라미터 설정\n",
        "parameters =   {\n",
        "                'boosting_type' : 'dart',\n",
        "                'objective'     : 'binary',\n",
        "                'metric'        : 'auc',\n",
        "                'seed': 1015,\n",
        "                'learning_rate' : params_1['learning_rate'],\n",
        "                'max_depth': int(params_1['max_depth']),\n",
        "                'num_leaves': int(params_1['num_leaves']),\n",
        "                'bagging_fraction': params_1['bagging_fraction']\n",
        "                }\n",
        "#-------------------------------------------------------------------------------------\n",
        "# 10 Kfold cross validation\n",
        "k_fold = KFold(n_splits=10, shuffle=True, random_state=42)\n",
        "for train_idx, val_idx in k_fold.split(train_x):\n",
        "\n",
        "    # split train, validation set\n",
        "    X = train_x.loc[train_idx,:]\n",
        "    y = train_y.loc[train_idx,:]\n",
        "    valid_x = train_x.loc[val_idx,:]\n",
        "    valid_y = train_y.loc[val_idx,:]\n",
        "\n",
        "    d_train= lgb.Dataset(X, y)\n",
        "    d_val  = lgb.Dataset(valid_x, valid_y)\n",
        "\n",
        "    #run traning\n",
        "    model = lgb.train(\n",
        "                        parameters,\n",
        "                        train_set       = d_train,\n",
        "                        num_boost_round = int(params_1['num_boost_round']),\n",
        "                        valid_sets      = d_val,\n",
        "                        feval           = f_pr_auc,\n",
        "                        verbose_eval    = 20, \n",
        "                        early_stopping_rounds = 3\n",
        "                       )\n",
        "\n",
        "    # cal valid prediction\n",
        "    valid_prob = model.predict(valid_x)\n",
        "    valid_pred = np.where(valid_prob > threshold, 1, 0)\n",
        "\n",
        "    # cal scores\n",
        "    recall    = recall_score(    valid_y, valid_pred)\n",
        "    precision = precision_score( valid_y, valid_pred)\n",
        "    auc_score = roc_auc_score(   valid_y, valid_prob)\n",
        "\n",
        "    # append scores\n",
        "    models.append(model)\n",
        "    recalls.append(recall)\n",
        "    precisions.append(precision)\n",
        "    auc_scores.append(auc_score)\n",
        "\n",
        "    print('==========================================================')\n"
      ],
      "execution_count": 43,
      "outputs": [
        {
          "output_type": "stream",
          "name": "stderr",
          "text": [
            "/usr/local/lib/python3.7/dist-packages/lightgbm/callback.py:189: UserWarning: Early stopping is not available in dart mode\n",
            "  warnings.warn('Early stopping is not available in dart mode')\n"
          ]
        },
        {
          "output_type": "stream",
          "name": "stdout",
          "text": [
            "[20]\tvalid_0's auc: 0.912376\tvalid_0's pr_auc: 0.637029\n",
            "[40]\tvalid_0's auc: 0.914191\tvalid_0's pr_auc: 0.633984\n",
            "[60]\tvalid_0's auc: 0.920792\tvalid_0's pr_auc: 0.653149\n",
            "[80]\tvalid_0's auc: 0.929043\tvalid_0's pr_auc: 0.667432\n",
            "[100]\tvalid_0's auc: 0.929043\tvalid_0's pr_auc: 0.669917\n",
            "[120]\tvalid_0's auc: 0.930033\tvalid_0's pr_auc: 0.666587\n",
            "[140]\tvalid_0's auc: 0.934323\tvalid_0's pr_auc: 0.670018\n",
            "[160]\tvalid_0's auc: 0.935644\tvalid_0's pr_auc: 0.673421\n",
            "[180]\tvalid_0's auc: 0.938944\tvalid_0's pr_auc: 0.710463\n",
            "[200]\tvalid_0's auc: 0.937624\tvalid_0's pr_auc: 0.694529\n",
            "[220]\tvalid_0's auc: 0.936304\tvalid_0's pr_auc: 0.686603\n",
            "[240]\tvalid_0's auc: 0.936304\tvalid_0's pr_auc: 0.682829\n",
            "[260]\tvalid_0's auc: 0.937624\tvalid_0's pr_auc: 0.689075\n",
            "[280]\tvalid_0's auc: 0.937954\tvalid_0's pr_auc: 0.686326\n",
            "[300]\tvalid_0's auc: 0.939439\tvalid_0's pr_auc: 0.69565\n",
            "[320]\tvalid_0's auc: 0.939439\tvalid_0's pr_auc: 0.694571\n",
            "[340]\tvalid_0's auc: 0.940099\tvalid_0's pr_auc: 0.696941\n",
            "[360]\tvalid_0's auc: 0.940759\tvalid_0's pr_auc: 0.69845\n",
            "[380]\tvalid_0's auc: 0.941419\tvalid_0's pr_auc: 0.701447\n",
            "[400]\tvalid_0's auc: 0.941749\tvalid_0's pr_auc: 0.705681\n",
            "[420]\tvalid_0's auc: 0.942409\tvalid_0's pr_auc: 0.707391\n",
            "[440]\tvalid_0's auc: 0.941749\tvalid_0's pr_auc: 0.705681\n",
            "[460]\tvalid_0's auc: 0.942409\tvalid_0's pr_auc: 0.707391\n",
            "[480]\tvalid_0's auc: 0.942574\tvalid_0's pr_auc: 0.711454\n",
            "[500]\tvalid_0's auc: 0.942574\tvalid_0's pr_auc: 0.711335\n",
            "[520]\tvalid_0's auc: 0.942904\tvalid_0's pr_auc: 0.712511\n",
            "[540]\tvalid_0's auc: 0.942244\tvalid_0's pr_auc: 0.710564\n",
            "[560]\tvalid_0's auc: 0.942244\tvalid_0's pr_auc: 0.710564\n",
            "[580]\tvalid_0's auc: 0.943234\tvalid_0's pr_auc: 0.713552\n",
            "[600]\tvalid_0's auc: 0.942574\tvalid_0's pr_auc: 0.708275\n",
            "[620]\tvalid_0's auc: 0.942904\tvalid_0's pr_auc: 0.708082\n",
            "[640]\tvalid_0's auc: 0.943234\tvalid_0's pr_auc: 0.707051\n",
            "[660]\tvalid_0's auc: 0.942574\tvalid_0's pr_auc: 0.7036\n",
            "[680]\tvalid_0's auc: 0.942574\tvalid_0's pr_auc: 0.703604\n",
            "[700]\tvalid_0's auc: 0.944224\tvalid_0's pr_auc: 0.709649\n",
            "==========================================================\n"
          ]
        },
        {
          "output_type": "stream",
          "name": "stderr",
          "text": [
            "/usr/local/lib/python3.7/dist-packages/lightgbm/callback.py:189: UserWarning: Early stopping is not available in dart mode\n",
            "  warnings.warn('Early stopping is not available in dart mode')\n"
          ]
        },
        {
          "output_type": "stream",
          "name": "stdout",
          "text": [
            "[20]\tvalid_0's auc: 0.891964\tvalid_0's pr_auc: 0.658369\n",
            "[40]\tvalid_0's auc: 0.891815\tvalid_0's pr_auc: 0.630966\n",
            "[60]\tvalid_0's auc: 0.893452\tvalid_0's pr_auc: 0.632769\n",
            "[80]\tvalid_0's auc: 0.89747\tvalid_0's pr_auc: 0.639853\n",
            "[100]\tvalid_0's auc: 0.898661\tvalid_0's pr_auc: 0.644326\n",
            "[120]\tvalid_0's auc: 0.898065\tvalid_0's pr_auc: 0.649512\n",
            "[140]\tvalid_0's auc: 0.900149\tvalid_0's pr_auc: 0.652954\n",
            "[160]\tvalid_0's auc: 0.902232\tvalid_0's pr_auc: 0.653908\n",
            "[180]\tvalid_0's auc: 0.900595\tvalid_0's pr_auc: 0.648364\n",
            "[200]\tvalid_0's auc: 0.9\tvalid_0's pr_auc: 0.654299\n",
            "[220]\tvalid_0's auc: 0.902679\tvalid_0's pr_auc: 0.657904\n",
            "[240]\tvalid_0's auc: 0.908482\tvalid_0's pr_auc: 0.703203\n",
            "[260]\tvalid_0's auc: 0.917113\tvalid_0's pr_auc: 0.72684\n",
            "[280]\tvalid_0's auc: 0.918601\tvalid_0's pr_auc: 0.734867\n",
            "[300]\tvalid_0's auc: 0.919792\tvalid_0's pr_auc: 0.732817\n",
            "[320]\tvalid_0's auc: 0.920982\tvalid_0's pr_auc: 0.734239\n",
            "[340]\tvalid_0's auc: 0.923363\tvalid_0's pr_auc: 0.738112\n",
            "[360]\tvalid_0's auc: 0.924256\tvalid_0's pr_auc: 0.739201\n",
            "[380]\tvalid_0's auc: 0.92247\tvalid_0's pr_auc: 0.733215\n",
            "[400]\tvalid_0's auc: 0.923661\tvalid_0's pr_auc: 0.73526\n",
            "[420]\tvalid_0's auc: 0.923363\tvalid_0's pr_auc: 0.735951\n",
            "[440]\tvalid_0's auc: 0.922768\tvalid_0's pr_auc: 0.731222\n",
            "[460]\tvalid_0's auc: 0.922768\tvalid_0's pr_auc: 0.736459\n",
            "[480]\tvalid_0's auc: 0.923958\tvalid_0's pr_auc: 0.758433\n",
            "[500]\tvalid_0's auc: 0.922768\tvalid_0's pr_auc: 0.753519\n",
            "[520]\tvalid_0's auc: 0.923065\tvalid_0's pr_auc: 0.752444\n",
            "[540]\tvalid_0's auc: 0.922173\tvalid_0's pr_auc: 0.742763\n",
            "[560]\tvalid_0's auc: 0.92128\tvalid_0's pr_auc: 0.732644\n",
            "[580]\tvalid_0's auc: 0.920089\tvalid_0's pr_auc: 0.728499\n",
            "[600]\tvalid_0's auc: 0.92128\tvalid_0's pr_auc: 0.726735\n",
            "[620]\tvalid_0's auc: 0.92128\tvalid_0's pr_auc: 0.726802\n",
            "[640]\tvalid_0's auc: 0.921577\tvalid_0's pr_auc: 0.72689\n",
            "[660]\tvalid_0's auc: 0.920982\tvalid_0's pr_auc: 0.722727\n",
            "[680]\tvalid_0's auc: 0.917708\tvalid_0's pr_auc: 0.700061\n",
            "[700]\tvalid_0's auc: 0.920387\tvalid_0's pr_auc: 0.73939\n",
            "==========================================================\n"
          ]
        },
        {
          "output_type": "stream",
          "name": "stderr",
          "text": [
            "/usr/local/lib/python3.7/dist-packages/lightgbm/callback.py:189: UserWarning: Early stopping is not available in dart mode\n",
            "  warnings.warn('Early stopping is not available in dart mode')\n"
          ]
        },
        {
          "output_type": "stream",
          "name": "stdout",
          "text": [
            "[20]\tvalid_0's auc: 0.943018\tvalid_0's pr_auc: 0.813737\n",
            "[40]\tvalid_0's auc: 0.939139\tvalid_0's pr_auc: 0.791987\n",
            "[60]\tvalid_0's auc: 0.941279\tvalid_0's pr_auc: 0.815436\n",
            "[80]\tvalid_0's auc: 0.941814\tvalid_0's pr_auc: 0.808272\n",
            "[100]\tvalid_0's auc: 0.943419\tvalid_0's pr_auc: 0.816697\n",
            "[120]\tvalid_0's auc: 0.946094\tvalid_0's pr_auc: 0.824316\n",
            "[140]\tvalid_0's auc: 0.947432\tvalid_0's pr_auc: 0.834298\n",
            "[160]\tvalid_0's auc: 0.947699\tvalid_0's pr_auc: 0.835117\n",
            "[180]\tvalid_0's auc: 0.947967\tvalid_0's pr_auc: 0.836329\n",
            "[200]\tvalid_0's auc: 0.95091\tvalid_0's pr_auc: 0.852559\n",
            "[220]\tvalid_0's auc: 0.95091\tvalid_0's pr_auc: 0.852559\n",
            "[240]\tvalid_0's auc: 0.955324\tvalid_0's pr_auc: 0.863105\n",
            "[260]\tvalid_0's auc: 0.964018\tvalid_0's pr_auc: 0.895205\n",
            "[280]\tvalid_0's auc: 0.963216\tvalid_0's pr_auc: 0.891482\n",
            "[300]\tvalid_0's auc: 0.964553\tvalid_0's pr_auc: 0.897394\n",
            "[320]\tvalid_0's auc: 0.965088\tvalid_0's pr_auc: 0.899415\n",
            "[340]\tvalid_0's auc: 0.968834\tvalid_0's pr_auc: 0.90791\n",
            "[360]\tvalid_0's auc: 0.968566\tvalid_0's pr_auc: 0.906879\n",
            "[380]\tvalid_0's auc: 0.968031\tvalid_0's pr_auc: 0.901989\n",
            "[400]\tvalid_0's auc: 0.968834\tvalid_0's pr_auc: 0.907744\n",
            "[420]\tvalid_0's auc: 0.968566\tvalid_0's pr_auc: 0.898917\n",
            "[440]\tvalid_0's auc: 0.968566\tvalid_0's pr_auc: 0.898792\n",
            "[460]\tvalid_0's auc: 0.969904\tvalid_0's pr_auc: 0.910134\n",
            "[480]\tvalid_0's auc: 0.972044\tvalid_0's pr_auc: 0.911918\n",
            "[500]\tvalid_0's auc: 0.970706\tvalid_0's pr_auc: 0.908376\n",
            "[520]\tvalid_0's auc: 0.970974\tvalid_0's pr_auc: 0.912582\n",
            "[540]\tvalid_0's auc: 0.971241\tvalid_0's pr_auc: 0.908532\n",
            "[560]\tvalid_0's auc: 0.971241\tvalid_0's pr_auc: 0.908432\n",
            "[580]\tvalid_0's auc: 0.971241\tvalid_0's pr_auc: 0.908275\n",
            "[600]\tvalid_0's auc: 0.970974\tvalid_0's pr_auc: 0.907597\n",
            "[620]\tvalid_0's auc: 0.970706\tvalid_0's pr_auc: 0.906634\n",
            "[640]\tvalid_0's auc: 0.970706\tvalid_0's pr_auc: 0.90663\n",
            "[660]\tvalid_0's auc: 0.971241\tvalid_0's pr_auc: 0.907799\n",
            "[680]\tvalid_0's auc: 0.970706\tvalid_0's pr_auc: 0.906302\n",
            "[700]\tvalid_0's auc: 0.970171\tvalid_0's pr_auc: 0.900665\n",
            "==========================================================\n",
            "[20]\tvalid_0's auc: 0.933788\tvalid_0's pr_auc: 0.74838\n",
            "[40]\tvalid_0's auc: 0.935527\tvalid_0's pr_auc: 0.776309\n",
            "[60]\tvalid_0's auc: 0.937132\tvalid_0's pr_auc: 0.782435\n",
            "[80]\tvalid_0's auc: 0.938202\tvalid_0's pr_auc: 0.776971\n",
            "[100]\tvalid_0's auc: 0.93954\tvalid_0's pr_auc: 0.78344\n"
          ]
        },
        {
          "output_type": "stream",
          "name": "stderr",
          "text": [
            "/usr/local/lib/python3.7/dist-packages/lightgbm/callback.py:189: UserWarning: Early stopping is not available in dart mode\n",
            "  warnings.warn('Early stopping is not available in dart mode')\n"
          ]
        },
        {
          "output_type": "stream",
          "name": "stdout",
          "text": [
            "[120]\tvalid_0's auc: 0.943018\tvalid_0's pr_auc: 0.7968\n",
            "[140]\tvalid_0's auc: 0.945693\tvalid_0's pr_auc: 0.805521\n",
            "[160]\tvalid_0's auc: 0.94596\tvalid_0's pr_auc: 0.803972\n",
            "[180]\tvalid_0's auc: 0.943553\tvalid_0's pr_auc: 0.79448\n",
            "[200]\tvalid_0's auc: 0.943285\tvalid_0's pr_auc: 0.789103\n",
            "[220]\tvalid_0's auc: 0.944623\tvalid_0's pr_auc: 0.793824\n",
            "[240]\tvalid_0's auc: 0.94703\tvalid_0's pr_auc: 0.807521\n",
            "[260]\tvalid_0's auc: 0.948101\tvalid_0's pr_auc: 0.844621\n",
            "[280]\tvalid_0's auc: 0.948636\tvalid_0's pr_auc: 0.853945\n",
            "[300]\tvalid_0's auc: 0.948636\tvalid_0's pr_auc: 0.853571\n",
            "[320]\tvalid_0's auc: 0.948903\tvalid_0's pr_auc: 0.85302\n",
            "[340]\tvalid_0's auc: 0.94703\tvalid_0's pr_auc: 0.847478\n",
            "[360]\tvalid_0's auc: 0.946495\tvalid_0's pr_auc: 0.845469\n",
            "[380]\tvalid_0's auc: 0.946495\tvalid_0's pr_auc: 0.845469\n",
            "[400]\tvalid_0's auc: 0.944088\tvalid_0's pr_auc: 0.837185\n",
            "[420]\tvalid_0's auc: 0.94489\tvalid_0's pr_auc: 0.841785\n",
            "[440]\tvalid_0's auc: 0.94489\tvalid_0's pr_auc: 0.841733\n",
            "[460]\tvalid_0's auc: 0.945158\tvalid_0's pr_auc: 0.845782\n",
            "[480]\tvalid_0's auc: 0.943553\tvalid_0's pr_auc: 0.842528\n",
            "[500]\tvalid_0's auc: 0.944623\tvalid_0's pr_auc: 0.845051\n",
            "[520]\tvalid_0's auc: 0.944088\tvalid_0's pr_auc: 0.840818\n",
            "[540]\tvalid_0's auc: 0.944088\tvalid_0's pr_auc: 0.840818\n",
            "[560]\tvalid_0's auc: 0.944355\tvalid_0's pr_auc: 0.847525\n",
            "[580]\tvalid_0's auc: 0.946763\tvalid_0's pr_auc: 0.854895\n",
            "[600]\tvalid_0's auc: 0.945827\tvalid_0's pr_auc: 0.852607\n",
            "[620]\tvalid_0's auc: 0.945024\tvalid_0's pr_auc: 0.842494\n",
            "[640]\tvalid_0's auc: 0.944355\tvalid_0's pr_auc: 0.840908\n",
            "[660]\tvalid_0's auc: 0.94489\tvalid_0's pr_auc: 0.841533\n",
            "[680]\tvalid_0's auc: 0.943285\tvalid_0's pr_auc: 0.83715\n",
            "[700]\tvalid_0's auc: 0.94275\tvalid_0's pr_auc: 0.838455\n",
            "==========================================================\n",
            "[20]\tvalid_0's auc: 0.921978\tvalid_0's pr_auc: 0.567686\n",
            "[40]\tvalid_0's auc: 0.917399\tvalid_0's pr_auc: 0.551202\n",
            "[60]\tvalid_0's auc: 0.918132\tvalid_0's pr_auc: 0.54721\n",
            "[80]\tvalid_0's auc: 0.918498\tvalid_0's pr_auc: 0.544965\n",
            "[100]\tvalid_0's auc: 0.921062\tvalid_0's pr_auc: 0.558787\n"
          ]
        },
        {
          "output_type": "stream",
          "name": "stderr",
          "text": [
            "/usr/local/lib/python3.7/dist-packages/lightgbm/callback.py:189: UserWarning: Early stopping is not available in dart mode\n",
            "  warnings.warn('Early stopping is not available in dart mode')\n"
          ]
        },
        {
          "output_type": "stream",
          "name": "stdout",
          "text": [
            "[120]\tvalid_0's auc: 0.920696\tvalid_0's pr_auc: 0.554014\n",
            "[140]\tvalid_0's auc: 0.921062\tvalid_0's pr_auc: 0.554776\n",
            "[160]\tvalid_0's auc: 0.921429\tvalid_0's pr_auc: 0.55576\n",
            "[180]\tvalid_0's auc: 0.921429\tvalid_0's pr_auc: 0.556015\n",
            "[200]\tvalid_0's auc: 0.923626\tvalid_0's pr_auc: 0.567924\n",
            "[220]\tvalid_0's auc: 0.923993\tvalid_0's pr_auc: 0.569226\n",
            "[240]\tvalid_0's auc: 0.92326\tvalid_0's pr_auc: 0.569611\n",
            "[260]\tvalid_0's auc: 0.922161\tvalid_0's pr_auc: 0.618672\n",
            "[280]\tvalid_0's auc: 0.925458\tvalid_0's pr_auc: 0.625843\n",
            "[300]\tvalid_0's auc: 0.924359\tvalid_0's pr_auc: 0.624407\n",
            "[320]\tvalid_0's auc: 0.923993\tvalid_0's pr_auc: 0.620666\n",
            "[340]\tvalid_0's auc: 0.921795\tvalid_0's pr_auc: 0.615407\n",
            "[360]\tvalid_0's auc: 0.923626\tvalid_0's pr_auc: 0.622777\n",
            "[380]\tvalid_0's auc: 0.923993\tvalid_0's pr_auc: 0.625344\n",
            "[400]\tvalid_0's auc: 0.923626\tvalid_0's pr_auc: 0.623639\n",
            "[420]\tvalid_0's auc: 0.92326\tvalid_0's pr_auc: 0.621956\n",
            "[440]\tvalid_0's auc: 0.922527\tvalid_0's pr_auc: 0.620311\n",
            "[460]\tvalid_0's auc: 0.922527\tvalid_0's pr_auc: 0.62954\n",
            "[480]\tvalid_0's auc: 0.922894\tvalid_0's pr_auc: 0.643053\n",
            "[500]\tvalid_0's auc: 0.92326\tvalid_0's pr_auc: 0.652624\n",
            "[520]\tvalid_0's auc: 0.923626\tvalid_0's pr_auc: 0.653434\n",
            "[540]\tvalid_0's auc: 0.923993\tvalid_0's pr_auc: 0.654794\n",
            "[560]\tvalid_0's auc: 0.923626\tvalid_0's pr_auc: 0.654098\n",
            "[580]\tvalid_0's auc: 0.92326\tvalid_0's pr_auc: 0.652626\n",
            "[600]\tvalid_0's auc: 0.922894\tvalid_0's pr_auc: 0.651379\n",
            "[620]\tvalid_0's auc: 0.922894\tvalid_0's pr_auc: 0.651379\n",
            "[640]\tvalid_0's auc: 0.923993\tvalid_0's pr_auc: 0.647338\n",
            "[660]\tvalid_0's auc: 0.922894\tvalid_0's pr_auc: 0.643489\n",
            "[680]\tvalid_0's auc: 0.922527\tvalid_0's pr_auc: 0.638397\n",
            "[700]\tvalid_0's auc: 0.924725\tvalid_0's pr_auc: 0.647301\n",
            "==========================================================\n",
            "[20]\tvalid_0's auc: 0.948209\tvalid_0's pr_auc: 0.654062\n",
            "[40]\tvalid_0's auc: 0.948598\tvalid_0's pr_auc: 0.649275\n",
            "[60]\tvalid_0's auc: 0.948793\tvalid_0's pr_auc: 0.651864\n",
            "[80]\tvalid_0's auc: 0.948793\tvalid_0's pr_auc: 0.65199\n",
            "[100]\tvalid_0's auc: 0.948403\tvalid_0's pr_auc: 0.650547\n",
            "[120]\tvalid_0's auc: 0.946846\tvalid_0's pr_auc: 0.644979\n"
          ]
        },
        {
          "output_type": "stream",
          "name": "stderr",
          "text": [
            "/usr/local/lib/python3.7/dist-packages/lightgbm/callback.py:189: UserWarning: Early stopping is not available in dart mode\n",
            "  warnings.warn('Early stopping is not available in dart mode')\n"
          ]
        },
        {
          "output_type": "stream",
          "name": "stdout",
          "text": [
            "[140]\tvalid_0's auc: 0.945678\tvalid_0's pr_auc: 0.639357\n",
            "[160]\tvalid_0's auc: 0.946846\tvalid_0's pr_auc: 0.643135\n",
            "[180]\tvalid_0's auc: 0.948598\tvalid_0's pr_auc: 0.648437\n",
            "[200]\tvalid_0's auc: 0.947819\tvalid_0's pr_auc: 0.649038\n",
            "[220]\tvalid_0's auc: 0.948209\tvalid_0's pr_auc: 0.648921\n",
            "[240]\tvalid_0's auc: 0.948988\tvalid_0's pr_auc: 0.650708\n",
            "[260]\tvalid_0's auc: 0.951713\tvalid_0's pr_auc: 0.664872\n",
            "[280]\tvalid_0's auc: 0.950935\tvalid_0's pr_auc: 0.662513\n",
            "[300]\tvalid_0's auc: 0.951713\tvalid_0's pr_auc: 0.672052\n",
            "[320]\tvalid_0's auc: 0.952492\tvalid_0's pr_auc: 0.677806\n",
            "[340]\tvalid_0's auc: 0.95405\tvalid_0's pr_auc: 0.693797\n",
            "[360]\tvalid_0's auc: 0.955607\tvalid_0's pr_auc: 0.7059\n",
            "[380]\tvalid_0's auc: 0.955218\tvalid_0's pr_auc: 0.705788\n",
            "[400]\tvalid_0's auc: 0.956776\tvalid_0's pr_auc: 0.714954\n",
            "[420]\tvalid_0's auc: 0.955997\tvalid_0's pr_auc: 0.741517\n",
            "[440]\tvalid_0's auc: 0.955997\tvalid_0's pr_auc: 0.741517\n",
            "[460]\tvalid_0's auc: 0.957165\tvalid_0's pr_auc: 0.7465\n",
            "[480]\tvalid_0's auc: 0.958333\tvalid_0's pr_auc: 0.767904\n",
            "[500]\tvalid_0's auc: 0.958723\tvalid_0's pr_auc: 0.780673\n",
            "[520]\tvalid_0's auc: 0.958723\tvalid_0's pr_auc: 0.781615\n",
            "[540]\tvalid_0's auc: 0.959112\tvalid_0's pr_auc: 0.78099\n",
            "[560]\tvalid_0's auc: 0.96028\tvalid_0's pr_auc: 0.785673\n",
            "[580]\tvalid_0's auc: 0.96028\tvalid_0's pr_auc: 0.786772\n",
            "[600]\tvalid_0's auc: 0.96067\tvalid_0's pr_auc: 0.791398\n",
            "[620]\tvalid_0's auc: 0.961059\tvalid_0's pr_auc: 0.793531\n",
            "[640]\tvalid_0's auc: 0.961059\tvalid_0's pr_auc: 0.793531\n",
            "[660]\tvalid_0's auc: 0.961449\tvalid_0's pr_auc: 0.796126\n",
            "[680]\tvalid_0's auc: 0.961449\tvalid_0's pr_auc: 0.796126\n",
            "[700]\tvalid_0's auc: 0.961449\tvalid_0's pr_auc: 0.796126\n",
            "==========================================================\n",
            "[20]\tvalid_0's auc: 0.928571\tvalid_0's pr_auc: 0.660495\n",
            "[40]\tvalid_0's auc: 0.927011\tvalid_0's pr_auc: 0.652598"
          ]
        },
        {
          "output_type": "stream",
          "name": "stderr",
          "text": [
            "/usr/local/lib/python3.7/dist-packages/lightgbm/callback.py:189: UserWarning: Early stopping is not available in dart mode\n",
            "  warnings.warn('Early stopping is not available in dart mode')\n"
          ]
        },
        {
          "output_type": "stream",
          "name": "stdout",
          "text": [
            "\n",
            "[60]\tvalid_0's auc: 0.924931\tvalid_0's pr_auc: 0.64648\n",
            "[80]\tvalid_0's auc: 0.926664\tvalid_0's pr_auc: 0.648713\n",
            "[100]\tvalid_0's auc: 0.927011\tvalid_0's pr_auc: 0.651794\n",
            "[120]\tvalid_0's auc: 0.925971\tvalid_0's pr_auc: 0.647504\n",
            "[140]\tvalid_0's auc: 0.929265\tvalid_0's pr_auc: 0.657125\n",
            "[160]\tvalid_0's auc: 0.930305\tvalid_0's pr_auc: 0.659359\n",
            "[180]\tvalid_0's auc: 0.930652\tvalid_0's pr_auc: 0.656622\n",
            "[200]\tvalid_0's auc: 0.932386\tvalid_0's pr_auc: 0.663651\n",
            "[220]\tvalid_0's auc: 0.933773\tvalid_0's pr_auc: 0.66985\n",
            "[240]\tvalid_0's auc: 0.9362\tvalid_0's pr_auc: 0.720453\n",
            "[260]\tvalid_0's auc: 0.93828\tvalid_0's pr_auc: 0.731334\n",
            "[280]\tvalid_0's auc: 0.937587\tvalid_0's pr_auc: 0.73424\n",
            "[300]\tvalid_0's auc: 0.939494\tvalid_0's pr_auc: 0.744768\n",
            "[320]\tvalid_0's auc: 0.939494\tvalid_0's pr_auc: 0.744395\n",
            "[340]\tvalid_0's auc: 0.940534\tvalid_0's pr_auc: 0.749099\n",
            "[360]\tvalid_0's auc: 0.940187\tvalid_0's pr_auc: 0.741897\n",
            "[380]\tvalid_0's auc: 0.93984\tvalid_0's pr_auc: 0.738677\n",
            "[400]\tvalid_0's auc: 0.941227\tvalid_0's pr_auc: 0.761072\n",
            "[420]\tvalid_0's auc: 0.940187\tvalid_0's pr_auc: 0.745378\n",
            "[440]\tvalid_0's auc: 0.93984\tvalid_0's pr_auc: 0.748066\n",
            "[460]\tvalid_0's auc: 0.941921\tvalid_0's pr_auc: 0.77082\n",
            "[480]\tvalid_0's auc: 0.941574\tvalid_0's pr_auc: 0.760317\n",
            "[500]\tvalid_0's auc: 0.941227\tvalid_0's pr_auc: 0.762125\n",
            "[520]\tvalid_0's auc: 0.939494\tvalid_0's pr_auc: 0.752861\n",
            "[540]\tvalid_0's auc: 0.939147\tvalid_0's pr_auc: 0.751409\n",
            "[560]\tvalid_0's auc: 0.9388\tvalid_0's pr_auc: 0.749919\n",
            "[580]\tvalid_0's auc: 0.939147\tvalid_0's pr_auc: 0.750551\n",
            "[600]\tvalid_0's auc: 0.939494\tvalid_0's pr_auc: 0.751052\n",
            "[620]\tvalid_0's auc: 0.940534\tvalid_0's pr_auc: 0.757321\n",
            "[640]\tvalid_0's auc: 0.939147\tvalid_0's pr_auc: 0.751038\n",
            "[660]\tvalid_0's auc: 0.938454\tvalid_0's pr_auc: 0.75101\n",
            "[680]\tvalid_0's auc: 0.938107\tvalid_0's pr_auc: 0.749923\n",
            "[700]\tvalid_0's auc: 0.939494\tvalid_0's pr_auc: 0.759016\n",
            "==========================================================\n",
            "[20]\tvalid_0's auc: 0.913826\tvalid_0's pr_auc: 0.634238\n",
            "[40]\tvalid_0's auc: 0.91714\tvalid_0's pr_auc: 0.631857\n",
            "[60]\tvalid_0's auc: 0.919981\tvalid_0's pr_auc: 0.640052\n",
            "[80]\tvalid_0's auc: 0.922506\tvalid_0's pr_auc: 0.639101\n",
            "[100]\tvalid_0's auc: 0.921875\tvalid_0's pr_auc: 0.639511\n",
            "[120]\tvalid_0's auc: 0.921559\tvalid_0's pr_auc: 0.636907\n"
          ]
        },
        {
          "output_type": "stream",
          "name": "stderr",
          "text": [
            "/usr/local/lib/python3.7/dist-packages/lightgbm/callback.py:189: UserWarning: Early stopping is not available in dart mode\n",
            "  warnings.warn('Early stopping is not available in dart mode')\n"
          ]
        },
        {
          "output_type": "stream",
          "name": "stdout",
          "text": [
            "[140]\tvalid_0's auc: 0.921244\tvalid_0's pr_auc: 0.639068\n",
            "[160]\tvalid_0's auc: 0.924085\tvalid_0's pr_auc: 0.646247\n",
            "[180]\tvalid_0's auc: 0.920928\tvalid_0's pr_auc: 0.639074\n",
            "[200]\tvalid_0's auc: 0.922506\tvalid_0's pr_auc: 0.640524\n",
            "[220]\tvalid_0's auc: 0.923769\tvalid_0's pr_auc: 0.645334\n",
            "[240]\tvalid_0's auc: 0.926294\tvalid_0's pr_auc: 0.656375\n",
            "[260]\tvalid_0's auc: 0.926926\tvalid_0's pr_auc: 0.704381\n",
            "[280]\tvalid_0's auc: 0.928188\tvalid_0's pr_auc: 0.709709\n",
            "[300]\tvalid_0's auc: 0.927872\tvalid_0's pr_auc: 0.709066\n",
            "[320]\tvalid_0's auc: 0.92661\tvalid_0's pr_auc: 0.70569\n",
            "[340]\tvalid_0's auc: 0.927872\tvalid_0's pr_auc: 0.715281\n",
            "[360]\tvalid_0's auc: 0.930082\tvalid_0's pr_auc: 0.723748\n",
            "[380]\tvalid_0's auc: 0.928819\tvalid_0's pr_auc: 0.714185\n",
            "[400]\tvalid_0's auc: 0.932607\tvalid_0's pr_auc: 0.737666\n",
            "[420]\tvalid_0's auc: 0.930082\tvalid_0's pr_auc: 0.725444\n",
            "[440]\tvalid_0's auc: 0.929451\tvalid_0's pr_auc: 0.717073\n",
            "[460]\tvalid_0's auc: 0.933239\tvalid_0's pr_auc: 0.731689\n",
            "[480]\tvalid_0's auc: 0.935448\tvalid_0's pr_auc: 0.735751\n",
            "[500]\tvalid_0's auc: 0.936395\tvalid_0's pr_auc: 0.749176\n",
            "[520]\tvalid_0's auc: 0.935448\tvalid_0's pr_auc: 0.743469\n",
            "[540]\tvalid_0's auc: 0.936395\tvalid_0's pr_auc: 0.751817\n",
            "[560]\tvalid_0's auc: 0.934186\tvalid_0's pr_auc: 0.741672\n",
            "[580]\tvalid_0's auc: 0.934817\tvalid_0's pr_auc: 0.74342\n",
            "[600]\tvalid_0's auc: 0.935133\tvalid_0's pr_auc: 0.748096\n",
            "[620]\tvalid_0's auc: 0.934186\tvalid_0's pr_auc: 0.738101\n",
            "[640]\tvalid_0's auc: 0.933554\tvalid_0's pr_auc: 0.73755\n",
            "[660]\tvalid_0's auc: 0.933239\tvalid_0's pr_auc: 0.736993\n",
            "[680]\tvalid_0's auc: 0.932607\tvalid_0's pr_auc: 0.733109\n",
            "[700]\tvalid_0's auc: 0.931345\tvalid_0's pr_auc: 0.728801\n",
            "==========================================================\n",
            "[20]\tvalid_0's auc: 0.864356\tvalid_0's pr_auc: 0.618456\n",
            "[40]\tvalid_0's auc: 0.870297\tvalid_0's pr_auc: 0.604535\n",
            "[60]\tvalid_0's auc: 0.875578\tvalid_0's pr_auc: 0.610597\n",
            "[80]\tvalid_0's auc: 0.879538\tvalid_0's pr_auc: 0.616814\n",
            "[100]\tvalid_0's auc: 0.878878\tvalid_0's pr_auc: 0.608996\n",
            "[120]\tvalid_0's auc: 0.879373\tvalid_0's pr_auc: 0.609803\n"
          ]
        },
        {
          "output_type": "stream",
          "name": "stderr",
          "text": [
            "/usr/local/lib/python3.7/dist-packages/lightgbm/callback.py:189: UserWarning: Early stopping is not available in dart mode\n",
            "  warnings.warn('Early stopping is not available in dart mode')\n"
          ]
        },
        {
          "output_type": "stream",
          "name": "stdout",
          "text": [
            "[140]\tvalid_0's auc: 0.891089\tvalid_0's pr_auc: 0.6499\n",
            "[160]\tvalid_0's auc: 0.894059\tvalid_0's pr_auc: 0.650159\n",
            "[180]\tvalid_0's auc: 0.894224\tvalid_0's pr_auc: 0.671517\n",
            "[200]\tvalid_0's auc: 0.897195\tvalid_0's pr_auc: 0.690133\n",
            "[220]\tvalid_0's auc: 0.898515\tvalid_0's pr_auc: 0.70471\n",
            "[240]\tvalid_0's auc: 0.899835\tvalid_0's pr_auc: 0.719463\n",
            "[260]\tvalid_0's auc: 0.900165\tvalid_0's pr_auc: 0.72584\n",
            "[280]\tvalid_0's auc: 0.901485\tvalid_0's pr_auc: 0.742946\n",
            "[300]\tvalid_0's auc: 0.902145\tvalid_0's pr_auc: 0.739749\n",
            "[320]\tvalid_0's auc: 0.901155\tvalid_0's pr_auc: 0.735286\n",
            "[340]\tvalid_0's auc: 0.900825\tvalid_0's pr_auc: 0.730922\n",
            "[360]\tvalid_0's auc: 0.90264\tvalid_0's pr_auc: 0.736938\n",
            "[380]\tvalid_0's auc: 0.90231\tvalid_0's pr_auc: 0.73792\n",
            "[400]\tvalid_0's auc: 0.89802\tvalid_0's pr_auc: 0.734257\n",
            "[420]\tvalid_0's auc: 0.90066\tvalid_0's pr_auc: 0.73651\n",
            "[440]\tvalid_0's auc: 0.89967\tvalid_0's pr_auc: 0.736297\n",
            "[460]\tvalid_0's auc: 0.89703\tvalid_0's pr_auc: 0.730792\n",
            "[480]\tvalid_0's auc: 0.89538\tvalid_0's pr_auc: 0.732695\n",
            "[500]\tvalid_0's auc: 0.894389\tvalid_0's pr_auc: 0.732437\n",
            "[520]\tvalid_0's auc: 0.893069\tvalid_0's pr_auc: 0.722006\n",
            "[540]\tvalid_0's auc: 0.893399\tvalid_0's pr_auc: 0.723368\n",
            "[560]\tvalid_0's auc: 0.894059\tvalid_0's pr_auc: 0.728469\n",
            "[580]\tvalid_0's auc: 0.891749\tvalid_0's pr_auc: 0.722216\n",
            "[600]\tvalid_0's auc: 0.891089\tvalid_0's pr_auc: 0.722705\n",
            "[620]\tvalid_0's auc: 0.892409\tvalid_0's pr_auc: 0.731361\n",
            "[640]\tvalid_0's auc: 0.892409\tvalid_0's pr_auc: 0.732669\n",
            "[660]\tvalid_0's auc: 0.891089\tvalid_0's pr_auc: 0.722709\n",
            "[680]\tvalid_0's auc: 0.890264\tvalid_0's pr_auc: 0.714425\n",
            "[700]\tvalid_0's auc: 0.891914\tvalid_0's pr_auc: 0.714151\n",
            "==========================================================\n",
            "[20]\tvalid_0's auc: 0.907207\tvalid_0's pr_auc: 0.687986\n",
            "[40]\tvalid_0's auc: 0.908482\tvalid_0's pr_auc: 0.693094\n",
            "[60]\tvalid_0's auc: 0.908801\tvalid_0's pr_auc: 0.693846\n",
            "[80]\tvalid_0's auc: 0.922034\tvalid_0's pr_auc: 0.70708\n",
            "[100]\tvalid_0's auc: 0.918527\tvalid_0's pr_auc: 0.688998\n"
          ]
        },
        {
          "output_type": "stream",
          "name": "stderr",
          "text": [
            "/usr/local/lib/python3.7/dist-packages/lightgbm/callback.py:189: UserWarning: Early stopping is not available in dart mode\n",
            "  warnings.warn('Early stopping is not available in dart mode')\n"
          ]
        },
        {
          "output_type": "stream",
          "name": "stdout",
          "text": [
            "[120]\tvalid_0's auc: 0.91757\tvalid_0's pr_auc: 0.681871\n",
            "[140]\tvalid_0's auc: 0.91773\tvalid_0's pr_auc: 0.679068\n",
            "[160]\tvalid_0's auc: 0.916614\tvalid_0's pr_auc: 0.672802\n",
            "[180]\tvalid_0's auc: 0.91757\tvalid_0's pr_auc: 0.681371\n",
            "[200]\tvalid_0's auc: 0.919165\tvalid_0's pr_auc: 0.686587\n",
            "[220]\tvalid_0's auc: 0.920281\tvalid_0's pr_auc: 0.695506\n",
            "[240]\tvalid_0's auc: 0.918048\tvalid_0's pr_auc: 0.696648\n",
            "[260]\tvalid_0's auc: 0.917411\tvalid_0's pr_auc: 0.706528\n",
            "[280]\tvalid_0's auc: 0.919005\tvalid_0's pr_auc: 0.713458\n",
            "[300]\tvalid_0's auc: 0.916454\tvalid_0's pr_auc: 0.710508\n",
            "[320]\tvalid_0's auc: 0.917092\tvalid_0's pr_auc: 0.713338\n",
            "[340]\tvalid_0's auc: 0.917092\tvalid_0's pr_auc: 0.711817\n",
            "[360]\tvalid_0's auc: 0.916454\tvalid_0's pr_auc: 0.719239\n",
            "[380]\tvalid_0's auc: 0.91486\tvalid_0's pr_auc: 0.714526\n",
            "[400]\tvalid_0's auc: 0.915497\tvalid_0's pr_auc: 0.718985\n",
            "[420]\tvalid_0's auc: 0.913265\tvalid_0's pr_auc: 0.715088\n",
            "[440]\tvalid_0's auc: 0.913584\tvalid_0's pr_auc: 0.714556\n",
            "[460]\tvalid_0's auc: 0.916135\tvalid_0's pr_auc: 0.724369\n",
            "[480]\tvalid_0's auc: 0.919005\tvalid_0's pr_auc: 0.731104\n",
            "[500]\tvalid_0's auc: 0.917092\tvalid_0's pr_auc: 0.729743\n",
            "[520]\tvalid_0's auc: 0.916135\tvalid_0's pr_auc: 0.726943\n",
            "[540]\tvalid_0's auc: 0.914541\tvalid_0's pr_auc: 0.725365\n",
            "[560]\tvalid_0's auc: 0.916295\tvalid_0's pr_auc: 0.731891\n",
            "[580]\tvalid_0's auc: 0.918846\tvalid_0's pr_auc: 0.730215\n",
            "[600]\tvalid_0's auc: 0.919483\tvalid_0's pr_auc: 0.730256\n",
            "[620]\tvalid_0's auc: 0.918846\tvalid_0's pr_auc: 0.71671\n",
            "[640]\tvalid_0's auc: 0.919165\tvalid_0's pr_auc: 0.718387\n",
            "[660]\tvalid_0's auc: 0.919165\tvalid_0's pr_auc: 0.718387\n",
            "[680]\tvalid_0's auc: 0.918846\tvalid_0's pr_auc: 0.71703\n",
            "[700]\tvalid_0's auc: 0.92044\tvalid_0's pr_auc: 0.72092\n",
            "==========================================================\n"
          ]
        }
      ]
    },
    {
      "cell_type": "code",
      "metadata": {
        "colab": {
          "base_uri": "https://localhost:8080/"
        },
        "id": "22f8eAf4NgEt",
        "outputId": "d3a4df2c-0e48-4472-d9ae-424832c7ac52"
      },
      "source": [
        "print(np.mean(auc_scores))"
      ],
      "execution_count": 44,
      "outputs": [
        {
          "output_type": "stream",
          "name": "stdout",
          "text": [
            "0.9346899246452635\n"
          ]
        }
      ]
    },
    {
      "cell_type": "code",
      "metadata": {
        "colab": {
          "base_uri": "https://localhost:8080/"
        },
        "id": "THXJQBIQNh6L",
        "outputId": "4a4edaf9-185c-4f10-cdcd-105408f40759"
      },
      "source": [
        "auc_scores"
      ],
      "execution_count": 45,
      "outputs": [
        {
          "output_type": "execute_result",
          "data": {
            "text/plain": [
              "[0.9442244224422442,\n",
              " 0.9203869047619048,\n",
              " 0.970171214553237,\n",
              " 0.9427501337613697,\n",
              " 0.9247252747252747,\n",
              " 0.9614485981308412,\n",
              " 0.9394937586685159,\n",
              " 0.9313446969696969,\n",
              " 0.8919141914191419,\n",
              " 0.920440051020408]"
            ]
          },
          "metadata": {},
          "execution_count": 45
        }
      ]
    },
    {
      "cell_type": "code",
      "metadata": {
        "colab": {
          "base_uri": "https://localhost:8080/"
        },
        "id": "_PB3NYPJOA66",
        "outputId": "bfd4227a-4169-421a-ed9b-2a954c1ec441"
      },
      "source": [
        "from sklearn.model_selection import StratifiedKFold\n",
        "SKF = StratifiedKFold(n_splits = 10)\n",
        "params_1 = {'bagging_fraction': 0.6,\n",
        " 'learning_rate': 0.05,\n",
        " 'max_depth': 15, # max_depth 조절\n",
        " 'num_boost_round': 700,\n",
        " 'num_leaves': 25} # num_leaves 조절\n",
        "# Train\n",
        "#-------------------------------------------------------------------------------------\n",
        "# validation auc score를 확인하기 위해 정의\n",
        "def f_pr_auc(probas_pred, y_true):\n",
        "    labels=y_true.get_label()\n",
        "    p, r, _ = precision_recall_curve(labels, probas_pred)\n",
        "    score=auc(r,p) \n",
        "    return \"pr_auc\", score, True\n",
        "#-------------------------------------------------------------------------------------\n",
        "models     = []\n",
        "recalls    = []\n",
        "precisions = []\n",
        "auc_scores   = []\n",
        "threshold = 0.5\n",
        "# 파라미터 설정\n",
        "parameters =   {\n",
        "                'boosting_type' : 'dart',\n",
        "                'objective'     : 'binary',\n",
        "                'metric'        : 'auc',\n",
        "                'seed': 1015,\n",
        "                'learning_rate' : params_1['learning_rate'],\n",
        "                'max_depth': int(params_1['max_depth']),\n",
        "                'num_leaves': int(params_1['num_leaves']),\n",
        "                'bagging_fraction': params_1['bagging_fraction']\n",
        "                }\n",
        "#-------------------------------------------------------------------------------------\n",
        "# \n",
        "\n",
        "for train_idx, val_idx in SKF.split(train_x, train_y):\n",
        "\n",
        "    # split train, validation set\n",
        "    X = train_x.loc[train_idx,:]\n",
        "    y = train_y.loc[train_idx,:]\n",
        "    valid_x = train_x.loc[val_idx,:]\n",
        "    valid_y = train_y.loc[val_idx,:]\n",
        "\n",
        "    d_train= lgb.Dataset(X, y)\n",
        "    d_val  = lgb.Dataset(valid_x, valid_y)\n",
        "\n",
        "    #run traning\n",
        "    model = lgb.train(\n",
        "                        parameters,\n",
        "                        train_set       = d_train,\n",
        "                        num_boost_round = int(params_1['num_boost_round']),\n",
        "                        valid_sets      = d_val,\n",
        "                        feval           = f_pr_auc,\n",
        "                        verbose_eval    = 20, \n",
        "                        early_stopping_rounds = 3\n",
        "                       )\n",
        "\n",
        "    # cal valid prediction\n",
        "    valid_prob = model.predict(valid_x)\n",
        "    valid_pred = np.where(valid_prob > threshold, 1, 0)\n",
        "\n",
        "    # cal scores\n",
        "    recall    = recall_score(    valid_y, valid_pred)\n",
        "    precision = precision_score( valid_y, valid_pred)\n",
        "    auc_score = roc_auc_score(   valid_y, valid_prob)\n",
        "\n",
        "    # append scores\n",
        "    models.append(model)\n",
        "    recalls.append(recall)\n",
        "    precisions.append(precision)\n",
        "    auc_scores.append(auc_score)\n",
        "\n",
        "    print('==========================================================')\n"
      ],
      "execution_count": 46,
      "outputs": [
        {
          "output_type": "stream",
          "name": "stderr",
          "text": [
            "/usr/local/lib/python3.7/dist-packages/lightgbm/callback.py:189: UserWarning: Early stopping is not available in dart mode\n",
            "  warnings.warn('Early stopping is not available in dart mode')\n"
          ]
        },
        {
          "output_type": "stream",
          "name": "stdout",
          "text": [
            "[20]\tvalid_0's auc: 0.494792\tvalid_0's pr_auc: 0.21771\n",
            "[40]\tvalid_0's auc: 0.506787\tvalid_0's pr_auc: 0.220459\n",
            "[60]\tvalid_0's auc: 0.512784\tvalid_0's pr_auc: 0.221878\n",
            "[80]\tvalid_0's auc: 0.50363\tvalid_0's pr_auc: 0.222687\n",
            "[100]\tvalid_0's auc: 0.562658\tvalid_0's pr_auc: 0.237929\n",
            "[120]\tvalid_0's auc: 0.573706\tvalid_0's pr_auc: 0.241271\n",
            "[140]\tvalid_0's auc: 0.573706\tvalid_0's pr_auc: 0.241271\n",
            "[160]\tvalid_0's auc: 0.556345\tvalid_0's pr_auc: 0.236115\n",
            "[180]\tvalid_0's auc: 0.556345\tvalid_0's pr_auc: 0.236115\n",
            "[200]\tvalid_0's auc: 0.560448\tvalid_0's pr_auc: 0.237254\n",
            "[220]\tvalid_0's auc: 0.561395\tvalid_0's pr_auc: 0.254398\n",
            "[240]\tvalid_0's auc: 0.456439\tvalid_0's pr_auc: 0.23067\n",
            "[260]\tvalid_0's auc: 0.420455\tvalid_0's pr_auc: 0.224\n",
            "[280]\tvalid_0's auc: 0.415088\tvalid_0's pr_auc: 0.223011\n",
            "[300]\tvalid_0's auc: 0.434186\tvalid_0's pr_auc: 0.226578\n",
            "[320]\tvalid_0's auc: 0.466698\tvalid_0's pr_auc: 0.233272\n",
            "[340]\tvalid_0's auc: 0.461016\tvalid_0's pr_auc: 0.23208\n",
            "[360]\tvalid_0's auc: 0.521938\tvalid_0's pr_auc: 0.246295\n",
            "[380]\tvalid_0's auc: 0.511521\tvalid_0's pr_auc: 0.243592\n",
            "[400]\tvalid_0's auc: 0.544508\tvalid_0's pr_auc: 0.256733\n",
            "[420]\tvalid_0's auc: 0.542929\tvalid_0's pr_auc: 0.256407\n",
            "[440]\tvalid_0's auc: 0.538826\tvalid_0's pr_auc: 0.255178\n",
            "[460]\tvalid_0's auc: 0.509154\tvalid_0's pr_auc: 0.247637\n",
            "[480]\tvalid_0's auc: 0.526199\tvalid_0's pr_auc: 0.251908\n",
            "[500]\tvalid_0's auc: 0.503472\tvalid_0's pr_auc: 0.246273\n",
            "[520]\tvalid_0's auc: 0.503472\tvalid_0's pr_auc: 0.246273\n",
            "[540]\tvalid_0's auc: 0.503472\tvalid_0's pr_auc: 0.246273\n",
            "[560]\tvalid_0's auc: 0.548927\tvalid_0's pr_auc: 0.258061\n",
            "[580]\tvalid_0's auc: 0.571654\tvalid_0's pr_auc: 0.264811\n",
            "[600]\tvalid_0's auc: 0.588384\tvalid_0's pr_auc: 0.270255\n",
            "[620]\tvalid_0's auc: 0.588384\tvalid_0's pr_auc: 0.270255\n",
            "[640]\tvalid_0's auc: 0.594066\tvalid_0's pr_auc: 0.272184\n",
            "[660]\tvalid_0's auc: 0.594381\tvalid_0's pr_auc: 0.272633\n",
            "[680]\tvalid_0's auc: 0.594381\tvalid_0's pr_auc: 0.272633\n",
            "[700]\tvalid_0's auc: 0.594381\tvalid_0's pr_auc: 0.272633\n",
            "==========================================================\n"
          ]
        },
        {
          "output_type": "stream",
          "name": "stderr",
          "text": [
            "/usr/local/lib/python3.7/dist-packages/lightgbm/callback.py:189: UserWarning: Early stopping is not available in dart mode\n",
            "  warnings.warn('Early stopping is not available in dart mode')\n"
          ]
        },
        {
          "output_type": "stream",
          "name": "stdout",
          "text": [
            "[20]\tvalid_0's auc: 1\tvalid_0's pr_auc: 1\n",
            "[40]\tvalid_0's auc: 1\tvalid_0's pr_auc: 1\n",
            "[60]\tvalid_0's auc: 1\tvalid_0's pr_auc: 1\n",
            "[80]\tvalid_0's auc: 1\tvalid_0's pr_auc: 1\n",
            "[100]\tvalid_0's auc: 1\tvalid_0's pr_auc: 1\n",
            "[120]\tvalid_0's auc: 1\tvalid_0's pr_auc: 1\n",
            "[140]\tvalid_0's auc: 1\tvalid_0's pr_auc: 1\n",
            "[160]\tvalid_0's auc: 1\tvalid_0's pr_auc: 1\n",
            "[180]\tvalid_0's auc: 1\tvalid_0's pr_auc: 1\n",
            "[200]\tvalid_0's auc: 1\tvalid_0's pr_auc: 1\n",
            "[220]\tvalid_0's auc: 1\tvalid_0's pr_auc: 1\n",
            "[240]\tvalid_0's auc: 1\tvalid_0's pr_auc: 1\n",
            "[260]\tvalid_0's auc: 1\tvalid_0's pr_auc: 1\n",
            "[280]\tvalid_0's auc: 1\tvalid_0's pr_auc: 1\n",
            "[300]\tvalid_0's auc: 1\tvalid_0's pr_auc: 1\n",
            "[320]\tvalid_0's auc: 1\tvalid_0's pr_auc: 1\n",
            "[340]\tvalid_0's auc: 1\tvalid_0's pr_auc: 1\n",
            "[360]\tvalid_0's auc: 1\tvalid_0's pr_auc: 1\n",
            "[380]\tvalid_0's auc: 1\tvalid_0's pr_auc: 1\n",
            "[400]\tvalid_0's auc: 1\tvalid_0's pr_auc: 1\n",
            "[420]\tvalid_0's auc: 1\tvalid_0's pr_auc: 1\n",
            "[440]\tvalid_0's auc: 1\tvalid_0's pr_auc: 1\n",
            "[460]\tvalid_0's auc: 1\tvalid_0's pr_auc: 1\n",
            "[480]\tvalid_0's auc: 1\tvalid_0's pr_auc: 1\n",
            "[500]\tvalid_0's auc: 1\tvalid_0's pr_auc: 1\n",
            "[520]\tvalid_0's auc: 1\tvalid_0's pr_auc: 1\n",
            "[540]\tvalid_0's auc: 1\tvalid_0's pr_auc: 1\n",
            "[560]\tvalid_0's auc: 1\tvalid_0's pr_auc: 1\n",
            "[580]\tvalid_0's auc: 1\tvalid_0's pr_auc: 1\n",
            "[600]\tvalid_0's auc: 1\tvalid_0's pr_auc: 1\n",
            "[620]\tvalid_0's auc: 1\tvalid_0's pr_auc: 1\n",
            "[640]\tvalid_0's auc: 1\tvalid_0's pr_auc: 1\n",
            "[660]\tvalid_0's auc: 1\tvalid_0's pr_auc: 1\n",
            "[680]\tvalid_0's auc: 1\tvalid_0's pr_auc: 1\n",
            "[700]\tvalid_0's auc: 0.999053\tvalid_0's pr_auc: 0.997017\n",
            "==========================================================\n",
            "[20]\tvalid_0's auc: 0.925505\tvalid_0's pr_auc: 0.595833\n",
            "[40]\tvalid_0's auc: 0.929293\tvalid_0's pr_auc: 0.660342"
          ]
        },
        {
          "output_type": "stream",
          "name": "stderr",
          "text": [
            "/usr/local/lib/python3.7/dist-packages/sklearn/metrics/_classification.py:1272: UndefinedMetricWarning: Precision is ill-defined and being set to 0.0 due to no predicted samples. Use `zero_division` parameter to control this behavior.\n",
            "  _warn_prf(average, modifier, msg_start, len(result))\n",
            "/usr/local/lib/python3.7/dist-packages/lightgbm/callback.py:189: UserWarning: Early stopping is not available in dart mode\n",
            "  warnings.warn('Early stopping is not available in dart mode')\n"
          ]
        },
        {
          "output_type": "stream",
          "name": "stdout",
          "text": [
            "\n",
            "[60]\tvalid_0's auc: 0.929293\tvalid_0's pr_auc: 0.660342\n",
            "[80]\tvalid_0's auc: 0.929293\tvalid_0's pr_auc: 0.660342\n",
            "[100]\tvalid_0's auc: 0.929293\tvalid_0's pr_auc: 0.660342\n",
            "[120]\tvalid_0's auc: 0.929293\tvalid_0's pr_auc: 0.660342\n",
            "[140]\tvalid_0's auc: 0.931187\tvalid_0's pr_auc: 0.6734\n",
            "[160]\tvalid_0's auc: 0.931187\tvalid_0's pr_auc: 0.6734\n",
            "[180]\tvalid_0's auc: 0.934659\tvalid_0's pr_auc: 0.679788\n",
            "[200]\tvalid_0's auc: 0.934659\tvalid_0's pr_auc: 0.679788\n",
            "[220]\tvalid_0's auc: 0.934659\tvalid_0's pr_auc: 0.679788\n",
            "[240]\tvalid_0's auc: 0.928662\tvalid_0's pr_auc: 0.666335\n",
            "[260]\tvalid_0's auc: 0.928662\tvalid_0's pr_auc: 0.666335\n",
            "[280]\tvalid_0's auc: 0.928662\tvalid_0's pr_auc: 0.666335\n",
            "[300]\tvalid_0's auc: 0.928662\tvalid_0's pr_auc: 0.666335\n",
            "[320]\tvalid_0's auc: 0.928662\tvalid_0's pr_auc: 0.666335\n",
            "[340]\tvalid_0's auc: 0.921717\tvalid_0's pr_auc: 0.649558\n",
            "[360]\tvalid_0's auc: 0.921717\tvalid_0's pr_auc: 0.649558\n",
            "[380]\tvalid_0's auc: 0.921717\tvalid_0's pr_auc: 0.649558\n",
            "[400]\tvalid_0's auc: 0.922191\tvalid_0's pr_auc: 0.656254\n",
            "[420]\tvalid_0's auc: 0.922191\tvalid_0's pr_auc: 0.656254\n",
            "[440]\tvalid_0's auc: 0.906408\tvalid_0's pr_auc: 0.589214\n",
            "[460]\tvalid_0's auc: 0.906408\tvalid_0's pr_auc: 0.589214\n",
            "[480]\tvalid_0's auc: 0.906408\tvalid_0's pr_auc: 0.589214\n",
            "[500]\tvalid_0's auc: 0.906408\tvalid_0's pr_auc: 0.589214\n",
            "[520]\tvalid_0's auc: 0.906408\tvalid_0's pr_auc: 0.589214\n",
            "[540]\tvalid_0's auc: 0.906408\tvalid_0's pr_auc: 0.589214\n",
            "[560]\tvalid_0's auc: 0.900095\tvalid_0's pr_auc: 0.57737\n",
            "[580]\tvalid_0's auc: 0.900095\tvalid_0's pr_auc: 0.57737\n",
            "[600]\tvalid_0's auc: 0.892519\tvalid_0's pr_auc: 0.563418\n",
            "[620]\tvalid_0's auc: 0.889994\tvalid_0's pr_auc: 0.554614\n",
            "[640]\tvalid_0's auc: 0.889994\tvalid_0's pr_auc: 0.554614\n",
            "[660]\tvalid_0's auc: 0.887468\tvalid_0's pr_auc: 0.561204\n",
            "[680]\tvalid_0's auc: 0.887468\tvalid_0's pr_auc: 0.561204\n",
            "[700]\tvalid_0's auc: 0.887468\tvalid_0's pr_auc: 0.562627\n",
            "==========================================================\n"
          ]
        },
        {
          "output_type": "stream",
          "name": "stderr",
          "text": [
            "/usr/local/lib/python3.7/dist-packages/lightgbm/callback.py:189: UserWarning: Early stopping is not available in dart mode\n",
            "  warnings.warn('Early stopping is not available in dart mode')\n"
          ]
        },
        {
          "output_type": "stream",
          "name": "stdout",
          "text": [
            "[20]\tvalid_0's auc: 0.82197\tvalid_0's pr_auc: 0.362464\n",
            "[40]\tvalid_0's auc: 0.82197\tvalid_0's pr_auc: 0.362464\n",
            "[60]\tvalid_0's auc: 0.82197\tvalid_0's pr_auc: 0.362464\n",
            "[80]\tvalid_0's auc: 0.82197\tvalid_0's pr_auc: 0.362464\n",
            "[100]\tvalid_0's auc: 0.82197\tvalid_0's pr_auc: 0.362464\n",
            "[120]\tvalid_0's auc: 0.82197\tvalid_0's pr_auc: 0.362464\n",
            "[140]\tvalid_0's auc: 0.82197\tvalid_0's pr_auc: 0.362464\n",
            "[160]\tvalid_0's auc: 0.82197\tvalid_0's pr_auc: 0.362464\n",
            "[180]\tvalid_0's auc: 0.82197\tvalid_0's pr_auc: 0.362464\n",
            "[200]\tvalid_0's auc: 0.832702\tvalid_0's pr_auc: 0.376177\n",
            "[220]\tvalid_0's auc: 0.832702\tvalid_0's pr_auc: 0.376177\n",
            "[240]\tvalid_0's auc: 0.832702\tvalid_0's pr_auc: 0.376177\n",
            "[260]\tvalid_0's auc: 0.832702\tvalid_0's pr_auc: 0.376177\n",
            "[280]\tvalid_0's auc: 0.832702\tvalid_0's pr_auc: 0.376177\n",
            "[300]\tvalid_0's auc: 0.832702\tvalid_0's pr_auc: 0.376177\n",
            "[320]\tvalid_0's auc: 0.833333\tvalid_0's pr_auc: 0.376854\n",
            "[340]\tvalid_0's auc: 0.83649\tvalid_0's pr_auc: 0.380195\n",
            "[360]\tvalid_0's auc: 0.83649\tvalid_0's pr_auc: 0.380195\n",
            "[380]\tvalid_0's auc: 0.83649\tvalid_0's pr_auc: 0.380195\n",
            "[400]\tvalid_0's auc: 0.83649\tvalid_0's pr_auc: 0.380195\n",
            "[420]\tvalid_0's auc: 0.83649\tvalid_0's pr_auc: 0.380195\n",
            "[440]\tvalid_0's auc: 0.83649\tvalid_0's pr_auc: 0.380195\n",
            "[460]\tvalid_0's auc: 0.83649\tvalid_0's pr_auc: 0.380195\n",
            "[480]\tvalid_0's auc: 0.83649\tvalid_0's pr_auc: 0.380195\n",
            "[500]\tvalid_0's auc: 0.839962\tvalid_0's pr_auc: 0.435484\n",
            "[520]\tvalid_0's auc: 0.839962\tvalid_0's pr_auc: 0.435484\n",
            "[540]\tvalid_0's auc: 0.836016\tvalid_0's pr_auc: 0.438093\n",
            "[560]\tvalid_0's auc: 0.836016\tvalid_0's pr_auc: 0.438093\n",
            "[580]\tvalid_0's auc: 0.836016\tvalid_0's pr_auc: 0.438093\n",
            "[600]\tvalid_0's auc: 0.843908\tvalid_0's pr_auc: 0.453763\n",
            "[620]\tvalid_0's auc: 0.838542\tvalid_0's pr_auc: 0.441367\n",
            "[640]\tvalid_0's auc: 0.838542\tvalid_0's pr_auc: 0.441367\n",
            "[660]\tvalid_0's auc: 0.841067\tvalid_0's pr_auc: 0.445087\n",
            "[680]\tvalid_0's auc: 0.841067\tvalid_0's pr_auc: 0.445087\n",
            "[700]\tvalid_0's auc: 0.849905\tvalid_0's pr_auc: 0.465827\n",
            "==========================================================\n"
          ]
        },
        {
          "output_type": "stream",
          "name": "stderr",
          "text": [
            "/usr/local/lib/python3.7/dist-packages/lightgbm/callback.py:189: UserWarning: Early stopping is not available in dart mode\n",
            "  warnings.warn('Early stopping is not available in dart mode')\n"
          ]
        },
        {
          "output_type": "stream",
          "name": "stdout",
          "text": [
            "[20]\tvalid_0's auc: 0.699337\tvalid_0's pr_auc: 0.300586\n",
            "[40]\tvalid_0's auc: 0.699337\tvalid_0's pr_auc: 0.300586\n",
            "[60]\tvalid_0's auc: 0.699337\tvalid_0's pr_auc: 0.300586\n",
            "[80]\tvalid_0's auc: 0.699337\tvalid_0's pr_auc: 0.300586\n",
            "[100]\tvalid_0's auc: 0.699337\tvalid_0's pr_auc: 0.300586\n",
            "[120]\tvalid_0's auc: 0.699337\tvalid_0's pr_auc: 0.300586\n",
            "[140]\tvalid_0's auc: 0.699337\tvalid_0's pr_auc: 0.300586\n",
            "[160]\tvalid_0's auc: 0.697443\tvalid_0's pr_auc: 0.302682\n",
            "[180]\tvalid_0's auc: 0.701231\tvalid_0's pr_auc: 0.303599\n",
            "[200]\tvalid_0's auc: 0.708491\tvalid_0's pr_auc: 0.308835\n",
            "[220]\tvalid_0's auc: 0.708491\tvalid_0's pr_auc: 0.308835\n",
            "[240]\tvalid_0's auc: 0.711016\tvalid_0's pr_auc: 0.310565\n",
            "[260]\tvalid_0's auc: 0.721117\tvalid_0's pr_auc: 0.317252\n",
            "[280]\tvalid_0's auc: 0.723327\tvalid_0's pr_auc: 0.318253\n",
            "[300]\tvalid_0's auc: 0.723327\tvalid_0's pr_auc: 0.318253\n",
            "[320]\tvalid_0's auc: 0.72459\tvalid_0's pr_auc: 0.309118\n",
            "[340]\tvalid_0's auc: 0.725852\tvalid_0's pr_auc: 0.320097\n",
            "[360]\tvalid_0's auc: 0.716698\tvalid_0's pr_auc: 0.318054\n",
            "[380]\tvalid_0's auc: 0.720486\tvalid_0's pr_auc: 0.321293\n",
            "[400]\tvalid_0's auc: 0.720486\tvalid_0's pr_auc: 0.321293\n",
            "[420]\tvalid_0's auc: 0.720486\tvalid_0's pr_auc: 0.321293\n",
            "[440]\tvalid_0's auc: 0.720486\tvalid_0's pr_auc: 0.321293\n",
            "[460]\tvalid_0's auc: 0.720486\tvalid_0's pr_auc: 0.321293\n",
            "[480]\tvalid_0's auc: 0.720486\tvalid_0's pr_auc: 0.321293\n",
            "[500]\tvalid_0's auc: 0.720486\tvalid_0's pr_auc: 0.321293\n",
            "[520]\tvalid_0's auc: 0.720486\tvalid_0's pr_auc: 0.321293\n",
            "[540]\tvalid_0's auc: 0.720486\tvalid_0's pr_auc: 0.321293\n",
            "[560]\tvalid_0's auc: 0.720486\tvalid_0's pr_auc: 0.321293\n",
            "[580]\tvalid_0's auc: 0.723011\tvalid_0's pr_auc: 0.323248\n",
            "[600]\tvalid_0's auc: 0.726799\tvalid_0's pr_auc: 0.326705\n",
            "[620]\tvalid_0's auc: 0.726799\tvalid_0's pr_auc: 0.326705\n",
            "[640]\tvalid_0's auc: 0.726799\tvalid_0's pr_auc: 0.326705\n",
            "[660]\tvalid_0's auc: 0.710385\tvalid_0's pr_auc: 0.318054\n",
            "[680]\tvalid_0's auc: 0.708807\tvalid_0's pr_auc: 0.316871\n",
            "[700]\tvalid_0's auc: 0.708807\tvalid_0's pr_auc: 0.316871\n",
            "==========================================================\n",
            "[20]\tvalid_0's auc: 1\tvalid_0's pr_auc: 1\n",
            "[40]\tvalid_0's auc: 1\tvalid_0's pr_auc: 1"
          ]
        },
        {
          "output_type": "stream",
          "name": "stderr",
          "text": [
            "/usr/local/lib/python3.7/dist-packages/lightgbm/callback.py:189: UserWarning: Early stopping is not available in dart mode\n",
            "  warnings.warn('Early stopping is not available in dart mode')\n"
          ]
        },
        {
          "output_type": "stream",
          "name": "stdout",
          "text": [
            "\n",
            "[60]\tvalid_0's auc: 1\tvalid_0's pr_auc: 1\n",
            "[80]\tvalid_0's auc: 1\tvalid_0's pr_auc: 1\n",
            "[100]\tvalid_0's auc: 1\tvalid_0's pr_auc: 1\n",
            "[120]\tvalid_0's auc: 1\tvalid_0's pr_auc: 1\n",
            "[140]\tvalid_0's auc: 1\tvalid_0's pr_auc: 1\n",
            "[160]\tvalid_0's auc: 1\tvalid_0's pr_auc: 1\n",
            "[180]\tvalid_0's auc: 1\tvalid_0's pr_auc: 1\n",
            "[200]\tvalid_0's auc: 1\tvalid_0's pr_auc: 1\n",
            "[220]\tvalid_0's auc: 1\tvalid_0's pr_auc: 1\n",
            "[240]\tvalid_0's auc: 1\tvalid_0's pr_auc: 1\n",
            "[260]\tvalid_0's auc: 0.99779\tvalid_0's pr_auc: 0.992479\n",
            "[280]\tvalid_0's auc: 0.995265\tvalid_0's pr_auc: 0.98086\n",
            "[300]\tvalid_0's auc: 0.99779\tvalid_0's pr_auc: 0.992479\n",
            "[320]\tvalid_0's auc: 1\tvalid_0's pr_auc: 1\n",
            "[340]\tvalid_0's auc: 1\tvalid_0's pr_auc: 1\n",
            "[360]\tvalid_0's auc: 1\tvalid_0's pr_auc: 1\n",
            "[380]\tvalid_0's auc: 1\tvalid_0's pr_auc: 1\n",
            "[400]\tvalid_0's auc: 0.997159\tvalid_0's pr_auc: 0.989975\n",
            "[420]\tvalid_0's auc: 0.99779\tvalid_0's pr_auc: 0.992479\n",
            "[440]\tvalid_0's auc: 0.997159\tvalid_0's pr_auc: 0.989975\n",
            "[460]\tvalid_0's auc: 0.990846\tvalid_0's pr_auc: 0.967288\n",
            "[480]\tvalid_0's auc: 0.986742\tvalid_0's pr_auc: 0.954706\n",
            "[500]\tvalid_0's auc: 0.979798\tvalid_0's pr_auc: 0.929535\n",
            "[520]\tvalid_0's auc: 0.978535\tvalid_0's pr_auc: 0.924517\n",
            "[540]\tvalid_0's auc: 0.977273\tvalid_0's pr_auc: 0.919645\n",
            "[560]\tvalid_0's auc: 0.969066\tvalid_0's pr_auc: 0.899635\n",
            "[580]\tvalid_0's auc: 0.957386\tvalid_0's pr_auc: 0.871585\n",
            "[600]\tvalid_0's auc: 0.941288\tvalid_0's pr_auc: 0.839929\n",
            "[620]\tvalid_0's auc: 0.938447\tvalid_0's pr_auc: 0.832867\n",
            "[640]\tvalid_0's auc: 0.940341\tvalid_0's pr_auc: 0.837492\n",
            "[660]\tvalid_0's auc: 0.935922\tvalid_0's pr_auc: 0.828673\n",
            "[680]\tvalid_0's auc: 0.926136\tvalid_0's pr_auc: 0.809883\n",
            "[700]\tvalid_0's auc: 0.914773\tvalid_0's pr_auc: 0.793257\n",
            "==========================================================\n",
            "[20]\tvalid_0's auc: 0.949495\tvalid_0's pr_auc: 0.850317\n",
            "[40]\tvalid_0's auc: 0.949495\tvalid_0's pr_auc: 0.850317\n",
            "[60]\tvalid_0's auc: 0.948232\tvalid_0's pr_auc: 0.762705\n",
            "[80]\tvalid_0's auc: 0.948232\tvalid_0's pr_auc: 0.762705\n",
            "[100]\tvalid_0's auc: 0.948232\tvalid_0's pr_auc: 0.762705\n",
            "[120]\tvalid_0's auc: 0.948232\tvalid_0's pr_auc: 0.762705\n"
          ]
        },
        {
          "output_type": "stream",
          "name": "stderr",
          "text": [
            "/usr/local/lib/python3.7/dist-packages/lightgbm/callback.py:189: UserWarning: Early stopping is not available in dart mode\n",
            "  warnings.warn('Early stopping is not available in dart mode')\n"
          ]
        },
        {
          "output_type": "stream",
          "name": "stdout",
          "text": [
            "[140]\tvalid_0's auc: 0.948232\tvalid_0's pr_auc: 0.762705\n",
            "[160]\tvalid_0's auc: 0.948232\tvalid_0's pr_auc: 0.762705\n",
            "[180]\tvalid_0's auc: 0.951231\tvalid_0's pr_auc: 0.769888\n",
            "[200]\tvalid_0's auc: 0.951231\tvalid_0's pr_auc: 0.769888\n",
            "[220]\tvalid_0's auc: 0.951231\tvalid_0's pr_auc: 0.769888\n",
            "[240]\tvalid_0's auc: 0.951231\tvalid_0's pr_auc: 0.769946\n",
            "[260]\tvalid_0's auc: 0.951231\tvalid_0's pr_auc: 0.769946\n",
            "[280]\tvalid_0's auc: 0.955335\tvalid_0's pr_auc: 0.848359\n",
            "[300]\tvalid_0's auc: 0.955335\tvalid_0's pr_auc: 0.848359\n",
            "[320]\tvalid_0's auc: 0.955335\tvalid_0's pr_auc: 0.848359\n",
            "[340]\tvalid_0's auc: 0.955335\tvalid_0's pr_auc: 0.848359\n",
            "[360]\tvalid_0's auc: 0.955335\tvalid_0's pr_auc: 0.848359\n",
            "[380]\tvalid_0's auc: 0.957229\tvalid_0's pr_auc: 0.831432\n",
            "[400]\tvalid_0's auc: 0.957229\tvalid_0's pr_auc: 0.831432\n",
            "[420]\tvalid_0's auc: 0.957229\tvalid_0's pr_auc: 0.831432\n",
            "[440]\tvalid_0's auc: 0.957386\tvalid_0's pr_auc: 0.832206\n",
            "[460]\tvalid_0's auc: 0.954861\tvalid_0's pr_auc: 0.801056\n",
            "[480]\tvalid_0's auc: 0.954861\tvalid_0's pr_auc: 0.801056\n",
            "[500]\tvalid_0's auc: 0.954861\tvalid_0's pr_auc: 0.801056\n",
            "[520]\tvalid_0's auc: 0.954861\tvalid_0's pr_auc: 0.801056\n",
            "[540]\tvalid_0's auc: 0.954861\tvalid_0's pr_auc: 0.801056\n",
            "[560]\tvalid_0's auc: 0.954861\tvalid_0's pr_auc: 0.801056\n",
            "[580]\tvalid_0's auc: 0.956124\tvalid_0's pr_auc: 0.803957\n",
            "[600]\tvalid_0's auc: 0.954861\tvalid_0's pr_auc: 0.801056\n",
            "[620]\tvalid_0's auc: 0.954861\tvalid_0's pr_auc: 0.801056\n",
            "[640]\tvalid_0's auc: 0.954861\tvalid_0's pr_auc: 0.801056\n",
            "[660]\tvalid_0's auc: 0.954861\tvalid_0's pr_auc: 0.801056\n",
            "[680]\tvalid_0's auc: 0.955177\tvalid_0's pr_auc: 0.804615\n",
            "[700]\tvalid_0's auc: 0.955177\tvalid_0's pr_auc: 0.804615\n",
            "==========================================================\n"
          ]
        },
        {
          "output_type": "stream",
          "name": "stderr",
          "text": [
            "/usr/local/lib/python3.7/dist-packages/lightgbm/callback.py:189: UserWarning: Early stopping is not available in dart mode\n",
            "  warnings.warn('Early stopping is not available in dart mode')\n"
          ]
        },
        {
          "output_type": "stream",
          "name": "stdout",
          "text": [
            "[20]\tvalid_0's auc: 0.909091\tvalid_0's pr_auc: 0.797348\n",
            "[40]\tvalid_0's auc: 0.917929\tvalid_0's pr_auc: 0.810606\n",
            "[60]\tvalid_0's auc: 0.917929\tvalid_0's pr_auc: 0.810606\n",
            "[80]\tvalid_0's auc: 0.917929\tvalid_0's pr_auc: 0.810606\n",
            "[100]\tvalid_0's auc: 0.917929\tvalid_0's pr_auc: 0.810606\n",
            "[120]\tvalid_0's auc: 0.917929\tvalid_0's pr_auc: 0.810606\n",
            "[140]\tvalid_0's auc: 0.917929\tvalid_0's pr_auc: 0.810606\n",
            "[160]\tvalid_0's auc: 0.917929\tvalid_0's pr_auc: 0.810606\n",
            "[180]\tvalid_0's auc: 0.917929\tvalid_0's pr_auc: 0.810606\n",
            "[200]\tvalid_0's auc: 0.917929\tvalid_0's pr_auc: 0.810606\n",
            "[220]\tvalid_0's auc: 0.917929\tvalid_0's pr_auc: 0.810606\n",
            "[240]\tvalid_0's auc: 0.917929\tvalid_0's pr_auc: 0.810606\n",
            "[260]\tvalid_0's auc: 0.919192\tvalid_0's pr_auc: 0.812418\n",
            "[280]\tvalid_0's auc: 0.919192\tvalid_0's pr_auc: 0.812418\n",
            "[300]\tvalid_0's auc: 0.919192\tvalid_0's pr_auc: 0.812418\n",
            "[320]\tvalid_0's auc: 0.919192\tvalid_0's pr_auc: 0.812418\n",
            "[340]\tvalid_0's auc: 0.919192\tvalid_0's pr_auc: 0.812418\n",
            "[360]\tvalid_0's auc: 0.919192\tvalid_0's pr_auc: 0.812418\n",
            "[380]\tvalid_0's auc: 0.914773\tvalid_0's pr_auc: 0.645751\n",
            "[400]\tvalid_0's auc: 0.909091\tvalid_0's pr_auc: 0.644377\n",
            "[420]\tvalid_0's auc: 0.909091\tvalid_0's pr_auc: 0.644377\n",
            "[440]\tvalid_0's auc: 0.909091\tvalid_0's pr_auc: 0.644377\n",
            "[460]\tvalid_0's auc: 0.909091\tvalid_0's pr_auc: 0.644377\n",
            "[480]\tvalid_0's auc: 0.909091\tvalid_0's pr_auc: 0.644377\n",
            "[500]\tvalid_0's auc: 0.909091\tvalid_0's pr_auc: 0.644377\n",
            "[520]\tvalid_0's auc: 0.909091\tvalid_0's pr_auc: 0.644377\n",
            "[540]\tvalid_0's auc: 0.909091\tvalid_0's pr_auc: 0.644377\n",
            "[560]\tvalid_0's auc: 0.909091\tvalid_0's pr_auc: 0.644377\n",
            "[580]\tvalid_0's auc: 0.906566\tvalid_0's pr_auc: 0.63989\n",
            "[600]\tvalid_0's auc: 0.906566\tvalid_0's pr_auc: 0.63989\n",
            "[620]\tvalid_0's auc: 0.906566\tvalid_0's pr_auc: 0.63989\n",
            "[640]\tvalid_0's auc: 0.906566\tvalid_0's pr_auc: 0.63989\n",
            "[660]\tvalid_0's auc: 0.906566\tvalid_0's pr_auc: 0.63989\n",
            "[680]\tvalid_0's auc: 0.906566\tvalid_0's pr_auc: 0.63989\n",
            "[700]\tvalid_0's auc: 0.911616\tvalid_0's pr_auc: 0.649269\n",
            "==========================================================\n"
          ]
        },
        {
          "output_type": "stream",
          "name": "stderr",
          "text": [
            "/usr/local/lib/python3.7/dist-packages/lightgbm/callback.py:189: UserWarning: Early stopping is not available in dart mode\n",
            "  warnings.warn('Early stopping is not available in dart mode')\n"
          ]
        },
        {
          "output_type": "stream",
          "name": "stdout",
          "text": [
            "[20]\tvalid_0's auc: 0.949598\tvalid_0's pr_auc: 0.819675\n",
            "[40]\tvalid_0's auc: 0.956401\tvalid_0's pr_auc: 0.843823\n",
            "[60]\tvalid_0's auc: 0.956401\tvalid_0's pr_auc: 0.843823\n",
            "[80]\tvalid_0's auc: 0.951453\tvalid_0's pr_auc: 0.772886\n",
            "[100]\tvalid_0's auc: 0.951453\tvalid_0's pr_auc: 0.772886\n",
            "[120]\tvalid_0's auc: 0.946815\tvalid_0's pr_auc: 0.76126\n",
            "[140]\tvalid_0's auc: 0.939549\tvalid_0's pr_auc: 0.666941\n",
            "[160]\tvalid_0's auc: 0.939549\tvalid_0's pr_auc: 0.666941\n",
            "[180]\tvalid_0's auc: 0.943414\tvalid_0's pr_auc: 0.683652\n",
            "[200]\tvalid_0's auc: 0.948361\tvalid_0's pr_auc: 0.718286\n",
            "[220]\tvalid_0's auc: 0.950216\tvalid_0's pr_auc: 0.769526\n",
            "[240]\tvalid_0's auc: 0.957638\tvalid_0's pr_auc: 0.794843\n",
            "[260]\tvalid_0's auc: 0.952999\tvalid_0's pr_auc: 0.782035\n",
            "[280]\tvalid_0's auc: 0.952999\tvalid_0's pr_auc: 0.782035\n",
            "[300]\tvalid_0's auc: 0.947743\tvalid_0's pr_auc: 0.718627\n",
            "[320]\tvalid_0's auc: 0.947434\tvalid_0's pr_auc: 0.6959\n",
            "[340]\tvalid_0's auc: 0.947434\tvalid_0's pr_auc: 0.6959\n",
            "[360]\tvalid_0's auc: 0.951144\tvalid_0's pr_auc: 0.721878\n",
            "[380]\tvalid_0's auc: 0.950526\tvalid_0's pr_auc: 0.698592\n",
            "[400]\tvalid_0's auc: 0.949907\tvalid_0's pr_auc: 0.697551\n",
            "[420]\tvalid_0's auc: 0.950835\tvalid_0's pr_auc: 0.699151\n",
            "[440]\tvalid_0's auc: 0.949907\tvalid_0's pr_auc: 0.697551\n",
            "[460]\tvalid_0's auc: 0.951763\tvalid_0's pr_auc: 0.747347\n",
            "[480]\tvalid_0's auc: 0.954545\tvalid_0's pr_auc: 0.818316\n",
            "[500]\tvalid_0's auc: 0.954545\tvalid_0's pr_auc: 0.818316\n",
            "[520]\tvalid_0's auc: 0.957328\tvalid_0's pr_auc: 0.830327\n",
            "[540]\tvalid_0's auc: 0.957328\tvalid_0's pr_auc: 0.830327\n",
            "[560]\tvalid_0's auc: 0.963822\tvalid_0's pr_auc: 0.852035\n",
            "[580]\tvalid_0's auc: 0.963822\tvalid_0's pr_auc: 0.854621\n",
            "[600]\tvalid_0's auc: 0.962894\tvalid_0's pr_auc: 0.853282\n",
            "[620]\tvalid_0's auc: 0.962894\tvalid_0's pr_auc: 0.853282\n",
            "[640]\tvalid_0's auc: 0.962585\tvalid_0's pr_auc: 0.852872\n",
            "[660]\tvalid_0's auc: 0.962894\tvalid_0's pr_auc: 0.853282\n",
            "[680]\tvalid_0's auc: 0.961967\tvalid_0's pr_auc: 0.852099\n",
            "[700]\tvalid_0's auc: 0.960111\tvalid_0's pr_auc: 0.843199\n",
            "==========================================================\n",
            "[20]\tvalid_0's auc: 0.746971\tvalid_0's pr_auc: 0.354964\n",
            "[40]\tvalid_0's auc: 0.853795\tvalid_0's pr_auc: 0.697097\n",
            "[60]\tvalid_0's auc: 0.870536\tvalid_0's pr_auc: 0.704602\n",
            "[80]\tvalid_0's auc: 0.879145\tvalid_0's pr_auc: 0.712311\n",
            "[100]\tvalid_0's auc: 0.879464\tvalid_0's pr_auc: 0.712479\n",
            "[120]\tvalid_0's auc: 0.880421\tvalid_0's pr_auc: 0.712776"
          ]
        },
        {
          "output_type": "stream",
          "name": "stderr",
          "text": [
            "/usr/local/lib/python3.7/dist-packages/lightgbm/callback.py:189: UserWarning: Early stopping is not available in dart mode\n",
            "  warnings.warn('Early stopping is not available in dart mode')\n"
          ]
        },
        {
          "output_type": "stream",
          "name": "stdout",
          "text": [
            "\n",
            "[140]\tvalid_0's auc: 0.880421\tvalid_0's pr_auc: 0.712776\n",
            "[160]\tvalid_0's auc: 0.881378\tvalid_0's pr_auc: 0.713154\n",
            "[180]\tvalid_0's auc: 0.886798\tvalid_0's pr_auc: 0.762143\n",
            "[200]\tvalid_0's auc: 0.883291\tvalid_0's pr_auc: 0.761171\n",
            "[220]\tvalid_0's auc: 0.882653\tvalid_0's pr_auc: 0.760582\n",
            "[240]\tvalid_0's auc: 0.879464\tvalid_0's pr_auc: 0.758793\n",
            "[260]\tvalid_0's auc: 0.881696\tvalid_0's pr_auc: 0.760617\n",
            "[280]\tvalid_0's auc: 0.882653\tvalid_0's pr_auc: 0.760709\n",
            "[300]\tvalid_0's auc: 0.882334\tvalid_0's pr_auc: 0.760516\n",
            "[320]\tvalid_0's auc: 0.881696\tvalid_0's pr_auc: 0.760365\n",
            "[340]\tvalid_0's auc: 0.881696\tvalid_0's pr_auc: 0.760365\n",
            "[360]\tvalid_0's auc: 0.875957\tvalid_0's pr_auc: 0.758034\n",
            "[380]\tvalid_0's auc: 0.876594\tvalid_0's pr_auc: 0.758669\n",
            "[400]\tvalid_0's auc: 0.875638\tvalid_0's pr_auc: 0.758921\n",
            "[420]\tvalid_0's auc: 0.875638\tvalid_0's pr_auc: 0.758921\n",
            "[440]\tvalid_0's auc: 0.875319\tvalid_0's pr_auc: 0.759224\n",
            "[460]\tvalid_0's auc: 0.87787\tvalid_0's pr_auc: 0.739336\n",
            "[480]\tvalid_0's auc: 0.881696\tvalid_0's pr_auc: 0.741498\n",
            "[500]\tvalid_0's auc: 0.882334\tvalid_0's pr_auc: 0.741249\n",
            "[520]\tvalid_0's auc: 0.885842\tvalid_0's pr_auc: 0.742098\n",
            "[540]\tvalid_0's auc: 0.888712\tvalid_0's pr_auc: 0.743791\n",
            "[560]\tvalid_0's auc: 0.887755\tvalid_0's pr_auc: 0.74339\n",
            "[580]\tvalid_0's auc: 0.888393\tvalid_0's pr_auc: 0.743773\n",
            "[600]\tvalid_0's auc: 0.888393\tvalid_0's pr_auc: 0.744107\n",
            "[620]\tvalid_0's auc: 0.885523\tvalid_0's pr_auc: 0.742803\n",
            "[640]\tvalid_0's auc: 0.884885\tvalid_0's pr_auc: 0.742143\n",
            "[660]\tvalid_0's auc: 0.88648\tvalid_0's pr_auc: 0.743002\n",
            "[680]\tvalid_0's auc: 0.888074\tvalid_0's pr_auc: 0.744279\n",
            "[700]\tvalid_0's auc: 0.887436\tvalid_0's pr_auc: 0.743619\n",
            "==========================================================\n"
          ]
        }
      ]
    },
    {
      "cell_type": "code",
      "metadata": {
        "colab": {
          "base_uri": "https://localhost:8080/"
        },
        "id": "a3qKD6qjOA9Z",
        "outputId": "dc198bd1-4cef-480a-bb55-efdcd9cfd987"
      },
      "source": [
        "print(np.mean(auc_scores))\n",
        "#오히려 스코어가 떨어짐.\n",
        "#타겟의 비율이 24% 가량이어서 비율을 맞춰서 교차 검증하는 stratified가 소용없어보임"
      ],
      "execution_count": 48,
      "outputs": [
        {
          "output_type": "stream",
          "name": "stdout",
          "text": [
            "0.8668728097299526\n"
          ]
        }
      ]
    },
    {
      "cell_type": "code",
      "metadata": {
        "colab": {
          "base_uri": "https://localhost:8080/",
          "height": 419
        },
        "id": "1-R-l9SaasoY",
        "outputId": "7a5abd34-9cde-4edc-c168-d606b0909e78"
      },
      "source": [
        "VER1_test3"
      ],
      "execution_count": 52,
      "outputs": [
        {
          "output_type": "execute_result",
          "data": {
            "text/html": [
              "<div>\n",
              "<style scoped>\n",
              "    .dataframe tbody tr th:only-of-type {\n",
              "        vertical-align: middle;\n",
              "    }\n",
              "\n",
              "    .dataframe tbody tr th {\n",
              "        vertical-align: top;\n",
              "    }\n",
              "\n",
              "    .dataframe thead th {\n",
              "        text-align: right;\n",
              "    }\n",
              "</style>\n",
              "<table border=\"1\" class=\"dataframe\">\n",
              "  <thead>\n",
              "    <tr style=\"text-align: right;\">\n",
              "      <th></th>\n",
              "      <th>target</th>\n",
              "      <th>gender_concept_name</th>\n",
              "      <th>race_concept_name</th>\n",
              "      <th>patientAge</th>\n",
              "      <th>period</th>\n",
              "      <th>visit_start_y</th>\n",
              "      <th>lenzero_condition_conceptList</th>\n",
              "      <th>lenzero_drug_conceptList</th>\n",
              "      <th>drug_special</th>\n",
              "    </tr>\n",
              "  </thead>\n",
              "  <tbody>\n",
              "    <tr>\n",
              "      <th>0</th>\n",
              "      <td>0</td>\n",
              "      <td>1</td>\n",
              "      <td>0</td>\n",
              "      <td>68</td>\n",
              "      <td>1</td>\n",
              "      <td>2017</td>\n",
              "      <td>0</td>\n",
              "      <td>1</td>\n",
              "      <td>0</td>\n",
              "    </tr>\n",
              "    <tr>\n",
              "      <th>1</th>\n",
              "      <td>1</td>\n",
              "      <td>1</td>\n",
              "      <td>0</td>\n",
              "      <td>68</td>\n",
              "      <td>1</td>\n",
              "      <td>2017</td>\n",
              "      <td>1</td>\n",
              "      <td>1</td>\n",
              "      <td>0</td>\n",
              "    </tr>\n",
              "    <tr>\n",
              "      <th>2</th>\n",
              "      <td>1</td>\n",
              "      <td>1</td>\n",
              "      <td>0</td>\n",
              "      <td>68</td>\n",
              "      <td>41</td>\n",
              "      <td>2017</td>\n",
              "      <td>1</td>\n",
              "      <td>1</td>\n",
              "      <td>0</td>\n",
              "    </tr>\n",
              "    <tr>\n",
              "      <th>3</th>\n",
              "      <td>1</td>\n",
              "      <td>1</td>\n",
              "      <td>0</td>\n",
              "      <td>68</td>\n",
              "      <td>40</td>\n",
              "      <td>2017</td>\n",
              "      <td>1</td>\n",
              "      <td>1</td>\n",
              "      <td>0</td>\n",
              "    </tr>\n",
              "    <tr>\n",
              "      <th>4</th>\n",
              "      <td>1</td>\n",
              "      <td>1</td>\n",
              "      <td>0</td>\n",
              "      <td>68</td>\n",
              "      <td>39</td>\n",
              "      <td>2017</td>\n",
              "      <td>1</td>\n",
              "      <td>1</td>\n",
              "      <td>0</td>\n",
              "    </tr>\n",
              "    <tr>\n",
              "      <th>...</th>\n",
              "      <td>...</td>\n",
              "      <td>...</td>\n",
              "      <td>...</td>\n",
              "      <td>...</td>\n",
              "      <td>...</td>\n",
              "      <td>...</td>\n",
              "      <td>...</td>\n",
              "      <td>...</td>\n",
              "      <td>...</td>\n",
              "    </tr>\n",
              "    <tr>\n",
              "      <th>1304</th>\n",
              "      <td>0</td>\n",
              "      <td>0</td>\n",
              "      <td>0</td>\n",
              "      <td>77</td>\n",
              "      <td>1</td>\n",
              "      <td>2013</td>\n",
              "      <td>1</td>\n",
              "      <td>1</td>\n",
              "      <td>0</td>\n",
              "    </tr>\n",
              "    <tr>\n",
              "      <th>1305</th>\n",
              "      <td>0</td>\n",
              "      <td>0</td>\n",
              "      <td>0</td>\n",
              "      <td>82</td>\n",
              "      <td>1</td>\n",
              "      <td>2018</td>\n",
              "      <td>1</td>\n",
              "      <td>1</td>\n",
              "      <td>0</td>\n",
              "    </tr>\n",
              "    <tr>\n",
              "      <th>1306</th>\n",
              "      <td>0</td>\n",
              "      <td>1</td>\n",
              "      <td>0</td>\n",
              "      <td>68</td>\n",
              "      <td>1</td>\n",
              "      <td>2005</td>\n",
              "      <td>1</td>\n",
              "      <td>0</td>\n",
              "      <td>0</td>\n",
              "    </tr>\n",
              "    <tr>\n",
              "      <th>1307</th>\n",
              "      <td>0</td>\n",
              "      <td>1</td>\n",
              "      <td>0</td>\n",
              "      <td>64</td>\n",
              "      <td>11</td>\n",
              "      <td>2020</td>\n",
              "      <td>0</td>\n",
              "      <td>0</td>\n",
              "      <td>0</td>\n",
              "    </tr>\n",
              "    <tr>\n",
              "      <th>1308</th>\n",
              "      <td>0</td>\n",
              "      <td>0</td>\n",
              "      <td>0</td>\n",
              "      <td>33</td>\n",
              "      <td>1</td>\n",
              "      <td>2018</td>\n",
              "      <td>1</td>\n",
              "      <td>0</td>\n",
              "      <td>0</td>\n",
              "    </tr>\n",
              "  </tbody>\n",
              "</table>\n",
              "<p>1309 rows × 9 columns</p>\n",
              "</div>"
            ],
            "text/plain": [
              "      target  gender_concept_name  ...  lenzero_drug_conceptList  drug_special\n",
              "0          0                    1  ...                         1             0\n",
              "1          1                    1  ...                         1             0\n",
              "2          1                    1  ...                         1             0\n",
              "3          1                    1  ...                         1             0\n",
              "4          1                    1  ...                         1             0\n",
              "...      ...                  ...  ...                       ...           ...\n",
              "1304       0                    0  ...                         1             0\n",
              "1305       0                    0  ...                         1             0\n",
              "1306       0                    1  ...                         0             0\n",
              "1307       0                    1  ...                         0             0\n",
              "1308       0                    0  ...                         0             0\n",
              "\n",
              "[1309 rows x 9 columns]"
            ]
          },
          "metadata": {},
          "execution_count": 52
        }
      ]
    },
    {
      "cell_type": "code",
      "metadata": {
        "id": "tIYhp1FJOA_m"
      },
      "source": [
        "def make_AgeGender(row):\n",
        "  if (row['gender_concept_name'] ==0)&((row['patientAge']>=40)&(row['patientAge']<=60)): #여성\n",
        "    return 1\n",
        "  elif (row['gender_concept_name'] ==1)&((row['patientAge']>=60)&(row['patientAge']<=80)): #남성  \n",
        "    return 2\n",
        "  else:\n",
        "    return 0\n",
        "\n",
        "VER1_test3['AGEGender'] = VER1_test3.apply(lambda x:make_AgeGender(x) , axis = 1)\n"
      ],
      "execution_count": 54,
      "outputs": []
    },
    {
      "cell_type": "code",
      "metadata": {
        "id": "afTfL2bAbFt8"
      },
      "source": [
        "VER1_test4 = VER1_test3.copy()"
      ],
      "execution_count": 55,
      "outputs": []
    },
    {
      "cell_type": "code",
      "metadata": {
        "colab": {
          "base_uri": "https://localhost:8080/"
        },
        "id": "Bom09VaMOBB3",
        "outputId": "0279a5ee-deab-47a9-d372-f26dc52920ec"
      },
      "source": [
        "params = {'bagging_fraction': 0.6,\n",
        " 'learning_rate': 0.05,\n",
        " 'max_depth': 20,\n",
        " 'num_boost_round': 700,\n",
        " 'num_leaves': 28}\n",
        "\n",
        "train_x = VER1_test4.drop(['target'],axis = 1)\n",
        "train_y = VER1_test4[['target']]\n",
        "# 데이터 변환 실험\n",
        "\n",
        "params_1 = {'bagging_fraction': 0.6,\n",
        " 'learning_rate': 0.05,\n",
        " 'max_depth': 15, # max_depth 조절\n",
        " 'num_boost_round': 700,\n",
        " 'num_leaves': 25} # num_leaves 조절\n",
        "# Train\n",
        "#-------------------------------------------------------------------------------------\n",
        "# validation auc score를 확인하기 위해 정의\n",
        "def f_pr_auc(probas_pred, y_true):\n",
        "    labels=y_true.get_label()\n",
        "    p, r, _ = precision_recall_curve(labels, probas_pred)\n",
        "    score=auc(r,p) \n",
        "    return \"pr_auc\", score, True\n",
        "#-------------------------------------------------------------------------------------\n",
        "models     = []\n",
        "recalls    = []\n",
        "precisions = []\n",
        "auc_scores   = []\n",
        "threshold = 0.5\n",
        "# 파라미터 설정\n",
        "parameters =   {\n",
        "                'boosting_type' : 'dart',\n",
        "                'objective'     : 'binary',\n",
        "                'metric'        : 'auc',\n",
        "                'seed': 1015,\n",
        "                'learning_rate' : params_1['learning_rate'],\n",
        "                'max_depth': int(params_1['max_depth']),\n",
        "                'num_leaves': int(params_1['num_leaves']),\n",
        "                'bagging_fraction': params_1['bagging_fraction']\n",
        "                }\n",
        "#-------------------------------------------------------------------------------------\n",
        "# 10 Kfold cross validation\n",
        "k_fold = KFold(n_splits=10, shuffle=True, random_state=42)\n",
        "for train_idx, val_idx in k_fold.split(train_x):\n",
        "\n",
        "    # split train, validation set\n",
        "    X = train_x.loc[train_idx,:]\n",
        "    y = train_y.loc[train_idx,:]\n",
        "    valid_x = train_x.loc[val_idx,:]\n",
        "    valid_y = train_y.loc[val_idx,:]\n",
        "\n",
        "    d_train= lgb.Dataset(X, y)\n",
        "    d_val  = lgb.Dataset(valid_x, valid_y)\n",
        "\n",
        "    #run traning\n",
        "    model = lgb.train(\n",
        "                        parameters,\n",
        "                        train_set       = d_train,\n",
        "                        num_boost_round = int(params_1['num_boost_round']),\n",
        "                        valid_sets      = d_val,\n",
        "                        feval           = f_pr_auc,\n",
        "                        verbose_eval    = 20, \n",
        "                        early_stopping_rounds = 3\n",
        "                       )\n",
        "\n",
        "    # cal valid prediction\n",
        "    valid_prob = model.predict(valid_x)\n",
        "    valid_pred = np.where(valid_prob > threshold, 1, 0)\n",
        "\n",
        "    # cal scores\n",
        "    recall    = recall_score(    valid_y, valid_pred)\n",
        "    precision = precision_score( valid_y, valid_pred)\n",
        "    auc_score = roc_auc_score(   valid_y, valid_prob)\n",
        "\n",
        "    # append scores\n",
        "    models.append(model)\n",
        "    recalls.append(recall)\n",
        "    precisions.append(precision)\n",
        "    auc_scores.append(auc_score)\n",
        "\n",
        "    print('==========================================================')\n"
      ],
      "execution_count": 56,
      "outputs": [
        {
          "output_type": "stream",
          "name": "stderr",
          "text": [
            "/usr/local/lib/python3.7/dist-packages/lightgbm/callback.py:189: UserWarning: Early stopping is not available in dart mode\n",
            "  warnings.warn('Early stopping is not available in dart mode')\n"
          ]
        },
        {
          "output_type": "stream",
          "name": "stdout",
          "text": [
            "[20]\tvalid_0's auc: 0.934158\tvalid_0's pr_auc: 0.653097\n",
            "[40]\tvalid_0's auc: 0.935149\tvalid_0's pr_auc: 0.668796\n",
            "[60]\tvalid_0's auc: 0.935479\tvalid_0's pr_auc: 0.673225\n",
            "[80]\tvalid_0's auc: 0.935479\tvalid_0's pr_auc: 0.672562\n",
            "[100]\tvalid_0's auc: 0.937459\tvalid_0's pr_auc: 0.683581\n",
            "[120]\tvalid_0's auc: 0.937129\tvalid_0's pr_auc: 0.679578\n",
            "[140]\tvalid_0's auc: 0.937954\tvalid_0's pr_auc: 0.686828\n",
            "[160]\tvalid_0's auc: 0.937624\tvalid_0's pr_auc: 0.684807\n",
            "[180]\tvalid_0's auc: 0.939274\tvalid_0's pr_auc: 0.695014\n",
            "[200]\tvalid_0's auc: 0.940594\tvalid_0's pr_auc: 0.700835\n",
            "[220]\tvalid_0's auc: 0.937954\tvalid_0's pr_auc: 0.68367\n",
            "[240]\tvalid_0's auc: 0.938614\tvalid_0's pr_auc: 0.688847\n",
            "[260]\tvalid_0's auc: 0.939274\tvalid_0's pr_auc: 0.690658\n",
            "[280]\tvalid_0's auc: 0.939934\tvalid_0's pr_auc: 0.6972\n",
            "[300]\tvalid_0's auc: 0.940594\tvalid_0's pr_auc: 0.698839\n",
            "[320]\tvalid_0's auc: 0.939604\tvalid_0's pr_auc: 0.696045\n",
            "[340]\tvalid_0's auc: 0.939604\tvalid_0's pr_auc: 0.696352\n",
            "[360]\tvalid_0's auc: 0.941254\tvalid_0's pr_auc: 0.702284\n",
            "[380]\tvalid_0's auc: 0.942244\tvalid_0's pr_auc: 0.707134\n",
            "[400]\tvalid_0's auc: 0.942739\tvalid_0's pr_auc: 0.709899\n",
            "[420]\tvalid_0's auc: 0.943399\tvalid_0's pr_auc: 0.712315\n",
            "[440]\tvalid_0's auc: 0.943399\tvalid_0's pr_auc: 0.712315\n",
            "[460]\tvalid_0's auc: 0.943069\tvalid_0's pr_auc: 0.71173\n",
            "[480]\tvalid_0's auc: 0.943069\tvalid_0's pr_auc: 0.714119\n",
            "[500]\tvalid_0's auc: 0.943729\tvalid_0's pr_auc: 0.716284\n",
            "[520]\tvalid_0's auc: 0.943399\tvalid_0's pr_auc: 0.714145\n",
            "[540]\tvalid_0's auc: 0.944389\tvalid_0's pr_auc: 0.71813\n",
            "[560]\tvalid_0's auc: 0.94505\tvalid_0's pr_auc: 0.719817\n",
            "[580]\tvalid_0's auc: 0.946205\tvalid_0's pr_auc: 0.724095\n",
            "[600]\tvalid_0's auc: 0.944224\tvalid_0's pr_auc: 0.716164\n",
            "[620]\tvalid_0's auc: 0.943564\tvalid_0's pr_auc: 0.71282\n",
            "[640]\tvalid_0's auc: 0.943894\tvalid_0's pr_auc: 0.714589\n",
            "[660]\tvalid_0's auc: 0.943234\tvalid_0's pr_auc: 0.708826\n",
            "[680]\tvalid_0's auc: 0.943564\tvalid_0's pr_auc: 0.709656\n",
            "[700]\tvalid_0's auc: 0.944224\tvalid_0's pr_auc: 0.712018\n",
            "==========================================================\n",
            "[20]\tvalid_0's auc: 0.895089\tvalid_0's pr_auc: 0.662436\n",
            "[40]\tvalid_0's auc: 0.893601\tvalid_0's pr_auc: 0.630109\n",
            "[60]\tvalid_0's auc: 0.897768\tvalid_0's pr_auc: 0.642319\n",
            "[80]\tvalid_0's auc: 0.897173\tvalid_0's pr_auc: 0.640008\n",
            "[100]\tvalid_0's auc: 0.899554\tvalid_0's pr_auc: 0.647817\n",
            "[120]\tvalid_0's auc: 0.898661\tvalid_0's pr_auc: 0.645128\n"
          ]
        },
        {
          "output_type": "stream",
          "name": "stderr",
          "text": [
            "/usr/local/lib/python3.7/dist-packages/lightgbm/callback.py:189: UserWarning: Early stopping is not available in dart mode\n",
            "  warnings.warn('Early stopping is not available in dart mode')\n"
          ]
        },
        {
          "output_type": "stream",
          "name": "stdout",
          "text": [
            "[140]\tvalid_0's auc: 0.899256\tvalid_0's pr_auc: 0.648114\n",
            "[160]\tvalid_0's auc: 0.89881\tvalid_0's pr_auc: 0.65091\n",
            "[180]\tvalid_0's auc: 0.899107\tvalid_0's pr_auc: 0.646918\n",
            "[200]\tvalid_0's auc: 0.901488\tvalid_0's pr_auc: 0.65332\n",
            "[220]\tvalid_0's auc: 0.899702\tvalid_0's pr_auc: 0.647452\n",
            "[240]\tvalid_0's auc: 0.906994\tvalid_0's pr_auc: 0.684859\n",
            "[260]\tvalid_0's auc: 0.917411\tvalid_0's pr_auc: 0.730159\n",
            "[280]\tvalid_0's auc: 0.920387\tvalid_0's pr_auc: 0.740081\n",
            "[300]\tvalid_0's auc: 0.923661\tvalid_0's pr_auc: 0.743356\n",
            "[320]\tvalid_0's auc: 0.923661\tvalid_0's pr_auc: 0.742937\n",
            "[340]\tvalid_0's auc: 0.924851\tvalid_0's pr_auc: 0.7452\n",
            "[360]\tvalid_0's auc: 0.926042\tvalid_0's pr_auc: 0.74568\n",
            "[380]\tvalid_0's auc: 0.925744\tvalid_0's pr_auc: 0.744965\n",
            "[400]\tvalid_0's auc: 0.925446\tvalid_0's pr_auc: 0.743932\n",
            "[420]\tvalid_0's auc: 0.926042\tvalid_0's pr_auc: 0.753879\n",
            "[440]\tvalid_0's auc: 0.922173\tvalid_0's pr_auc: 0.731227\n",
            "[460]\tvalid_0's auc: 0.923065\tvalid_0's pr_auc: 0.735196\n",
            "[480]\tvalid_0's auc: 0.924554\tvalid_0's pr_auc: 0.742518\n",
            "[500]\tvalid_0's auc: 0.924256\tvalid_0's pr_auc: 0.760681\n",
            "[520]\tvalid_0's auc: 0.922173\tvalid_0's pr_auc: 0.751462\n",
            "[540]\tvalid_0's auc: 0.92247\tvalid_0's pr_auc: 0.74705\n",
            "[560]\tvalid_0's auc: 0.921875\tvalid_0's pr_auc: 0.745162\n",
            "[580]\tvalid_0's auc: 0.920685\tvalid_0's pr_auc: 0.729076\n",
            "[600]\tvalid_0's auc: 0.921577\tvalid_0's pr_auc: 0.728109\n",
            "[620]\tvalid_0's auc: 0.923065\tvalid_0's pr_auc: 0.732712\n",
            "[640]\tvalid_0's auc: 0.923065\tvalid_0's pr_auc: 0.731157\n",
            "[660]\tvalid_0's auc: 0.922173\tvalid_0's pr_auc: 0.724612\n",
            "[680]\tvalid_0's auc: 0.921875\tvalid_0's pr_auc: 0.724356\n",
            "[700]\tvalid_0's auc: 0.922173\tvalid_0's pr_auc: 0.724834\n",
            "==========================================================\n",
            "[20]\tvalid_0's auc: 0.938737\tvalid_0's pr_auc: 0.802576\n"
          ]
        },
        {
          "output_type": "stream",
          "name": "stderr",
          "text": [
            "/usr/local/lib/python3.7/dist-packages/lightgbm/callback.py:189: UserWarning: Early stopping is not available in dart mode\n",
            "  warnings.warn('Early stopping is not available in dart mode')\n"
          ]
        },
        {
          "output_type": "stream",
          "name": "stdout",
          "text": [
            "[40]\tvalid_0's auc: 0.941546\tvalid_0's pr_auc: 0.809843\n",
            "[60]\tvalid_0's auc: 0.941814\tvalid_0's pr_auc: 0.803257\n",
            "[80]\tvalid_0's auc: 0.944489\tvalid_0's pr_auc: 0.824126\n",
            "[100]\tvalid_0's auc: 0.942081\tvalid_0's pr_auc: 0.808615\n",
            "[120]\tvalid_0's auc: 0.948769\tvalid_0's pr_auc: 0.841304\n",
            "[140]\tvalid_0's auc: 0.948502\tvalid_0's pr_auc: 0.843838\n",
            "[160]\tvalid_0's auc: 0.946362\tvalid_0's pr_auc: 0.836213\n",
            "[180]\tvalid_0's auc: 0.950375\tvalid_0's pr_auc: 0.850387\n",
            "[200]\tvalid_0's auc: 0.951445\tvalid_0's pr_auc: 0.853894\n",
            "[220]\tvalid_0's auc: 0.952648\tvalid_0's pr_auc: 0.856636\n",
            "[240]\tvalid_0's auc: 0.957999\tvalid_0's pr_auc: 0.871558\n",
            "[260]\tvalid_0's auc: 0.961075\tvalid_0's pr_auc: 0.877142\n",
            "[280]\tvalid_0's auc: 0.961878\tvalid_0's pr_auc: 0.878539\n",
            "[300]\tvalid_0's auc: 0.96161\tvalid_0's pr_auc: 0.878317\n",
            "[320]\tvalid_0's auc: 0.964286\tvalid_0's pr_auc: 0.886303\n",
            "[340]\tvalid_0's auc: 0.966961\tvalid_0's pr_auc: 0.900342\n",
            "[360]\tvalid_0's auc: 0.968566\tvalid_0's pr_auc: 0.902827\n",
            "[380]\tvalid_0's auc: 0.968566\tvalid_0's pr_auc: 0.902708\n",
            "[400]\tvalid_0's auc: 0.970171\tvalid_0's pr_auc: 0.906619\n",
            "[420]\tvalid_0's auc: 0.970706\tvalid_0's pr_auc: 0.903568\n",
            "[440]\tvalid_0's auc: 0.969904\tvalid_0's pr_auc: 0.901464\n",
            "[460]\tvalid_0's auc: 0.970439\tvalid_0's pr_auc: 0.907188\n",
            "[480]\tvalid_0's auc: 0.971509\tvalid_0's pr_auc: 0.909634\n",
            "[500]\tvalid_0's auc: 0.971509\tvalid_0's pr_auc: 0.909632\n",
            "[520]\tvalid_0's auc: 0.970974\tvalid_0's pr_auc: 0.907804\n",
            "[540]\tvalid_0's auc: 0.970974\tvalid_0's pr_auc: 0.907804\n",
            "[560]\tvalid_0's auc: 0.971509\tvalid_0's pr_auc: 0.90891\n",
            "[580]\tvalid_0's auc: 0.971241\tvalid_0's pr_auc: 0.908133\n",
            "[600]\tvalid_0's auc: 0.970706\tvalid_0's pr_auc: 0.906502\n",
            "[620]\tvalid_0's auc: 0.971509\tvalid_0's pr_auc: 0.908618\n",
            "[640]\tvalid_0's auc: 0.970706\tvalid_0's pr_auc: 0.906653\n",
            "[660]\tvalid_0's auc: 0.970706\tvalid_0's pr_auc: 0.90666\n",
            "[680]\tvalid_0's auc: 0.970439\tvalid_0's pr_auc: 0.905837\n",
            "[700]\tvalid_0's auc: 0.970171\tvalid_0's pr_auc: 0.900463\n",
            "==========================================================\n",
            "[20]\tvalid_0's auc: 0.938068\tvalid_0's pr_auc: 0.763298\n",
            "[40]\tvalid_0's auc: 0.94489\tvalid_0's pr_auc: 0.790107\n"
          ]
        },
        {
          "output_type": "stream",
          "name": "stderr",
          "text": [
            "/usr/local/lib/python3.7/dist-packages/lightgbm/callback.py:189: UserWarning: Early stopping is not available in dart mode\n",
            "  warnings.warn('Early stopping is not available in dart mode')\n"
          ]
        },
        {
          "output_type": "stream",
          "name": "stdout",
          "text": [
            "[60]\tvalid_0's auc: 0.946763\tvalid_0's pr_auc: 0.809825\n",
            "[80]\tvalid_0's auc: 0.94596\tvalid_0's pr_auc: 0.801579\n",
            "[100]\tvalid_0's auc: 0.947833\tvalid_0's pr_auc: 0.812229\n",
            "[120]\tvalid_0's auc: 0.951846\tvalid_0's pr_auc: 0.833827\n",
            "[140]\tvalid_0's auc: 0.952113\tvalid_0's pr_auc: 0.824749\n",
            "[160]\tvalid_0's auc: 0.952381\tvalid_0's pr_auc: 0.824699\n",
            "[180]\tvalid_0's auc: 0.949839\tvalid_0's pr_auc: 0.814998\n",
            "[200]\tvalid_0's auc: 0.949037\tvalid_0's pr_auc: 0.806959\n",
            "[220]\tvalid_0's auc: 0.95091\tvalid_0's pr_auc: 0.81078\n",
            "[240]\tvalid_0's auc: 0.949706\tvalid_0's pr_auc: 0.854572\n",
            "[260]\tvalid_0's auc: 0.948368\tvalid_0's pr_auc: 0.821442\n",
            "[280]\tvalid_0's auc: 0.947566\tvalid_0's pr_auc: 0.848204\n",
            "[300]\tvalid_0's auc: 0.94703\tvalid_0's pr_auc: 0.846052\n",
            "[320]\tvalid_0's auc: 0.946495\tvalid_0's pr_auc: 0.841613\n",
            "[340]\tvalid_0's auc: 0.946763\tvalid_0's pr_auc: 0.842275\n",
            "[360]\tvalid_0's auc: 0.94596\tvalid_0's pr_auc: 0.840108\n",
            "[380]\tvalid_0's auc: 0.946495\tvalid_0's pr_auc: 0.842998\n",
            "[400]\tvalid_0's auc: 0.946228\tvalid_0's pr_auc: 0.843764\n",
            "[420]\tvalid_0's auc: 0.945425\tvalid_0's pr_auc: 0.840092\n",
            "[440]\tvalid_0's auc: 0.94596\tvalid_0's pr_auc: 0.844325\n",
            "[460]\tvalid_0's auc: 0.945425\tvalid_0's pr_auc: 0.841606\n",
            "[480]\tvalid_0's auc: 0.943419\tvalid_0's pr_auc: 0.836959\n",
            "[500]\tvalid_0's auc: 0.943686\tvalid_0's pr_auc: 0.837462\n",
            "[520]\tvalid_0's auc: 0.944489\tvalid_0's pr_auc: 0.83882\n",
            "[540]\tvalid_0's auc: 0.943954\tvalid_0's pr_auc: 0.837894\n",
            "[560]\tvalid_0's auc: 0.944757\tvalid_0's pr_auc: 0.841202\n",
            "[580]\tvalid_0's auc: 0.944757\tvalid_0's pr_auc: 0.841845\n",
            "[600]\tvalid_0's auc: 0.945024\tvalid_0's pr_auc: 0.841374\n",
            "[620]\tvalid_0's auc: 0.945292\tvalid_0's pr_auc: 0.843103\n",
            "[640]\tvalid_0's auc: 0.945292\tvalid_0's pr_auc: 0.842919\n",
            "[660]\tvalid_0's auc: 0.94489\tvalid_0's pr_auc: 0.840247\n",
            "[680]\tvalid_0's auc: 0.945158\tvalid_0's pr_auc: 0.843747\n",
            "[700]\tvalid_0's auc: 0.94382\tvalid_0's pr_auc: 0.841297\n",
            "==========================================================\n",
            "[20]\tvalid_0's auc: 0.922527\tvalid_0's pr_auc: 0.569013\n"
          ]
        },
        {
          "output_type": "stream",
          "name": "stderr",
          "text": [
            "/usr/local/lib/python3.7/dist-packages/lightgbm/callback.py:189: UserWarning: Early stopping is not available in dart mode\n",
            "  warnings.warn('Early stopping is not available in dart mode')\n"
          ]
        },
        {
          "output_type": "stream",
          "name": "stdout",
          "text": [
            "[40]\tvalid_0's auc: 0.92326\tvalid_0's pr_auc: 0.568781\n",
            "[60]\tvalid_0's auc: 0.923993\tvalid_0's pr_auc: 0.569535\n",
            "[80]\tvalid_0's auc: 0.926923\tvalid_0's pr_auc: 0.579173\n",
            "[100]\tvalid_0's auc: 0.927289\tvalid_0's pr_auc: 0.589259\n",
            "[120]\tvalid_0's auc: 0.924725\tvalid_0's pr_auc: 0.590657\n",
            "[140]\tvalid_0's auc: 0.925458\tvalid_0's pr_auc: 0.583608\n",
            "[160]\tvalid_0's auc: 0.926557\tvalid_0's pr_auc: 0.587095\n",
            "[180]\tvalid_0's auc: 0.925092\tvalid_0's pr_auc: 0.578621\n",
            "[200]\tvalid_0's auc: 0.92619\tvalid_0's pr_auc: 0.580591\n",
            "[220]\tvalid_0's auc: 0.926557\tvalid_0's pr_auc: 0.63448\n",
            "[240]\tvalid_0's auc: 0.925824\tvalid_0's pr_auc: 0.629567\n",
            "[260]\tvalid_0's auc: 0.923626\tvalid_0's pr_auc: 0.620802\n",
            "[280]\tvalid_0's auc: 0.926557\tvalid_0's pr_auc: 0.630638\n",
            "[300]\tvalid_0's auc: 0.92619\tvalid_0's pr_auc: 0.627818\n",
            "[320]\tvalid_0's auc: 0.926557\tvalid_0's pr_auc: 0.632658\n",
            "[340]\tvalid_0's auc: 0.923993\tvalid_0's pr_auc: 0.628505\n",
            "[360]\tvalid_0's auc: 0.925092\tvalid_0's pr_auc: 0.638565\n",
            "[380]\tvalid_0's auc: 0.925092\tvalid_0's pr_auc: 0.638501\n",
            "[400]\tvalid_0's auc: 0.924359\tvalid_0's pr_auc: 0.633867\n",
            "[420]\tvalid_0's auc: 0.923626\tvalid_0's pr_auc: 0.63182\n",
            "[440]\tvalid_0's auc: 0.922894\tvalid_0's pr_auc: 0.630222\n",
            "[460]\tvalid_0's auc: 0.924359\tvalid_0's pr_auc: 0.635475\n",
            "[480]\tvalid_0's auc: 0.923993\tvalid_0's pr_auc: 0.639516\n",
            "[500]\tvalid_0's auc: 0.92326\tvalid_0's pr_auc: 0.642445\n",
            "[520]\tvalid_0's auc: 0.924725\tvalid_0's pr_auc: 0.646037\n",
            "[540]\tvalid_0's auc: 0.92326\tvalid_0's pr_auc: 0.642445\n",
            "[560]\tvalid_0's auc: 0.925092\tvalid_0's pr_auc: 0.656661\n",
            "[580]\tvalid_0's auc: 0.925458\tvalid_0's pr_auc: 0.657452\n",
            "[600]\tvalid_0's auc: 0.924725\tvalid_0's pr_auc: 0.655494\n",
            "[620]\tvalid_0's auc: 0.925458\tvalid_0's pr_auc: 0.657492\n",
            "[640]\tvalid_0's auc: 0.925092\tvalid_0's pr_auc: 0.655783\n",
            "[660]\tvalid_0's auc: 0.925824\tvalid_0's pr_auc: 0.659244\n",
            "[680]\tvalid_0's auc: 0.926557\tvalid_0's pr_auc: 0.662972\n",
            "[700]\tvalid_0's auc: 0.926923\tvalid_0's pr_auc: 0.664137\n",
            "==========================================================\n",
            "[20]\tvalid_0's auc: 0.949572\tvalid_0's pr_auc: 0.655584\n",
            "[40]\tvalid_0's auc: 0.946067\tvalid_0's pr_auc: 0.64576\n",
            "[60]\tvalid_0's auc: 0.948014\tvalid_0's pr_auc: 0.649378\n",
            "[80]\tvalid_0's auc: 0.948988\tvalid_0's pr_auc: 0.651962\n",
            "[100]\tvalid_0's auc: 0.948209\tvalid_0's pr_auc: 0.649848\n"
          ]
        },
        {
          "output_type": "stream",
          "name": "stderr",
          "text": [
            "/usr/local/lib/python3.7/dist-packages/lightgbm/callback.py:189: UserWarning: Early stopping is not available in dart mode\n",
            "  warnings.warn('Early stopping is not available in dart mode')\n"
          ]
        },
        {
          "output_type": "stream",
          "name": "stdout",
          "text": [
            "[120]\tvalid_0's auc: 0.94743\tvalid_0's pr_auc: 0.645232\n",
            "[140]\tvalid_0's auc: 0.94704\tvalid_0's pr_auc: 0.64394\n",
            "[160]\tvalid_0's auc: 0.94704\tvalid_0's pr_auc: 0.643752\n",
            "[180]\tvalid_0's auc: 0.949377\tvalid_0's pr_auc: 0.649989\n",
            "[200]\tvalid_0's auc: 0.952103\tvalid_0's pr_auc: 0.67294\n",
            "[220]\tvalid_0's auc: 0.949766\tvalid_0's pr_auc: 0.652743\n",
            "[240]\tvalid_0's auc: 0.951324\tvalid_0's pr_auc: 0.665761\n",
            "[260]\tvalid_0's auc: 0.952103\tvalid_0's pr_auc: 0.66906\n",
            "[280]\tvalid_0's auc: 0.951713\tvalid_0's pr_auc: 0.666844\n",
            "[300]\tvalid_0's auc: 0.953271\tvalid_0's pr_auc: 0.679064\n",
            "[320]\tvalid_0's auc: 0.953271\tvalid_0's pr_auc: 0.68195\n",
            "[340]\tvalid_0's auc: 0.95366\tvalid_0's pr_auc: 0.692417\n",
            "[360]\tvalid_0's auc: 0.954829\tvalid_0's pr_auc: 0.730159\n",
            "[380]\tvalid_0's auc: 0.955218\tvalid_0's pr_auc: 0.734291\n",
            "[400]\tvalid_0's auc: 0.956386\tvalid_0's pr_auc: 0.743834\n",
            "[420]\tvalid_0's auc: 0.955607\tvalid_0's pr_auc: 0.740392\n",
            "[440]\tvalid_0's auc: 0.956776\tvalid_0's pr_auc: 0.744144\n",
            "[460]\tvalid_0's auc: 0.955997\tvalid_0's pr_auc: 0.746248\n",
            "[480]\tvalid_0's auc: 0.958333\tvalid_0's pr_auc: 0.781716\n",
            "[500]\tvalid_0's auc: 0.957555\tvalid_0's pr_auc: 0.778793\n",
            "[520]\tvalid_0's auc: 0.958333\tvalid_0's pr_auc: 0.781504\n",
            "[540]\tvalid_0's auc: 0.959112\tvalid_0's pr_auc: 0.785654\n",
            "[560]\tvalid_0's auc: 0.961059\tvalid_0's pr_auc: 0.79246\n",
            "[580]\tvalid_0's auc: 0.962227\tvalid_0's pr_auc: 0.797114\n",
            "[600]\tvalid_0's auc: 0.962617\tvalid_0's pr_auc: 0.799247\n",
            "[620]\tvalid_0's auc: 0.962617\tvalid_0's pr_auc: 0.799247\n",
            "[640]\tvalid_0's auc: 0.962617\tvalid_0's pr_auc: 0.80067\n",
            "[660]\tvalid_0's auc: 0.962617\tvalid_0's pr_auc: 0.799247\n",
            "[680]\tvalid_0's auc: 0.963006\tvalid_0's pr_auc: 0.803124\n",
            "[700]\tvalid_0's auc: 0.961059\tvalid_0's pr_auc: 0.794219\n",
            "==========================================================\n",
            "[20]\tvalid_0's auc: 0.929958\tvalid_0's pr_auc: 0.665076\n"
          ]
        },
        {
          "output_type": "stream",
          "name": "stderr",
          "text": [
            "/usr/local/lib/python3.7/dist-packages/lightgbm/callback.py:189: UserWarning: Early stopping is not available in dart mode\n",
            "  warnings.warn('Early stopping is not available in dart mode')\n"
          ]
        },
        {
          "output_type": "stream",
          "name": "stdout",
          "text": [
            "[40]\tvalid_0's auc: 0.931519\tvalid_0's pr_auc: 0.660367\n",
            "[60]\tvalid_0's auc: 0.929785\tvalid_0's pr_auc: 0.656694\n",
            "[80]\tvalid_0's auc: 0.929785\tvalid_0's pr_auc: 0.657044\n",
            "[100]\tvalid_0's auc: 0.930132\tvalid_0's pr_auc: 0.658244\n",
            "[120]\tvalid_0's auc: 0.931519\tvalid_0's pr_auc: 0.669545\n",
            "[140]\tvalid_0's auc: 0.932386\tvalid_0's pr_auc: 0.672977\n",
            "[160]\tvalid_0's auc: 0.933079\tvalid_0's pr_auc: 0.674957\n",
            "[180]\tvalid_0's auc: 0.934466\tvalid_0's pr_auc: 0.708051\n",
            "[200]\tvalid_0's auc: 0.935506\tvalid_0's pr_auc: 0.710573\n",
            "[220]\tvalid_0's auc: 0.934813\tvalid_0's pr_auc: 0.707249\n",
            "[240]\tvalid_0's auc: 0.936893\tvalid_0's pr_auc: 0.719011\n",
            "[260]\tvalid_0's auc: 0.937933\tvalid_0's pr_auc: 0.72931\n",
            "[280]\tvalid_0's auc: 0.93828\tvalid_0's pr_auc: 0.733431\n",
            "[300]\tvalid_0's auc: 0.939667\tvalid_0's pr_auc: 0.747309\n",
            "[320]\tvalid_0's auc: 0.938974\tvalid_0's pr_auc: 0.743286\n",
            "[340]\tvalid_0's auc: 0.938974\tvalid_0's pr_auc: 0.743286\n",
            "[360]\tvalid_0's auc: 0.940014\tvalid_0's pr_auc: 0.741034\n",
            "[380]\tvalid_0's auc: 0.939494\tvalid_0's pr_auc: 0.735858\n",
            "[400]\tvalid_0's auc: 0.941921\tvalid_0's pr_auc: 0.753049\n",
            "[420]\tvalid_0's auc: 0.941921\tvalid_0's pr_auc: 0.759999\n",
            "[440]\tvalid_0's auc: 0.942268\tvalid_0's pr_auc: 0.760994\n",
            "[460]\tvalid_0's auc: 0.943655\tvalid_0's pr_auc: 0.773182\n",
            "[480]\tvalid_0's auc: 0.941921\tvalid_0's pr_auc: 0.766545\n",
            "[500]\tvalid_0's auc: 0.941227\tvalid_0's pr_auc: 0.761332\n",
            "[520]\tvalid_0's auc: 0.942268\tvalid_0's pr_auc: 0.768907\n",
            "[540]\tvalid_0's auc: 0.940534\tvalid_0's pr_auc: 0.755365\n",
            "[560]\tvalid_0's auc: 0.940187\tvalid_0's pr_auc: 0.753935\n",
            "[580]\tvalid_0's auc: 0.93984\tvalid_0's pr_auc: 0.753001\n",
            "[600]\tvalid_0's auc: 0.939147\tvalid_0's pr_auc: 0.749374\n",
            "[620]\tvalid_0's auc: 0.940187\tvalid_0's pr_auc: 0.754208\n",
            "[640]\tvalid_0's auc: 0.940187\tvalid_0's pr_auc: 0.757291\n",
            "[660]\tvalid_0's auc: 0.941227\tvalid_0's pr_auc: 0.76357\n",
            "[680]\tvalid_0's auc: 0.940534\tvalid_0's pr_auc: 0.761847\n",
            "[700]\tvalid_0's auc: 0.9388\tvalid_0's pr_auc: 0.751999\n",
            "==========================================================\n",
            "[20]\tvalid_0's auc: 0.919192\tvalid_0's pr_auc: 0.650134\n"
          ]
        },
        {
          "output_type": "stream",
          "name": "stderr",
          "text": [
            "/usr/local/lib/python3.7/dist-packages/lightgbm/callback.py:189: UserWarning: Early stopping is not available in dart mode\n",
            "  warnings.warn('Early stopping is not available in dart mode')\n"
          ]
        },
        {
          "output_type": "stream",
          "name": "stdout",
          "text": [
            "[40]\tvalid_0's auc: 0.9244\tvalid_0's pr_auc: 0.651384\n",
            "[60]\tvalid_0's auc: 0.928819\tvalid_0's pr_auc: 0.666528\n",
            "[80]\tvalid_0's auc: 0.929135\tvalid_0's pr_auc: 0.667698\n",
            "[100]\tvalid_0's auc: 0.928504\tvalid_0's pr_auc: 0.669181\n",
            "[120]\tvalid_0's auc: 0.928188\tvalid_0's pr_auc: 0.706865\n",
            "[140]\tvalid_0's auc: 0.925347\tvalid_0's pr_auc: 0.696833\n",
            "[160]\tvalid_0's auc: 0.92661\tvalid_0's pr_auc: 0.702108\n",
            "[180]\tvalid_0's auc: 0.925663\tvalid_0's pr_auc: 0.698657\n",
            "[200]\tvalid_0's auc: 0.927557\tvalid_0's pr_auc: 0.713925\n",
            "[220]\tvalid_0's auc: 0.927241\tvalid_0's pr_auc: 0.707941\n",
            "[240]\tvalid_0's auc: 0.92661\tvalid_0's pr_auc: 0.700705\n",
            "[260]\tvalid_0's auc: 0.928819\tvalid_0's pr_auc: 0.713133\n",
            "[280]\tvalid_0's auc: 0.928504\tvalid_0's pr_auc: 0.710529\n",
            "[300]\tvalid_0's auc: 0.931976\tvalid_0's pr_auc: 0.722181\n",
            "[320]\tvalid_0's auc: 0.932292\tvalid_0's pr_auc: 0.721779\n",
            "[340]\tvalid_0's auc: 0.93387\tvalid_0's pr_auc: 0.727223\n",
            "[360]\tvalid_0's auc: 0.93608\tvalid_0's pr_auc: 0.733648\n",
            "[380]\tvalid_0's auc: 0.934186\tvalid_0's pr_auc: 0.730378\n",
            "[400]\tvalid_0's auc: 0.936711\tvalid_0's pr_auc: 0.744087\n",
            "[420]\tvalid_0's auc: 0.93608\tvalid_0's pr_auc: 0.739407\n",
            "[440]\tvalid_0's auc: 0.93608\tvalid_0's pr_auc: 0.739408\n",
            "[460]\tvalid_0's auc: 0.934186\tvalid_0's pr_auc: 0.733457\n",
            "[480]\tvalid_0's auc: 0.935448\tvalid_0's pr_auc: 0.744491\n",
            "[500]\tvalid_0's auc: 0.935764\tvalid_0's pr_auc: 0.745847\n",
            "[520]\tvalid_0's auc: 0.934186\tvalid_0's pr_auc: 0.731997\n",
            "[540]\tvalid_0's auc: 0.936711\tvalid_0's pr_auc: 0.747848\n",
            "[560]\tvalid_0's auc: 0.936395\tvalid_0's pr_auc: 0.747375\n",
            "[580]\tvalid_0's auc: 0.935448\tvalid_0's pr_auc: 0.744689\n",
            "[600]\tvalid_0's auc: 0.93608\tvalid_0's pr_auc: 0.74727\n",
            "[620]\tvalid_0's auc: 0.93387\tvalid_0's pr_auc: 0.736778\n",
            "[640]\tvalid_0's auc: 0.933239\tvalid_0's pr_auc: 0.731563\n",
            "[660]\tvalid_0's auc: 0.932607\tvalid_0's pr_auc: 0.728131\n",
            "[680]\tvalid_0's auc: 0.931976\tvalid_0's pr_auc: 0.729986\n",
            "[700]\tvalid_0's auc: 0.932607\tvalid_0's pr_auc: 0.732552\n",
            "==========================================================\n",
            "[20]\tvalid_0's auc: 0.873762\tvalid_0's pr_auc: 0.633885\n"
          ]
        },
        {
          "output_type": "stream",
          "name": "stderr",
          "text": [
            "/usr/local/lib/python3.7/dist-packages/lightgbm/callback.py:189: UserWarning: Early stopping is not available in dart mode\n",
            "  warnings.warn('Early stopping is not available in dart mode')\n"
          ]
        },
        {
          "output_type": "stream",
          "name": "stdout",
          "text": [
            "[40]\tvalid_0's auc: 0.885974\tvalid_0's pr_auc: 0.616687\n",
            "[60]\tvalid_0's auc: 0.884653\tvalid_0's pr_auc: 0.618524\n",
            "[80]\tvalid_0's auc: 0.889274\tvalid_0's pr_auc: 0.652946\n",
            "[100]\tvalid_0's auc: 0.886964\tvalid_0's pr_auc: 0.622292\n",
            "[120]\tvalid_0's auc: 0.894719\tvalid_0's pr_auc: 0.65784\n",
            "[140]\tvalid_0's auc: 0.9\tvalid_0's pr_auc: 0.705917\n",
            "[160]\tvalid_0's auc: 0.89769\tvalid_0's pr_auc: 0.701962\n",
            "[180]\tvalid_0's auc: 0.89637\tvalid_0's pr_auc: 0.696965\n",
            "[200]\tvalid_0's auc: 0.894389\tvalid_0's pr_auc: 0.699484\n",
            "[220]\tvalid_0's auc: 0.893399\tvalid_0's pr_auc: 0.701063\n",
            "[240]\tvalid_0's auc: 0.892079\tvalid_0's pr_auc: 0.703624\n",
            "[260]\tvalid_0's auc: 0.893729\tvalid_0's pr_auc: 0.714619\n",
            "[280]\tvalid_0's auc: 0.894719\tvalid_0's pr_auc: 0.718399\n",
            "[300]\tvalid_0's auc: 0.894719\tvalid_0's pr_auc: 0.713632\n",
            "[320]\tvalid_0's auc: 0.89802\tvalid_0's pr_auc: 0.727942\n",
            "[340]\tvalid_0's auc: 0.89505\tvalid_0's pr_auc: 0.720377\n",
            "[360]\tvalid_0's auc: 0.89967\tvalid_0's pr_auc: 0.74098\n",
            "[380]\tvalid_0's auc: 0.898515\tvalid_0's pr_auc: 0.735857\n",
            "[400]\tvalid_0's auc: 0.893564\tvalid_0's pr_auc: 0.733745\n",
            "[420]\tvalid_0's auc: 0.890264\tvalid_0's pr_auc: 0.72261\n",
            "[440]\tvalid_0's auc: 0.889604\tvalid_0's pr_auc: 0.727938\n",
            "[460]\tvalid_0's auc: 0.891254\tvalid_0's pr_auc: 0.729253\n",
            "[480]\tvalid_0's auc: 0.891584\tvalid_0's pr_auc: 0.73123\n",
            "[500]\tvalid_0's auc: 0.890264\tvalid_0's pr_auc: 0.72829\n",
            "[520]\tvalid_0's auc: 0.891254\tvalid_0's pr_auc: 0.730279\n",
            "[540]\tvalid_0's auc: 0.890594\tvalid_0's pr_auc: 0.72647\n",
            "[560]\tvalid_0's auc: 0.890594\tvalid_0's pr_auc: 0.72647\n",
            "[580]\tvalid_0's auc: 0.891089\tvalid_0's pr_auc: 0.732599\n",
            "[600]\tvalid_0's auc: 0.889769\tvalid_0's pr_auc: 0.731604\n",
            "[620]\tvalid_0's auc: 0.889769\tvalid_0's pr_auc: 0.730557\n",
            "[640]\tvalid_0's auc: 0.891749\tvalid_0's pr_auc: 0.737097\n",
            "[660]\tvalid_0's auc: 0.890099\tvalid_0's pr_auc: 0.734764\n",
            "[680]\tvalid_0's auc: 0.888449\tvalid_0's pr_auc: 0.718453\n",
            "[700]\tvalid_0's auc: 0.888944\tvalid_0's pr_auc: 0.722962\n",
            "==========================================================\n",
            "[20]\tvalid_0's auc: 0.91199\tvalid_0's pr_auc: 0.692028\n"
          ]
        },
        {
          "output_type": "stream",
          "name": "stderr",
          "text": [
            "/usr/local/lib/python3.7/dist-packages/lightgbm/callback.py:189: UserWarning: Early stopping is not available in dart mode\n",
            "  warnings.warn('Early stopping is not available in dart mode')\n"
          ]
        },
        {
          "output_type": "stream",
          "name": "stdout",
          "text": [
            "[40]\tvalid_0's auc: 0.916773\tvalid_0's pr_auc: 0.698472\n",
            "[60]\tvalid_0's auc: 0.917092\tvalid_0's pr_auc: 0.697804\n",
            "[80]\tvalid_0's auc: 0.915816\tvalid_0's pr_auc: 0.695036\n",
            "[100]\tvalid_0's auc: 0.915179\tvalid_0's pr_auc: 0.69084\n",
            "[120]\tvalid_0's auc: 0.913903\tvalid_0's pr_auc: 0.683524\n",
            "[140]\tvalid_0's auc: 0.914222\tvalid_0's pr_auc: 0.688177\n",
            "[160]\tvalid_0's auc: 0.915497\tvalid_0's pr_auc: 0.688859\n",
            "[180]\tvalid_0's auc: 0.916454\tvalid_0's pr_auc: 0.6939\n",
            "[200]\tvalid_0's auc: 0.91757\tvalid_0's pr_auc: 0.701468\n",
            "[220]\tvalid_0's auc: 0.916932\tvalid_0's pr_auc: 0.703186\n",
            "[240]\tvalid_0's auc: 0.916614\tvalid_0's pr_auc: 0.707118\n",
            "[260]\tvalid_0's auc: 0.912468\tvalid_0's pr_auc: 0.703848\n",
            "[280]\tvalid_0's auc: 0.913744\tvalid_0's pr_auc: 0.705179\n",
            "[300]\tvalid_0's auc: 0.915338\tvalid_0's pr_auc: 0.706789\n",
            "[320]\tvalid_0's auc: 0.913744\tvalid_0's pr_auc: 0.706073\n",
            "[340]\tvalid_0's auc: 0.9147\tvalid_0's pr_auc: 0.705017\n",
            "[360]\tvalid_0's auc: 0.911511\tvalid_0's pr_auc: 0.706695\n",
            "[380]\tvalid_0's auc: 0.911511\tvalid_0's pr_auc: 0.708712\n",
            "[400]\tvalid_0's auc: 0.910714\tvalid_0's pr_auc: 0.716724\n",
            "[420]\tvalid_0's auc: 0.911352\tvalid_0's pr_auc: 0.718886\n",
            "[440]\tvalid_0's auc: 0.911352\tvalid_0's pr_auc: 0.724004\n",
            "[460]\tvalid_0's auc: 0.909279\tvalid_0's pr_auc: 0.716566\n",
            "[480]\tvalid_0's auc: 0.909598\tvalid_0's pr_auc: 0.720825\n",
            "[500]\tvalid_0's auc: 0.91183\tvalid_0's pr_auc: 0.72516\n",
            "[520]\tvalid_0's auc: 0.913744\tvalid_0's pr_auc: 0.726111\n",
            "[540]\tvalid_0's auc: 0.9147\tvalid_0's pr_auc: 0.73075\n",
            "[560]\tvalid_0's auc: 0.914381\tvalid_0's pr_auc: 0.737928\n",
            "[580]\tvalid_0's auc: 0.910555\tvalid_0's pr_auc: 0.722669\n",
            "[600]\tvalid_0's auc: 0.913744\tvalid_0's pr_auc: 0.725756\n",
            "[620]\tvalid_0's auc: 0.913744\tvalid_0's pr_auc: 0.725305\n",
            "[640]\tvalid_0's auc: 0.91183\tvalid_0's pr_auc: 0.72716\n",
            "[660]\tvalid_0's auc: 0.912468\tvalid_0's pr_auc: 0.708361\n",
            "[680]\tvalid_0's auc: 0.910555\tvalid_0's pr_auc: 0.706694\n",
            "[700]\tvalid_0's auc: 0.912468\tvalid_0's pr_auc: 0.70567\n",
            "==========================================================\n"
          ]
        }
      ]
    },
    {
      "cell_type": "code",
      "metadata": {
        "colab": {
          "base_uri": "https://localhost:8080/"
        },
        "id": "pveWBDI_OBET",
        "outputId": "a9e69463-b29e-4d1a-cf3e-12ca6f5602b4"
      },
      "source": [
        "print(np.mean(auc_scores))"
      ],
      "execution_count": 57,
      "outputs": [
        {
          "output_type": "stream",
          "name": "stdout",
          "text": [
            "0.9341190354975601\n"
          ]
        }
      ]
    },
    {
      "cell_type": "code",
      "metadata": {
        "id": "IccYetaTbMVp"
      },
      "source": [
        ""
      ],
      "execution_count": null,
      "outputs": []
    }
  ]
}